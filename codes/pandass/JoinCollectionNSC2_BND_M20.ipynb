{
 "cells": [
  {
   "cell_type": "code",
   "execution_count": 8,
   "id": "5b79f272-3c99-47b8-ba72-dead860dcc92",
   "metadata": {
    "tags": []
   },
   "outputs": [],
   "source": [
    "import pymongo as mg\n",
    "import pandas as pd "
   ]
  },
  {
   "cell_type": "code",
   "execution_count": 9,
   "id": "e951c8eb-5e79-4949-9711-08b62cbf0ef3",
   "metadata": {
    "tags": []
   },
   "outputs": [],
   "source": [
    "client = mg.MongoClient(host='mongodb://localhost:27017')"
   ]
  },
  {
   "cell_type": "code",
   "execution_count": 10,
   "id": "1d3e01bc-71b1-4eae-866a-b3645afecc73",
   "metadata": {
    "tags": []
   },
   "outputs": [],
   "source": [
    "database = client['db_NHIS'] #Database 선택"
   ]
  },
  {
   "cell_type": "code",
   "execution_count": 11,
   "id": "78f39483-1314-4e0d-8add-245e58f35624",
   "metadata": {
    "tags": []
   },
   "outputs": [],
   "source": [
    "collection = database['Join Collection NSC2_BND_M20']"
   ]
  },
  {
   "cell_type": "code",
   "execution_count": 13,
   "id": "3815ddee-3a94-4acd-90cf-db6da47db9e9",
   "metadata": {
    "tags": []
   },
   "outputs": [],
   "source": [
    "cursor = collection.find({\"SICK_SYM1\":\"I10\"})"
   ]
  },
  {
   "cell_type": "code",
   "execution_count": 14,
   "id": "4c2f1724-a7d3-4571-bff2-5ed8770533b5",
   "metadata": {
    "tags": []
   },
   "outputs": [],
   "source": [
    "list_I10 = list(cursor) # casting"
   ]
  },
  {
   "cell_type": "code",
   "execution_count": 15,
   "id": "9f2c929d-f5ee-46ea-b3a6-73da35ab13c7",
   "metadata": {
    "tags": []
   },
   "outputs": [],
   "source": [
    "df_I10 = pd.DataFrame(list_I10) "
   ]
  },
  {
   "cell_type": "code",
   "execution_count": 16,
   "id": "2e1137bd-1b2e-47b4-8c6f-4818d53b3be2",
   "metadata": {
    "tags": []
   },
   "outputs": [
    {
     "data": {
      "text/html": [
       "<div>\n",
       "<style scoped>\n",
       "    .dataframe tbody tr th:only-of-type {\n",
       "        vertical-align: middle;\n",
       "    }\n",
       "\n",
       "    .dataframe tbody tr th {\n",
       "        vertical-align: top;\n",
       "    }\n",
       "\n",
       "    .dataframe thead th {\n",
       "        text-align: right;\n",
       "    }\n",
       "</style>\n",
       "<table border=\"1\" class=\"dataframe\">\n",
       "  <thead>\n",
       "    <tr style=\"text-align: right;\">\n",
       "      <th></th>\n",
       "      <th>_id</th>\n",
       "      <th>RN_INDI</th>\n",
       "      <th>BTH_YYYY</th>\n",
       "      <th>DTH_YYYYMM</th>\n",
       "      <th>COD1</th>\n",
       "      <th>RN_KEY</th>\n",
       "      <th>RN_INST</th>\n",
       "      <th>MDCARE_STRT_DT</th>\n",
       "      <th>FORM_CD</th>\n",
       "      <th>MCARE_SUBJ_CD</th>\n",
       "      <th>...</th>\n",
       "      <th>MDCARE_DD_CNT</th>\n",
       "      <th>VSHSP_DD_CNT</th>\n",
       "      <th>TOT_PRSC_DD_CNT</th>\n",
       "      <th>MCARE_RSLT_TYPE</th>\n",
       "      <th>EDC_ADD_RT</th>\n",
       "      <th>ED_RC_TOT_AMT</th>\n",
       "      <th>EDC_SBA</th>\n",
       "      <th>EDC_INSUR_BRDN_AMT</th>\n",
       "      <th>STD_YYYY</th>\n",
       "      <th>COD2</th>\n",
       "    </tr>\n",
       "  </thead>\n",
       "  <tbody>\n",
       "    <tr>\n",
       "      <th>0</th>\n",
       "      <td>64e6bbca5b6c745c7e44d6dd</td>\n",
       "      <td>646257</td>\n",
       "      <td>1921LE</td>\n",
       "      <td>200805.0</td>\n",
       "      <td>A15-A19</td>\n",
       "      <td>2002070306096</td>\n",
       "      <td>57097</td>\n",
       "      <td>20020710</td>\n",
       "      <td>3</td>\n",
       "      <td>1</td>\n",
       "      <td>...</td>\n",
       "      <td>1</td>\n",
       "      <td>1</td>\n",
       "      <td>30</td>\n",
       "      <td>5.0</td>\n",
       "      <td>0.15</td>\n",
       "      <td>7570</td>\n",
       "      <td>3000</td>\n",
       "      <td>4570</td>\n",
       "      <td>2002</td>\n",
       "      <td>NaN</td>\n",
       "    </tr>\n",
       "    <tr>\n",
       "      <th>1</th>\n",
       "      <td>64e6bbca5b6c745c7e44d6e2</td>\n",
       "      <td>646257</td>\n",
       "      <td>1921LE</td>\n",
       "      <td>200805.0</td>\n",
       "      <td>A15-A19</td>\n",
       "      <td>2002080588993</td>\n",
       "      <td>57097</td>\n",
       "      <td>20020805</td>\n",
       "      <td>3</td>\n",
       "      <td>1</td>\n",
       "      <td>...</td>\n",
       "      <td>2</td>\n",
       "      <td>2</td>\n",
       "      <td>60</td>\n",
       "      <td>5.0</td>\n",
       "      <td>0.15</td>\n",
       "      <td>18160</td>\n",
       "      <td>6000</td>\n",
       "      <td>12160</td>\n",
       "      <td>2002</td>\n",
       "      <td>NaN</td>\n",
       "    </tr>\n",
       "  </tbody>\n",
       "</table>\n",
       "<p>2 rows × 23 columns</p>\n",
       "</div>"
      ],
      "text/plain": [
       "                        _id  RN_INDI BTH_YYYY  DTH_YYYYMM     COD1  \\\n",
       "0  64e6bbca5b6c745c7e44d6dd   646257   1921LE    200805.0  A15-A19   \n",
       "1  64e6bbca5b6c745c7e44d6e2   646257   1921LE    200805.0  A15-A19   \n",
       "\n",
       "          RN_KEY  RN_INST  MDCARE_STRT_DT  FORM_CD  MCARE_SUBJ_CD  ...  \\\n",
       "0  2002070306096    57097        20020710        3              1  ...   \n",
       "1  2002080588993    57097        20020805        3              1  ...   \n",
       "\n",
       "  MDCARE_DD_CNT VSHSP_DD_CNT  TOT_PRSC_DD_CNT  MCARE_RSLT_TYPE  EDC_ADD_RT  \\\n",
       "0             1            1               30              5.0        0.15   \n",
       "1             2            2               60              5.0        0.15   \n",
       "\n",
       "   ED_RC_TOT_AMT  EDC_SBA  EDC_INSUR_BRDN_AMT  STD_YYYY  COD2  \n",
       "0           7570     3000                4570      2002   NaN  \n",
       "1          18160     6000               12160      2002   NaN  \n",
       "\n",
       "[2 rows x 23 columns]"
      ]
     },
     "execution_count": 16,
     "metadata": {},
     "output_type": "execute_result"
    }
   ],
   "source": [
    "df_I10[:2]"
   ]
  },
  {
   "cell_type": "code",
   "execution_count": 17,
   "id": "37cbf70c-0d63-422f-98da-8273c9aaa6c3",
   "metadata": {
    "tags": []
   },
   "outputs": [
    {
     "data": {
      "text/plain": [
       "Index(['_id', 'RN_INDI', 'BTH_YYYY', 'DTH_YYYYMM', 'COD1', 'RN_KEY', 'RN_INST',\n",
       "       'MDCARE_STRT_DT', 'FORM_CD', 'MCARE_SUBJ_CD', 'SICK_SYM1', 'OFIJ_TYPE',\n",
       "       'OPRTN_YN', 'MDCARE_DD_CNT', 'VSHSP_DD_CNT', 'TOT_PRSC_DD_CNT',\n",
       "       'MCARE_RSLT_TYPE', 'EDC_ADD_RT', 'ED_RC_TOT_AMT', 'EDC_SBA',\n",
       "       'EDC_INSUR_BRDN_AMT', 'STD_YYYY', 'COD2'],\n",
       "      dtype='object')"
      ]
     },
     "execution_count": 17,
     "metadata": {},
     "output_type": "execute_result"
    }
   ],
   "source": [
    "df_I10.columns"
   ]
  },
  {
   "cell_type": "code",
   "execution_count": 20,
   "id": "0975fc4b-20fe-4068-a7c1-0c73148fef2b",
   "metadata": {
    "tags": []
   },
   "outputs": [
    {
     "data": {
      "text/html": [
       "<div>\n",
       "<style scoped>\n",
       "    .dataframe tbody tr th:only-of-type {\n",
       "        vertical-align: middle;\n",
       "    }\n",
       "\n",
       "    .dataframe tbody tr th {\n",
       "        vertical-align: top;\n",
       "    }\n",
       "\n",
       "    .dataframe thead th {\n",
       "        text-align: right;\n",
       "    }\n",
       "</style>\n",
       "<table border=\"1\" class=\"dataframe\">\n",
       "  <thead>\n",
       "    <tr style=\"text-align: right;\">\n",
       "      <th></th>\n",
       "      <th>ED_RC_TOT_AMT</th>\n",
       "      <th>MCARE_SUBJ_CD</th>\n",
       "      <th>OPRTN_YN</th>\n",
       "      <th>MCARE_RSLT_TYPE</th>\n",
       "      <th>EDC_SBA</th>\n",
       "      <th>BTH_YYYY</th>\n",
       "    </tr>\n",
       "  </thead>\n",
       "  <tbody>\n",
       "    <tr>\n",
       "      <th>0</th>\n",
       "      <td>7570</td>\n",
       "      <td>1</td>\n",
       "      <td>0</td>\n",
       "      <td>5.0</td>\n",
       "      <td>3000</td>\n",
       "      <td>1921LE</td>\n",
       "    </tr>\n",
       "    <tr>\n",
       "      <th>1</th>\n",
       "      <td>18160</td>\n",
       "      <td>1</td>\n",
       "      <td>0</td>\n",
       "      <td>5.0</td>\n",
       "      <td>6000</td>\n",
       "      <td>1921LE</td>\n",
       "    </tr>\n",
       "  </tbody>\n",
       "</table>\n",
       "</div>"
      ],
      "text/plain": [
       "   ED_RC_TOT_AMT  MCARE_SUBJ_CD  OPRTN_YN  MCARE_RSLT_TYPE  EDC_SBA BTH_YYYY\n",
       "0           7570              1         0              5.0     3000   1921LE\n",
       "1          18160              1         0              5.0     6000   1921LE"
      ]
     },
     "execution_count": 20,
     "metadata": {},
     "output_type": "execute_result"
    }
   ],
   "source": [
    "df_I10 = df_I10[['ED_RC_TOT_AMT','MCARE_SUBJ_CD','OPRTN_YN','MCARE_RSLT_TYPE','EDC_SBA','BTH_YYYY']] # 목적/선택변수 선택 \n",
    "df_I10[:2]"
   ]
  },
  {
   "cell_type": "code",
   "execution_count": 21,
   "id": "e0271e97-bfeb-4c08-9e86-668dc3ad9513",
   "metadata": {
    "tags": []
   },
   "outputs": [],
   "source": [
    "df_I10.to_csv('../../dataset/Join Collection NSC2_BND_M20.csv') #저장"
   ]
  },
  {
   "cell_type": "code",
   "execution_count": null,
   "id": "97e09731-018c-426c-9851-54a30f5a207a",
   "metadata": {},
   "outputs": [],
   "source": []
  }
 ],
 "metadata": {
  "kernelspec": {
   "display_name": "Python 3 (ipykernel)",
   "language": "python",
   "name": "python3"
  },
  "language_info": {
   "codemirror_mode": {
    "name": "ipython",
    "version": 3
   },
   "file_extension": ".py",
   "mimetype": "text/x-python",
   "name": "python",
   "nbconvert_exporter": "python",
   "pygments_lexer": "ipython3",
   "version": "3.11.3"
  }
 },
 "nbformat": 4,
 "nbformat_minor": 5
}
