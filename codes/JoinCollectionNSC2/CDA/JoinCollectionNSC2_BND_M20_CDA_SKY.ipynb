{
 "cells": [
  {
   "cell_type": "code",
   "execution_count": 1,
   "id": "c7c18096-364f-44d4-be47-a15a8a8d5fb0",
   "metadata": {
    "tags": []
   },
   "outputs": [],
   "source": [
    "import matplotlib.pyplot as plt\n",
    "import matplotlib as mpl\n",
    "mpl.rc('font',family='Malgun Gothic')\n",
    "import seaborn as sns\n",
    "import pandas as pd\n",
    "import scipy.stats as stats"
   ]
  },
  {
   "cell_type": "markdown",
   "id": "86a00015-8f29-4288-a92e-438f6e170518",
   "metadata": {
    "jp-MarkdownHeadingCollapsed": true,
    "tags": []
   },
   "source": [
    "### 데이터 불러오기, null 값 삭제, 분석컬럼 추출, 연속형 -> 범주형으로 데이터 타입 변경"
   ]
  },
  {
   "cell_type": "code",
   "execution_count": 2,
   "id": "6b6e118a-1957-4539-97cd-f59d1153ea45",
   "metadata": {
    "tags": []
   },
   "outputs": [
    {
     "data": {
      "text/html": [
       "<div>\n",
       "<style scoped>\n",
       "    .dataframe tbody tr th:only-of-type {\n",
       "        vertical-align: middle;\n",
       "    }\n",
       "\n",
       "    .dataframe tbody tr th {\n",
       "        vertical-align: top;\n",
       "    }\n",
       "\n",
       "    .dataframe thead th {\n",
       "        text-align: right;\n",
       "    }\n",
       "</style>\n",
       "<table border=\"1\" class=\"dataframe\">\n",
       "  <thead>\n",
       "    <tr style=\"text-align: right;\">\n",
       "      <th></th>\n",
       "      <th>Unnamed: 0</th>\n",
       "      <th>ED_RC_TOT_AMT</th>\n",
       "      <th>MCARE_SUBJ_CD</th>\n",
       "      <th>OPRTN_YN</th>\n",
       "      <th>MCARE_RSLT_TYPE</th>\n",
       "      <th>EDC_SBA</th>\n",
       "      <th>BTH_YYYY</th>\n",
       "    </tr>\n",
       "  </thead>\n",
       "  <tbody>\n",
       "    <tr>\n",
       "      <th>0</th>\n",
       "      <td>0</td>\n",
       "      <td>7570</td>\n",
       "      <td>1</td>\n",
       "      <td>0</td>\n",
       "      <td>5.0</td>\n",
       "      <td>3000</td>\n",
       "      <td>1921LE</td>\n",
       "    </tr>\n",
       "    <tr>\n",
       "      <th>1</th>\n",
       "      <td>1</td>\n",
       "      <td>18160</td>\n",
       "      <td>1</td>\n",
       "      <td>0</td>\n",
       "      <td>5.0</td>\n",
       "      <td>6000</td>\n",
       "      <td>1921LE</td>\n",
       "    </tr>\n",
       "  </tbody>\n",
       "</table>\n",
       "</div>"
      ],
      "text/plain": [
       "   Unnamed: 0  ED_RC_TOT_AMT  MCARE_SUBJ_CD  OPRTN_YN  MCARE_RSLT_TYPE  \\\n",
       "0           0           7570              1         0              5.0   \n",
       "1           1          18160              1         0              5.0   \n",
       "\n",
       "   EDC_SBA BTH_YYYY  \n",
       "0     3000   1921LE  \n",
       "1     6000   1921LE  "
      ]
     },
     "execution_count": 2,
     "metadata": {},
     "output_type": "execute_result"
    }
   ],
   "source": [
    "df_JCN = pd.read_csv('../../../dataset/Join Collection NSC2_BND_M20.csv')\n",
    "df_JCN.head(2)"
   ]
  },
  {
   "cell_type": "code",
   "execution_count": 3,
   "id": "c737dadd-3a0c-4c5f-8dab-f72f209aa244",
   "metadata": {
    "tags": []
   },
   "outputs": [],
   "source": [
    "df_JCN = df_JCN.dropna()"
   ]
  },
  {
   "cell_type": "code",
   "execution_count": 4,
   "id": "a0b2240b-3497-4bd5-b5d5-3384ab9277b6",
   "metadata": {
    "tags": []
   },
   "outputs": [
    {
     "data": {
      "text/plain": [
       "Unnamed: 0         0\n",
       "ED_RC_TOT_AMT      0\n",
       "MCARE_SUBJ_CD      0\n",
       "OPRTN_YN           0\n",
       "MCARE_RSLT_TYPE    0\n",
       "EDC_SBA            0\n",
       "BTH_YYYY           0\n",
       "dtype: int64"
      ]
     },
     "execution_count": 4,
     "metadata": {},
     "output_type": "execute_result"
    }
   ],
   "source": [
    "df_JCN.isnull().sum()"
   ]
  },
  {
   "cell_type": "code",
   "execution_count": 5,
   "id": "bd751e15-a0bc-4ec3-bd55-5b8dcd4d431a",
   "metadata": {
    "tags": []
   },
   "outputs": [
    {
     "data": {
      "text/html": [
       "<div>\n",
       "<style scoped>\n",
       "    .dataframe tbody tr th:only-of-type {\n",
       "        vertical-align: middle;\n",
       "    }\n",
       "\n",
       "    .dataframe tbody tr th {\n",
       "        vertical-align: top;\n",
       "    }\n",
       "\n",
       "    .dataframe thead th {\n",
       "        text-align: right;\n",
       "    }\n",
       "</style>\n",
       "<table border=\"1\" class=\"dataframe\">\n",
       "  <thead>\n",
       "    <tr style=\"text-align: right;\">\n",
       "      <th></th>\n",
       "      <th>ED_RC_TOT_AMT</th>\n",
       "      <th>MCARE_SUBJ_CD</th>\n",
       "      <th>OPRTN_YN</th>\n",
       "      <th>MCARE_RSLT_TYPE</th>\n",
       "    </tr>\n",
       "  </thead>\n",
       "  <tbody>\n",
       "    <tr>\n",
       "      <th>0</th>\n",
       "      <td>7570</td>\n",
       "      <td>1</td>\n",
       "      <td>0</td>\n",
       "      <td>5.0</td>\n",
       "    </tr>\n",
       "    <tr>\n",
       "      <th>1</th>\n",
       "      <td>18160</td>\n",
       "      <td>1</td>\n",
       "      <td>0</td>\n",
       "      <td>5.0</td>\n",
       "    </tr>\n",
       "  </tbody>\n",
       "</table>\n",
       "</div>"
      ],
      "text/plain": [
       "   ED_RC_TOT_AMT  MCARE_SUBJ_CD  OPRTN_YN  MCARE_RSLT_TYPE\n",
       "0           7570              1         0              5.0\n",
       "1          18160              1         0              5.0"
      ]
     },
     "execution_count": 5,
     "metadata": {},
     "output_type": "execute_result"
    }
   ],
   "source": [
    "df_JCN_SKY = df_JCN[['ED_RC_TOT_AMT','MCARE_SUBJ_CD','OPRTN_YN','MCARE_RSLT_TYPE']]\n",
    "df_JCN_SKY[:2]"
   ]
  },
  {
   "cell_type": "code",
   "execution_count": 6,
   "id": "326a66a1-f23e-4e4b-b439-63e3a4b487f5",
   "metadata": {
    "tags": []
   },
   "outputs": [
    {
     "name": "stdout",
     "output_type": "stream",
     "text": [
      "<class 'pandas.core.frame.DataFrame'>\n",
      "Int64Index: 4205 entries, 0 to 4628\n",
      "Data columns (total 4 columns):\n",
      " #   Column           Non-Null Count  Dtype  \n",
      "---  ------           --------------  -----  \n",
      " 0   ED_RC_TOT_AMT    4205 non-null   int64  \n",
      " 1   MCARE_SUBJ_CD    4205 non-null   int64  \n",
      " 2   OPRTN_YN         4205 non-null   int64  \n",
      " 3   MCARE_RSLT_TYPE  4205 non-null   float64\n",
      "dtypes: float64(1), int64(3)\n",
      "memory usage: 164.3 KB\n"
     ]
    }
   ],
   "source": [
    "df_JCN_SKY.info()"
   ]
  },
  {
   "cell_type": "code",
   "execution_count": 7,
   "id": "36d304b6-c18f-4de3-adfa-443cd839b414",
   "metadata": {
    "tags": []
   },
   "outputs": [
    {
     "name": "stderr",
     "output_type": "stream",
     "text": [
      "C:\\Users\\01-09\\AppData\\Local\\Temp\\ipykernel_1236\\2275312239.py:1: SettingWithCopyWarning: \n",
      "A value is trying to be set on a copy of a slice from a DataFrame.\n",
      "Try using .loc[row_indexer,col_indexer] = value instead\n",
      "\n",
      "See the caveats in the documentation: https://pandas.pydata.org/pandas-docs/stable/user_guide/indexing.html#returning-a-view-versus-a-copy\n",
      "  df_JCN_SKY[['MCARE_SUBJ_CD','OPRTN_YN','MCARE_RSLT_TYPE']] = df_JCN_SKY[['MCARE_SUBJ_CD','OPRTN_YN','MCARE_RSLT_TYPE']].astype(str)\n"
     ]
    }
   ],
   "source": [
    "df_JCN_SKY[['MCARE_SUBJ_CD','OPRTN_YN','MCARE_RSLT_TYPE']] = df_JCN_SKY[['MCARE_SUBJ_CD','OPRTN_YN','MCARE_RSLT_TYPE']].astype(str)"
   ]
  },
  {
   "cell_type": "code",
   "execution_count": 8,
   "id": "6e0765e8-6c17-4d59-83ea-e8d8ad2a3b62",
   "metadata": {
    "tags": []
   },
   "outputs": [
    {
     "name": "stdout",
     "output_type": "stream",
     "text": [
      "<class 'pandas.core.frame.DataFrame'>\n",
      "Int64Index: 4205 entries, 0 to 4628\n",
      "Data columns (total 4 columns):\n",
      " #   Column           Non-Null Count  Dtype \n",
      "---  ------           --------------  ----- \n",
      " 0   ED_RC_TOT_AMT    4205 non-null   int64 \n",
      " 1   MCARE_SUBJ_CD    4205 non-null   object\n",
      " 2   OPRTN_YN         4205 non-null   object\n",
      " 3   MCARE_RSLT_TYPE  4205 non-null   object\n",
      "dtypes: int64(1), object(3)\n",
      "memory usage: 164.3+ KB\n"
     ]
    }
   ],
   "source": [
    "df_JCN_SKY.info()"
   ]
  },
  {
   "cell_type": "markdown",
   "id": "22886dea-4a07-44c6-8c2d-d7f178433307",
   "metadata": {},
   "source": [
    "## - 목표변수(Y) : ED_RC_TOT_AMT(요양급여비용총액)\n",
    "## - 설명변수 (X) : MCARE_SUBJ_CD(진료과목코드), OPRTN_YN(수술여부), MCARE_RSLT_TYPE(진료결과구분)"
   ]
  },
  {
   "cell_type": "markdown",
   "id": "b7e4d9e8-2553-4524-ab0b-1c42dc3bf463",
   "metadata": {
    "jp-MarkdownHeadingCollapsed": true,
    "tags": []
   },
   "source": [
    "### 선정변수 : MCARE_SUBJ_CD / ED_RC_TOT_AMT (범주형 / 연속형)\n",
    " - 분석내용 : 진료과목 코드에 따라 요양급여비용총액에 영향이 있을까?\n",
    "   - 귀무가설 : 진료과목 코드에 따라 요양급여비용총액에 차이가 없다.\n",
    "   - 대립가설 : 진료과목 코드에 따라 요양급여비용총액에 차이가 있다.\n",
    "   \n",
    " - 분석 결론 : P.value (0.0407) < 0.05 : 대립가설 참\n",
    "   - 통계 결론 : KruskalResult(statistic=6.402935921932224, pvalue=0.0407024105519787) 으로 대립가설 참\n",
    "   - 사실 결론 : 진료과목 코드에 따라 요양급여비용총액에 차이가 있다."
   ]
  },
  {
   "cell_type": "markdown",
   "id": "4e84c421-b084-4d0d-88ef-18066faed1d0",
   "metadata": {},
   "source": [
    "#### 정규성 확인\n",
    " - 연속형인지 아닌지 확인\n",
    " - 5천개이하(4205)이므로 shapiro test 사용\n",
    " - statistic < cv(pvalue) : 정규 , statistic > cv(pvalue) : 비정규"
   ]
  },
  {
   "cell_type": "code",
   "execution_count": 10,
   "id": "d9b06263-3aec-4072-9572-6f762f06704c",
   "metadata": {
    "tags": []
   },
   "outputs": [
    {
     "data": {
      "text/plain": [
       "ShapiroResult(statistic=0.06868833303451538, pvalue=0.0)"
      ]
     },
     "execution_count": 10,
     "metadata": {},
     "output_type": "execute_result"
    }
   ],
   "source": [
    "stats.shapiro(df_JCN_SKY['ED_RC_TOT_AMT'])\n",
    "\n",
    "##  statistic > cv 임으로 비정규"
   ]
  },
  {
   "cell_type": "markdown",
   "id": "6aa42517-5341-4a23-bece-2dcd1cfedbb3",
   "metadata": {},
   "source": [
    "#### 비정규 분포\n",
    "- MCARE_SUBJ_CD(진료과목코드)는 범주형 3집단 이상 (kruskal 사용)\n",
    "- ED_RC_TOT_AMT(요양급여비용총액)이 가장 높은 top3만 비교\n",
    "- EDA에서 ED_RC_TOT_AMT(요양급여비용총액)이 가장 긴 MCARE_SUBJ_CD(진료과목코드) top3 추출 (1(내과), 23(가정의학과), 5(정형외과))"
   ]
  },
  {
   "cell_type": "code",
   "execution_count": 11,
   "id": "1238a5ff-8976-4cba-8b99-4c29623978bd",
   "metadata": {
    "tags": []
   },
   "outputs": [],
   "source": [
    "# 필터링, 추출 \n",
    "conditions = (df_JCN_SKY['MCARE_SUBJ_CD']=='1') | (df_JCN_SKY['MCARE_SUBJ_CD']=='23') |(df_JCN_SKY['MCARE_SUBJ_CD']=='5')\n",
    "conditions   \n",
    "df_diagnosis = df_JCN_SKY[conditions][['MCARE_SUBJ_CD','ED_RC_TOT_AMT']]     "
   ]
  },
  {
   "cell_type": "code",
   "execution_count": 12,
   "id": "d276a352-e836-4d3b-968f-ff3af0b4e103",
   "metadata": {
    "tags": []
   },
   "outputs": [
    {
     "data": {
      "text/plain": [
       "MCARE_SUBJ_CD    0\n",
       "ED_RC_TOT_AMT    0\n",
       "dtype: int64"
      ]
     },
     "execution_count": 12,
     "metadata": {},
     "output_type": "execute_result"
    }
   ],
   "source": [
    "df_diagnosis.isnull().sum()"
   ]
  },
  {
   "cell_type": "code",
   "execution_count": 13,
   "id": "e3ba5298-bd0f-4f81-a130-ca30a44dd3b8",
   "metadata": {
    "tags": []
   },
   "outputs": [
    {
     "data": {
      "text/html": [
       "<div>\n",
       "<style scoped>\n",
       "    .dataframe tbody tr th:only-of-type {\n",
       "        vertical-align: middle;\n",
       "    }\n",
       "\n",
       "    .dataframe tbody tr th {\n",
       "        vertical-align: top;\n",
       "    }\n",
       "\n",
       "    .dataframe thead th {\n",
       "        text-align: right;\n",
       "    }\n",
       "</style>\n",
       "<table border=\"1\" class=\"dataframe\">\n",
       "  <thead>\n",
       "    <tr style=\"text-align: right;\">\n",
       "      <th></th>\n",
       "      <th>MCARE_SUBJ_CD</th>\n",
       "      <th>ED_RC_TOT_AMT</th>\n",
       "    </tr>\n",
       "  </thead>\n",
       "  <tbody>\n",
       "    <tr>\n",
       "      <th>0</th>\n",
       "      <td>1</td>\n",
       "      <td>7570</td>\n",
       "    </tr>\n",
       "    <tr>\n",
       "      <th>1</th>\n",
       "      <td>1</td>\n",
       "      <td>18160</td>\n",
       "    </tr>\n",
       "  </tbody>\n",
       "</table>\n",
       "</div>"
      ],
      "text/plain": [
       "  MCARE_SUBJ_CD  ED_RC_TOT_AMT\n",
       "0             1           7570\n",
       "1             1          18160"
      ]
     },
     "execution_count": 13,
     "metadata": {},
     "output_type": "execute_result"
    }
   ],
   "source": [
    "df_diagnosis[:2]"
   ]
  },
  {
   "cell_type": "code",
   "execution_count": 14,
   "id": "6b20e2b1-7dd8-4fa9-aeb3-be4c30713d23",
   "metadata": {
    "tags": []
   },
   "outputs": [
    {
     "data": {
      "text/plain": [
       "['1', '23', '5']"
      ]
     },
     "execution_count": 14,
     "metadata": {},
     "output_type": "execute_result"
    }
   ],
   "source": [
    "diagnosis_list = df_diagnosis['MCARE_SUBJ_CD'].value_counts().index.to_list()\n",
    "diagnosis_list"
   ]
  },
  {
   "cell_type": "code",
   "execution_count": 16,
   "id": "77dc8320-cca5-4e34-8d2f-ee275a4e8d97",
   "metadata": {
    "tags": []
   },
   "outputs": [],
   "source": [
    "df_result = [] # df_result =list()  # 각각 변수로 받아야하니깐 결과값을 list로 받음 \n",
    "for item in diagnosis_list :\n",
    "    condition = (df_diagnosis['MCARE_SUBJ_CD'] == item )\n",
    "    df_result.append(df_diagnosis[condition]) "
   ]
  },
  {
   "cell_type": "code",
   "execution_count": 17,
   "id": "e2b825b2-0b5f-44ad-bddf-271b4a2419e3",
   "metadata": {
    "tags": []
   },
   "outputs": [
    {
     "data": {
      "text/plain": [
       "3"
      ]
     },
     "execution_count": 17,
     "metadata": {},
     "output_type": "execute_result"
    }
   ],
   "source": [
    "len(df_result)"
   ]
  },
  {
   "cell_type": "code",
   "execution_count": 18,
   "id": "03e29941-9016-431c-9975-74e5a7a8454b",
   "metadata": {
    "tags": []
   },
   "outputs": [
    {
     "data": {
      "text/html": [
       "<div>\n",
       "<style scoped>\n",
       "    .dataframe tbody tr th:only-of-type {\n",
       "        vertical-align: middle;\n",
       "    }\n",
       "\n",
       "    .dataframe tbody tr th {\n",
       "        vertical-align: top;\n",
       "    }\n",
       "\n",
       "    .dataframe thead th {\n",
       "        text-align: right;\n",
       "    }\n",
       "</style>\n",
       "<table border=\"1\" class=\"dataframe\">\n",
       "  <thead>\n",
       "    <tr style=\"text-align: right;\">\n",
       "      <th></th>\n",
       "      <th>MCARE_SUBJ_CD</th>\n",
       "      <th>ED_RC_TOT_AMT</th>\n",
       "    </tr>\n",
       "  </thead>\n",
       "  <tbody>\n",
       "    <tr>\n",
       "      <th>0</th>\n",
       "      <td>1</td>\n",
       "      <td>7570</td>\n",
       "    </tr>\n",
       "    <tr>\n",
       "      <th>1</th>\n",
       "      <td>1</td>\n",
       "      <td>18160</td>\n",
       "    </tr>\n",
       "  </tbody>\n",
       "</table>\n",
       "</div>"
      ],
      "text/plain": [
       "  MCARE_SUBJ_CD  ED_RC_TOT_AMT\n",
       "0             1           7570\n",
       "1             1          18160"
      ]
     },
     "execution_count": 18,
     "metadata": {},
     "output_type": "execute_result"
    }
   ],
   "source": [
    "df_result[0][:2]"
   ]
  },
  {
   "cell_type": "code",
   "execution_count": 19,
   "id": "5d748069-fbd5-466d-81ae-dbfa7f63cda1",
   "metadata": {
    "tags": []
   },
   "outputs": [
    {
     "data": {
      "text/plain": [
       "KruskalResult(statistic=6.402935921932224, pvalue=0.0407024105519787)"
      ]
     },
     "execution_count": 19,
     "metadata": {},
     "output_type": "execute_result"
    }
   ],
   "source": [
    "stats.kruskal(df_result[0]['ED_RC_TOT_AMT'],df_result[1]['ED_RC_TOT_AMT'],df_result[2]['ED_RC_TOT_AMT'])"
   ]
  },
  {
   "cell_type": "markdown",
   "id": "f63eaae2-b850-4f3f-ab62-95aceb05adbd",
   "metadata": {
    "jp-MarkdownHeadingCollapsed": true,
    "tags": []
   },
   "source": [
    "### 선정변수 : MCARE_RSLT_TYPE / ED_RC_TOT_AMT (범주형 / 연속형)\n",
    " - 분석내용 : 진료결과에 따라 요양급여비용총액에 영향이 있을까?\n",
    "   - 귀무가설 : 진료결과에 따라 요양급여비용총액에 차이가 없다.\n",
    "   - 대립가설 : 진료결과에 따라 요양급여비용총액에 차이가 있다.\n",
    "   \n",
    " - 분석 결론 : P.value (6.26251) > 0.05 : 대립가설 참\n",
    "   - 통계 결론 : KruskalResult(statistic=129.70452394994325, pvalue=6.262511796518197e-28) 으로 귀무가설 참\n",
    "   - 사실 결론 : 진료결과에 따라 요양급여비용총액에 차이가 없다."
   ]
  },
  {
   "cell_type": "code",
   "execution_count": 24,
   "id": "72a071a9-3a04-4054-af93-a91563544107",
   "metadata": {
    "tags": []
   },
   "outputs": [],
   "source": [
    "# 필터링, 추출 \n",
    "conditions = (df_JCN_SKY['MCARE_RSLT_TYPE']=='5.0') | (df_JCN_SKY['MCARE_RSLT_TYPE']=='1.0') | (df_JCN_SKY['MCARE_RSLT_TYPE']=='9.0') |(df_JCN_SKY['MCARE_RSLT_TYPE']=='2.0')\n",
    "conditions   \n",
    "df_diagresult = df_JCN_SKY[conditions][['MCARE_RSLT_TYPE','ED_RC_TOT_AMT']]"
   ]
  },
  {
   "cell_type": "code",
   "execution_count": 25,
   "id": "a6f04f63-3623-4095-8eb5-22d13e06e504",
   "metadata": {
    "tags": []
   },
   "outputs": [
    {
     "data": {
      "text/plain": [
       "MCARE_RSLT_TYPE    0\n",
       "ED_RC_TOT_AMT      0\n",
       "dtype: int64"
      ]
     },
     "execution_count": 25,
     "metadata": {},
     "output_type": "execute_result"
    }
   ],
   "source": [
    "df_diagresult.isnull().sum()"
   ]
  },
  {
   "cell_type": "code",
   "execution_count": 26,
   "id": "e0bac975-37f4-4f98-9be6-67e62d6fce25",
   "metadata": {
    "tags": []
   },
   "outputs": [
    {
     "data": {
      "text/html": [
       "<div>\n",
       "<style scoped>\n",
       "    .dataframe tbody tr th:only-of-type {\n",
       "        vertical-align: middle;\n",
       "    }\n",
       "\n",
       "    .dataframe tbody tr th {\n",
       "        vertical-align: top;\n",
       "    }\n",
       "\n",
       "    .dataframe thead th {\n",
       "        text-align: right;\n",
       "    }\n",
       "</style>\n",
       "<table border=\"1\" class=\"dataframe\">\n",
       "  <thead>\n",
       "    <tr style=\"text-align: right;\">\n",
       "      <th></th>\n",
       "      <th>MCARE_RSLT_TYPE</th>\n",
       "      <th>ED_RC_TOT_AMT</th>\n",
       "    </tr>\n",
       "  </thead>\n",
       "  <tbody>\n",
       "    <tr>\n",
       "      <th>0</th>\n",
       "      <td>5.0</td>\n",
       "      <td>7570</td>\n",
       "    </tr>\n",
       "    <tr>\n",
       "      <th>1</th>\n",
       "      <td>5.0</td>\n",
       "      <td>18160</td>\n",
       "    </tr>\n",
       "  </tbody>\n",
       "</table>\n",
       "</div>"
      ],
      "text/plain": [
       "  MCARE_RSLT_TYPE  ED_RC_TOT_AMT\n",
       "0             5.0           7570\n",
       "1             5.0          18160"
      ]
     },
     "execution_count": 26,
     "metadata": {},
     "output_type": "execute_result"
    }
   ],
   "source": [
    "df_diagresult[:2]"
   ]
  },
  {
   "cell_type": "code",
   "execution_count": 27,
   "id": "a72d94c7-50b6-4b9f-8b70-b11a3fe1bc53",
   "metadata": {
    "tags": []
   },
   "outputs": [
    {
     "data": {
      "text/plain": [
       "['1.0', '5.0', '9.0', '2.0']"
      ]
     },
     "execution_count": 27,
     "metadata": {},
     "output_type": "execute_result"
    }
   ],
   "source": [
    "result_list = df_diagresult['MCARE_RSLT_TYPE'].value_counts().index.to_list()\n",
    "result_list"
   ]
  },
  {
   "cell_type": "code",
   "execution_count": 28,
   "id": "7b0e8cc1-b920-4c60-98a2-7d153974c784",
   "metadata": {
    "tags": []
   },
   "outputs": [],
   "source": [
    "df_result2 = [] # df_result =list()  # 각각 변수로 받아야하니깐 결과값을 list로 받음 \n",
    "for item in result_list :\n",
    "    condition = (df_diagresult['MCARE_RSLT_TYPE'] == item )\n",
    "    df_result2.append(df_diagresult[condition])"
   ]
  },
  {
   "cell_type": "code",
   "execution_count": 29,
   "id": "45342ec1-e04b-490c-8b7b-23ea2ecd2953",
   "metadata": {
    "tags": []
   },
   "outputs": [
    {
     "data": {
      "text/plain": [
       "4"
      ]
     },
     "execution_count": 29,
     "metadata": {},
     "output_type": "execute_result"
    }
   ],
   "source": [
    "len(df_result2)"
   ]
  },
  {
   "cell_type": "code",
   "execution_count": 30,
   "id": "addd2d04-0f90-4715-9a33-a8771149b406",
   "metadata": {
    "tags": []
   },
   "outputs": [
    {
     "data": {
      "text/html": [
       "<div>\n",
       "<style scoped>\n",
       "    .dataframe tbody tr th:only-of-type {\n",
       "        vertical-align: middle;\n",
       "    }\n",
       "\n",
       "    .dataframe tbody tr th {\n",
       "        vertical-align: top;\n",
       "    }\n",
       "\n",
       "    .dataframe thead th {\n",
       "        text-align: right;\n",
       "    }\n",
       "</style>\n",
       "<table border=\"1\" class=\"dataframe\">\n",
       "  <thead>\n",
       "    <tr style=\"text-align: right;\">\n",
       "      <th></th>\n",
       "      <th>MCARE_RSLT_TYPE</th>\n",
       "      <th>ED_RC_TOT_AMT</th>\n",
       "    </tr>\n",
       "  </thead>\n",
       "  <tbody>\n",
       "    <tr>\n",
       "      <th>3</th>\n",
       "      <td>1.0</td>\n",
       "      <td>14200</td>\n",
       "    </tr>\n",
       "    <tr>\n",
       "      <th>6</th>\n",
       "      <td>1.0</td>\n",
       "      <td>11930</td>\n",
       "    </tr>\n",
       "  </tbody>\n",
       "</table>\n",
       "</div>"
      ],
      "text/plain": [
       "  MCARE_RSLT_TYPE  ED_RC_TOT_AMT\n",
       "3             1.0          14200\n",
       "6             1.0          11930"
      ]
     },
     "execution_count": 30,
     "metadata": {},
     "output_type": "execute_result"
    }
   ],
   "source": [
    "df_result2[0][:2]"
   ]
  },
  {
   "cell_type": "code",
   "execution_count": 31,
   "id": "da56bbd1-8105-4c32-9af9-2a4ee6e9bafd",
   "metadata": {
    "tags": []
   },
   "outputs": [
    {
     "data": {
      "text/plain": [
       "KruskalResult(statistic=129.70452394994325, pvalue=6.262511796518197e-28)"
      ]
     },
     "execution_count": 31,
     "metadata": {},
     "output_type": "execute_result"
    }
   ],
   "source": [
    "stats.kruskal(df_result2[0]['ED_RC_TOT_AMT'],df_result2[1]['ED_RC_TOT_AMT'],df_result2[2]['ED_RC_TOT_AMT'],df_result2[3]['ED_RC_TOT_AMT'])"
   ]
  },
  {
   "cell_type": "markdown",
   "id": "5506e6f8-f027-4ce5-a4bf-2e6d6a60ee46",
   "metadata": {
    "jp-MarkdownHeadingCollapsed": true,
    "tags": []
   },
   "source": [
    "### 선정변수 : OPRTN_YN / ED_RC_TOT_AMT (범주형 / 연속형)\n",
    " - 분석내용 : 수술 여부에 따라 요양급여비용총액에 영향이 있을까?\n",
    "   - 귀무가설 : 수술 여부에 따라 요양급여비용총액에 차이가 없다.\n",
    "   - 대립가설 : 수술 여부에 따라 요양급여비용총액에 차이가 있다.\n",
    "   \n",
    " - 분석 결론 : P.value (0.00271) < 0.05 : 대립가설 참\n",
    "   - 통계 결론 : RanksumsResult(statistic=-2.998573127148773, pvalue=0.0027124705352598944) 으로 대립가설 참\n",
    "   - 사실 결론 : 수술 여부에 따라 요양급여비용총액에 차이가 있다."
   ]
  },
  {
   "cell_type": "markdown",
   "id": "9426c250-b196-4ddd-95ef-a72ce6eaeb5f",
   "metadata": {},
   "source": [
    "#### 비정규 분포\n",
    "- 수술여부는 범주형 2집단 (ranksums 사용)"
   ]
  },
  {
   "cell_type": "code",
   "execution_count": 32,
   "id": "1387cb64-5be0-4a7f-a05e-894022c31e32",
   "metadata": {
    "tags": []
   },
   "outputs": [
    {
     "data": {
      "text/html": [
       "<div>\n",
       "<style scoped>\n",
       "    .dataframe tbody tr th:only-of-type {\n",
       "        vertical-align: middle;\n",
       "    }\n",
       "\n",
       "    .dataframe tbody tr th {\n",
       "        vertical-align: top;\n",
       "    }\n",
       "\n",
       "    .dataframe thead th {\n",
       "        text-align: right;\n",
       "    }\n",
       "</style>\n",
       "<table border=\"1\" class=\"dataframe\">\n",
       "  <thead>\n",
       "    <tr style=\"text-align: right;\">\n",
       "      <th></th>\n",
       "      <th>ED_RC_TOT_AMT</th>\n",
       "      <th>MCARE_SUBJ_CD</th>\n",
       "      <th>OPRTN_YN</th>\n",
       "      <th>MCARE_RSLT_TYPE</th>\n",
       "    </tr>\n",
       "  </thead>\n",
       "  <tbody>\n",
       "    <tr>\n",
       "      <th>0</th>\n",
       "      <td>7570</td>\n",
       "      <td>1</td>\n",
       "      <td>0</td>\n",
       "      <td>5.0</td>\n",
       "    </tr>\n",
       "    <tr>\n",
       "      <th>1</th>\n",
       "      <td>18160</td>\n",
       "      <td>1</td>\n",
       "      <td>0</td>\n",
       "      <td>5.0</td>\n",
       "    </tr>\n",
       "  </tbody>\n",
       "</table>\n",
       "</div>"
      ],
      "text/plain": [
       "   ED_RC_TOT_AMT MCARE_SUBJ_CD OPRTN_YN MCARE_RSLT_TYPE\n",
       "0           7570             1        0             5.0\n",
       "1          18160             1        0             5.0"
      ]
     },
     "execution_count": 32,
     "metadata": {},
     "output_type": "execute_result"
    }
   ],
   "source": [
    "df_OPRTN_no = df_JCN_SKY[df_JCN_SKY['OPRTN_YN'] == '0']\n",
    "df_OPRTN_no[:2]"
   ]
  },
  {
   "cell_type": "code",
   "execution_count": 33,
   "id": "4dd92bdc-94ce-4c68-8e44-c784d5412999",
   "metadata": {
    "tags": []
   },
   "outputs": [
    {
     "data": {
      "text/html": [
       "<div>\n",
       "<style scoped>\n",
       "    .dataframe tbody tr th:only-of-type {\n",
       "        vertical-align: middle;\n",
       "    }\n",
       "\n",
       "    .dataframe tbody tr th {\n",
       "        vertical-align: top;\n",
       "    }\n",
       "\n",
       "    .dataframe thead th {\n",
       "        text-align: right;\n",
       "    }\n",
       "</style>\n",
       "<table border=\"1\" class=\"dataframe\">\n",
       "  <thead>\n",
       "    <tr style=\"text-align: right;\">\n",
       "      <th></th>\n",
       "      <th>ED_RC_TOT_AMT</th>\n",
       "      <th>MCARE_SUBJ_CD</th>\n",
       "      <th>OPRTN_YN</th>\n",
       "      <th>MCARE_RSLT_TYPE</th>\n",
       "    </tr>\n",
       "  </thead>\n",
       "  <tbody>\n",
       "    <tr>\n",
       "      <th>4335</th>\n",
       "      <td>313930</td>\n",
       "      <td>1</td>\n",
       "      <td>9</td>\n",
       "      <td>1.0</td>\n",
       "    </tr>\n",
       "    <tr>\n",
       "      <th>4579</th>\n",
       "      <td>8420</td>\n",
       "      <td>1</td>\n",
       "      <td>9</td>\n",
       "      <td>5.0</td>\n",
       "    </tr>\n",
       "  </tbody>\n",
       "</table>\n",
       "</div>"
      ],
      "text/plain": [
       "      ED_RC_TOT_AMT MCARE_SUBJ_CD OPRTN_YN MCARE_RSLT_TYPE\n",
       "4335         313930             1        9             1.0\n",
       "4579           8420             1        9             5.0"
      ]
     },
     "execution_count": 33,
     "metadata": {},
     "output_type": "execute_result"
    }
   ],
   "source": [
    "df_OPRTN_yes = df_JCN_SKY[df_JCN_SKY['OPRTN_YN'] == '9']\n",
    "df_OPRTN_yes[:2]"
   ]
  },
  {
   "cell_type": "code",
   "execution_count": 34,
   "id": "e5e00e1e-9e59-4f7a-ab03-9a2c136a6751",
   "metadata": {
    "tags": []
   },
   "outputs": [
    {
     "data": {
      "text/plain": [
       "RanksumsResult(statistic=-2.998573127148773, pvalue=0.0027124705352598944)"
      ]
     },
     "execution_count": 34,
     "metadata": {},
     "output_type": "execute_result"
    }
   ],
   "source": [
    "stats.ranksums(df_OPRTN_no['OPRTN_YN'], df_OPRTN_yes['OPRTN_YN'])"
   ]
  }
 ],
 "metadata": {
  "kernelspec": {
   "display_name": "Python 3 (ipykernel)",
   "language": "python",
   "name": "python3"
  },
  "language_info": {
   "codemirror_mode": {
    "name": "ipython",
    "version": 3
   },
   "file_extension": ".py",
   "mimetype": "text/x-python",
   "name": "python",
   "nbconvert_exporter": "python",
   "pygments_lexer": "ipython3",
   "version": "3.11.3"
  }
 },
 "nbformat": 4,
 "nbformat_minor": 5
}
