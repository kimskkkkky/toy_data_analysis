{
 "cells": [
  {
   "cell_type": "code",
   "execution_count": 2,
   "id": "2ab7f120-ef5c-4eb8-8dd1-c77552d972a5",
   "metadata": {
    "tags": []
   },
   "outputs": [],
   "source": [
    "import matplotlib.pyplot as plt\n",
    "import matplotlib as mpl\n",
    "mpl.rc('font',family='Malgun Gothic')\n",
    "import seaborn as sns\n",
    "import pandas as pd\n",
    "import scipy.stats as stats"
   ]
  },
  {
   "cell_type": "code",
   "execution_count": 3,
   "id": "b3229dd0-167d-4a11-ba09-6f1c50f35d99",
   "metadata": {
    "tags": []
   },
   "outputs": [
    {
     "data": {
      "text/html": [
       "<div>\n",
       "<style scoped>\n",
       "    .dataframe tbody tr th:only-of-type {\n",
       "        vertical-align: middle;\n",
       "    }\n",
       "\n",
       "    .dataframe tbody tr th {\n",
       "        vertical-align: top;\n",
       "    }\n",
       "\n",
       "    .dataframe thead th {\n",
       "        text-align: right;\n",
       "    }\n",
       "</style>\n",
       "<table border=\"1\" class=\"dataframe\">\n",
       "  <thead>\n",
       "    <tr style=\"text-align: right;\">\n",
       "      <th></th>\n",
       "      <th>Unnamed: 0</th>\n",
       "      <th>ED_RC_TOT_AMT</th>\n",
       "      <th>MCARE_SUBJ_CD</th>\n",
       "      <th>OPRTN_YN</th>\n",
       "      <th>MCARE_RSLT_TYPE</th>\n",
       "      <th>EDC_SBA</th>\n",
       "      <th>BTH_YYYY</th>\n",
       "    </tr>\n",
       "  </thead>\n",
       "  <tbody>\n",
       "    <tr>\n",
       "      <th>0</th>\n",
       "      <td>0</td>\n",
       "      <td>7570</td>\n",
       "      <td>1</td>\n",
       "      <td>0</td>\n",
       "      <td>5.0</td>\n",
       "      <td>3000</td>\n",
       "      <td>1921LE</td>\n",
       "    </tr>\n",
       "    <tr>\n",
       "      <th>1</th>\n",
       "      <td>1</td>\n",
       "      <td>18160</td>\n",
       "      <td>1</td>\n",
       "      <td>0</td>\n",
       "      <td>5.0</td>\n",
       "      <td>6000</td>\n",
       "      <td>1921LE</td>\n",
       "    </tr>\n",
       "  </tbody>\n",
       "</table>\n",
       "</div>"
      ],
      "text/plain": [
       "   Unnamed: 0  ED_RC_TOT_AMT  MCARE_SUBJ_CD  OPRTN_YN  MCARE_RSLT_TYPE  \\\n",
       "0           0           7570              1         0              5.0   \n",
       "1           1          18160              1         0              5.0   \n",
       "\n",
       "   EDC_SBA BTH_YYYY  \n",
       "0     3000   1921LE  \n",
       "1     6000   1921LE  "
      ]
     },
     "execution_count": 3,
     "metadata": {},
     "output_type": "execute_result"
    }
   ],
   "source": [
    "df_JCN = pd.read_csv('../../../dataset/Join Collection NSC2_BND_M20.csv')\n",
    "df_JCN.head(2)"
   ]
  },
  {
   "cell_type": "code",
   "execution_count": 24,
   "id": "61684443-82b8-44cc-a7e8-bcc4d53806d8",
   "metadata": {
    "tags": []
   },
   "outputs": [
    {
     "data": {
      "text/plain": [
       "Index(['Unnamed: 0', 'ED_RC_TOT_AMT', 'MCARE_SUBJ_CD', 'OPRTN_YN',\n",
       "       'MCARE_RSLT_TYPE', 'EDC_SBA', 'BTH_YYYY'],\n",
       "      dtype='object')"
      ]
     },
     "execution_count": 24,
     "metadata": {},
     "output_type": "execute_result"
    }
   ],
   "source": [
    "df_JCN.columns"
   ]
  },
  {
   "cell_type": "code",
   "execution_count": 25,
   "id": "1356f76d-c1bf-444e-a67f-a6b7bd1991d6",
   "metadata": {
    "tags": []
   },
   "outputs": [
    {
     "data": {
      "text/plain": [
       "Unnamed: 0           0\n",
       "ED_RC_TOT_AMT        0\n",
       "MCARE_SUBJ_CD        0\n",
       "OPRTN_YN             0\n",
       "MCARE_RSLT_TYPE    424\n",
       "EDC_SBA              0\n",
       "BTH_YYYY             0\n",
       "dtype: int64"
      ]
     },
     "execution_count": 25,
     "metadata": {},
     "output_type": "execute_result"
    }
   ],
   "source": [
    "df_JCN.isnull().sum()"
   ]
  },
  {
   "cell_type": "code",
   "execution_count": 26,
   "id": "90f2f698-2fe0-4f21-b0e3-3ffcdf8c95a1",
   "metadata": {
    "tags": []
   },
   "outputs": [],
   "source": [
    "df_JCN = df_JCN.dropna()"
   ]
  },
  {
   "cell_type": "code",
   "execution_count": 27,
   "id": "00e5558f-0778-4396-b82a-ea487b020e97",
   "metadata": {
    "tags": []
   },
   "outputs": [
    {
     "data": {
      "text/plain": [
       "Unnamed: 0         0\n",
       "ED_RC_TOT_AMT      0\n",
       "MCARE_SUBJ_CD      0\n",
       "OPRTN_YN           0\n",
       "MCARE_RSLT_TYPE    0\n",
       "EDC_SBA            0\n",
       "BTH_YYYY           0\n",
       "dtype: int64"
      ]
     },
     "execution_count": 27,
     "metadata": {},
     "output_type": "execute_result"
    }
   ],
   "source": [
    "df_JCN.isnull().sum()"
   ]
  },
  {
   "cell_type": "markdown",
   "id": "29b36b1d-f592-4344-9a5e-8dcc4e1a8444",
   "metadata": {},
   "source": [
    "### 분석 맡은 컬럼 추출"
   ]
  },
  {
   "cell_type": "code",
   "execution_count": 5,
   "id": "e68772e2-cb45-4444-b110-27df3b7632c6",
   "metadata": {
    "tags": []
   },
   "outputs": [
    {
     "data": {
      "text/html": [
       "<div>\n",
       "<style scoped>\n",
       "    .dataframe tbody tr th:only-of-type {\n",
       "        vertical-align: middle;\n",
       "    }\n",
       "\n",
       "    .dataframe tbody tr th {\n",
       "        vertical-align: top;\n",
       "    }\n",
       "\n",
       "    .dataframe thead th {\n",
       "        text-align: right;\n",
       "    }\n",
       "</style>\n",
       "<table border=\"1\" class=\"dataframe\">\n",
       "  <thead>\n",
       "    <tr style=\"text-align: right;\">\n",
       "      <th></th>\n",
       "      <th>ED_RC_TOT_AMT</th>\n",
       "      <th>MCARE_SUBJ_CD</th>\n",
       "      <th>OPRTN_YN</th>\n",
       "      <th>MCARE_RSLT_TYPE</th>\n",
       "    </tr>\n",
       "  </thead>\n",
       "  <tbody>\n",
       "    <tr>\n",
       "      <th>0</th>\n",
       "      <td>7570</td>\n",
       "      <td>1</td>\n",
       "      <td>0</td>\n",
       "      <td>5.0</td>\n",
       "    </tr>\n",
       "    <tr>\n",
       "      <th>1</th>\n",
       "      <td>18160</td>\n",
       "      <td>1</td>\n",
       "      <td>0</td>\n",
       "      <td>5.0</td>\n",
       "    </tr>\n",
       "  </tbody>\n",
       "</table>\n",
       "</div>"
      ],
      "text/plain": [
       "   ED_RC_TOT_AMT  MCARE_SUBJ_CD  OPRTN_YN  MCARE_RSLT_TYPE\n",
       "0           7570              1         0              5.0\n",
       "1          18160              1         0              5.0"
      ]
     },
     "execution_count": 5,
     "metadata": {},
     "output_type": "execute_result"
    }
   ],
   "source": [
    "df_JCN_SKY = df_JCN[['ED_RC_TOT_AMT','MCARE_SUBJ_CD','OPRTN_YN','MCARE_RSLT_TYPE']]\n",
    "df_JCN_SKY[:2]"
   ]
  },
  {
   "cell_type": "code",
   "execution_count": 6,
   "id": "e81aa293-2571-4769-83e4-f38f85a5f291",
   "metadata": {
    "tags": []
   },
   "outputs": [
    {
     "name": "stdout",
     "output_type": "stream",
     "text": [
      "<class 'pandas.core.frame.DataFrame'>\n",
      "RangeIndex: 4629 entries, 0 to 4628\n",
      "Data columns (total 4 columns):\n",
      " #   Column           Non-Null Count  Dtype  \n",
      "---  ------           --------------  -----  \n",
      " 0   ED_RC_TOT_AMT    4629 non-null   int64  \n",
      " 1   MCARE_SUBJ_CD    4629 non-null   int64  \n",
      " 2   OPRTN_YN         4629 non-null   int64  \n",
      " 3   MCARE_RSLT_TYPE  4205 non-null   float64\n",
      "dtypes: float64(1), int64(3)\n",
      "memory usage: 144.8 KB\n"
     ]
    }
   ],
   "source": [
    "df_JCN_SKY.info()"
   ]
  },
  {
   "cell_type": "code",
   "execution_count": 7,
   "id": "635fe0ad-3221-4825-8b8d-d83973bd5d7b",
   "metadata": {
    "tags": []
   },
   "outputs": [
    {
     "data": {
      "text/html": [
       "<div>\n",
       "<style scoped>\n",
       "    .dataframe tbody tr th:only-of-type {\n",
       "        vertical-align: middle;\n",
       "    }\n",
       "\n",
       "    .dataframe tbody tr th {\n",
       "        vertical-align: top;\n",
       "    }\n",
       "\n",
       "    .dataframe thead th {\n",
       "        text-align: right;\n",
       "    }\n",
       "</style>\n",
       "<table border=\"1\" class=\"dataframe\">\n",
       "  <thead>\n",
       "    <tr style=\"text-align: right;\">\n",
       "      <th></th>\n",
       "      <th>ED_RC_TOT_AMT</th>\n",
       "      <th>MCARE_SUBJ_CD</th>\n",
       "      <th>OPRTN_YN</th>\n",
       "      <th>MCARE_RSLT_TYPE</th>\n",
       "    </tr>\n",
       "  </thead>\n",
       "  <tbody>\n",
       "    <tr>\n",
       "      <th>count</th>\n",
       "      <td>4.629000e+03</td>\n",
       "      <td>4629.000000</td>\n",
       "      <td>4629.000000</td>\n",
       "      <td>4205.000000</td>\n",
       "    </tr>\n",
       "    <tr>\n",
       "      <th>mean</th>\n",
       "      <td>1.569900e+04</td>\n",
       "      <td>1.929574</td>\n",
       "      <td>0.005833</td>\n",
       "      <td>1.899168</td>\n",
       "    </tr>\n",
       "    <tr>\n",
       "      <th>std</th>\n",
       "      <td>5.979246e+04</td>\n",
       "      <td>4.398206</td>\n",
       "      <td>0.229069</td>\n",
       "      <td>1.752071</td>\n",
       "    </tr>\n",
       "    <tr>\n",
       "      <th>min</th>\n",
       "      <td>0.000000e+00</td>\n",
       "      <td>0.000000</td>\n",
       "      <td>0.000000</td>\n",
       "      <td>1.000000</td>\n",
       "    </tr>\n",
       "    <tr>\n",
       "      <th>25%</th>\n",
       "      <td>8.780000e+03</td>\n",
       "      <td>1.000000</td>\n",
       "      <td>0.000000</td>\n",
       "      <td>1.000000</td>\n",
       "    </tr>\n",
       "    <tr>\n",
       "      <th>50%</th>\n",
       "      <td>1.007000e+04</td>\n",
       "      <td>1.000000</td>\n",
       "      <td>0.000000</td>\n",
       "      <td>1.000000</td>\n",
       "    </tr>\n",
       "    <tr>\n",
       "      <th>75%</th>\n",
       "      <td>1.169000e+04</td>\n",
       "      <td>1.000000</td>\n",
       "      <td>0.000000</td>\n",
       "      <td>1.000000</td>\n",
       "    </tr>\n",
       "    <tr>\n",
       "      <th>max</th>\n",
       "      <td>2.138690e+06</td>\n",
       "      <td>24.000000</td>\n",
       "      <td>9.000000</td>\n",
       "      <td>9.000000</td>\n",
       "    </tr>\n",
       "  </tbody>\n",
       "</table>\n",
       "</div>"
      ],
      "text/plain": [
       "       ED_RC_TOT_AMT  MCARE_SUBJ_CD     OPRTN_YN  MCARE_RSLT_TYPE\n",
       "count   4.629000e+03    4629.000000  4629.000000      4205.000000\n",
       "mean    1.569900e+04       1.929574     0.005833         1.899168\n",
       "std     5.979246e+04       4.398206     0.229069         1.752071\n",
       "min     0.000000e+00       0.000000     0.000000         1.000000\n",
       "25%     8.780000e+03       1.000000     0.000000         1.000000\n",
       "50%     1.007000e+04       1.000000     0.000000         1.000000\n",
       "75%     1.169000e+04       1.000000     0.000000         1.000000\n",
       "max     2.138690e+06      24.000000     9.000000         9.000000"
      ]
     },
     "execution_count": 7,
     "metadata": {},
     "output_type": "execute_result"
    }
   ],
   "source": [
    "df_JCN_SKY.describe()"
   ]
  },
  {
   "cell_type": "code",
   "execution_count": 10,
   "id": "9ec0a878-50cb-4c9b-9c43-6fcdc683c131",
   "metadata": {
    "tags": []
   },
   "outputs": [
    {
     "data": {
      "text/plain": [
       "ED_RC_TOT_AMT\n",
       "10070            317\n",
       "10360            306\n",
       "9860             298\n",
       "9590             211\n",
       "9380             149\n",
       "                ... \n",
       "18130              1\n",
       "18160              1\n",
       "18180              1\n",
       "18220              1\n",
       "2138690            1\n",
       "Length: 867, dtype: int64"
      ]
     },
     "execution_count": 10,
     "metadata": {},
     "output_type": "execute_result"
    }
   ],
   "source": [
    "df_JCN_SKY[['ED_RC_TOT_AMT']].value_counts()"
   ]
  },
  {
   "cell_type": "code",
   "execution_count": 11,
   "id": "a96b7f32-0dde-4f67-8ed0-c574855f59ad",
   "metadata": {
    "tags": []
   },
   "outputs": [
    {
     "data": {
      "text/plain": [
       "MCARE_SUBJ_CD\n",
       "1                3875\n",
       "0                 415\n",
       "23                160\n",
       "5                  86\n",
       "2                  29\n",
       "6                  19\n",
       "19                 19\n",
       "21                 15\n",
       "3                   5\n",
       "4                   3\n",
       "24                  3\n",
       "dtype: int64"
      ]
     },
     "execution_count": 11,
     "metadata": {},
     "output_type": "execute_result"
    }
   ],
   "source": [
    "df_JCN_SKY[['MCARE_SUBJ_CD']].value_counts()\n",
    "#진료과목코드"
   ]
  },
  {
   "cell_type": "code",
   "execution_count": 12,
   "id": "032c8026-ea4b-41b4-8ed2-6df31c31c9be",
   "metadata": {
    "tags": []
   },
   "outputs": [
    {
     "data": {
      "text/plain": [
       "OPRTN_YN\n",
       "0           4626\n",
       "9              3\n",
       "dtype: int64"
      ]
     },
     "execution_count": 12,
     "metadata": {},
     "output_type": "execute_result"
    }
   ],
   "source": [
    "df_JCN_SKY[['OPRTN_YN']].value_counts()\n",
    "#수술여부"
   ]
  },
  {
   "cell_type": "code",
   "execution_count": 13,
   "id": "3298bba4-d0e3-4897-bbd6-0a2e575b3f0c",
   "metadata": {
    "tags": []
   },
   "outputs": [
    {
     "data": {
      "text/plain": [
       "MCARE_RSLT_TYPE\n",
       "1.0                3296\n",
       "5.0                 871\n",
       "9.0                  37\n",
       "2.0                   1\n",
       "dtype: int64"
      ]
     },
     "execution_count": 13,
     "metadata": {},
     "output_type": "execute_result"
    }
   ],
   "source": [
    "df_JCN_SKY[['MCARE_RSLT_TYPE']].value_counts()\n",
    "# 진료결과구분"
   ]
  },
  {
   "cell_type": "code",
   "execution_count": 14,
   "id": "bcafea30-49a7-4bf5-a6d0-92fcb88537e6",
   "metadata": {
    "tags": []
   },
   "outputs": [
    {
     "name": "stderr",
     "output_type": "stream",
     "text": [
      "C:\\Users\\01-09\\AppData\\Local\\Temp\\ipykernel_5388\\2275312239.py:1: SettingWithCopyWarning: \n",
      "A value is trying to be set on a copy of a slice from a DataFrame.\n",
      "Try using .loc[row_indexer,col_indexer] = value instead\n",
      "\n",
      "See the caveats in the documentation: https://pandas.pydata.org/pandas-docs/stable/user_guide/indexing.html#returning-a-view-versus-a-copy\n",
      "  df_JCN_SKY[['MCARE_SUBJ_CD','OPRTN_YN','MCARE_RSLT_TYPE']] = df_JCN_SKY[['MCARE_SUBJ_CD','OPRTN_YN','MCARE_RSLT_TYPE']].astype(str)\n"
     ]
    }
   ],
   "source": [
    "df_JCN_SKY[['MCARE_SUBJ_CD','OPRTN_YN','MCARE_RSLT_TYPE']] = df_JCN_SKY[['MCARE_SUBJ_CD','OPRTN_YN','MCARE_RSLT_TYPE']].astype(str)"
   ]
  },
  {
   "cell_type": "code",
   "execution_count": 15,
   "id": "70e65942-ab56-47fe-9a91-e29943e96aab",
   "metadata": {
    "tags": []
   },
   "outputs": [
    {
     "name": "stdout",
     "output_type": "stream",
     "text": [
      "<class 'pandas.core.frame.DataFrame'>\n",
      "RangeIndex: 4629 entries, 0 to 4628\n",
      "Data columns (total 4 columns):\n",
      " #   Column           Non-Null Count  Dtype \n",
      "---  ------           --------------  ----- \n",
      " 0   ED_RC_TOT_AMT    4629 non-null   int64 \n",
      " 1   MCARE_SUBJ_CD    4629 non-null   object\n",
      " 2   OPRTN_YN         4629 non-null   object\n",
      " 3   MCARE_RSLT_TYPE  4629 non-null   object\n",
      "dtypes: int64(1), object(3)\n",
      "memory usage: 144.8+ KB\n"
     ]
    }
   ],
   "source": [
    "df_JCN_SKY.info()"
   ]
  },
  {
   "cell_type": "code",
   "execution_count": null,
   "id": "e1e606bd-9054-440c-b025-8a6b145b121b",
   "metadata": {},
   "outputs": [],
   "source": []
  }
 ],
 "metadata": {
  "kernelspec": {
   "display_name": "Python 3 (ipykernel)",
   "language": "python",
   "name": "python3"
  },
  "language_info": {
   "codemirror_mode": {
    "name": "ipython",
    "version": 3
   },
   "file_extension": ".py",
   "mimetype": "text/x-python",
   "name": "python",
   "nbconvert_exporter": "python",
   "pygments_lexer": "ipython3",
   "version": "3.11.3"
  }
 },
 "nbformat": 4,
 "nbformat_minor": 5
}
