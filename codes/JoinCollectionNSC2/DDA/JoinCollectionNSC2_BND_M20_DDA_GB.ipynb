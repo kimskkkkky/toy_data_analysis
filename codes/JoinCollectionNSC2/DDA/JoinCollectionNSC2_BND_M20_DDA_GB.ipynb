{
 "cells": [
  {
   "cell_type": "markdown",
   "id": "2c344f47-a536-4199-bb7b-163fc7d8e99a",
   "metadata": {},
   "source": [
    "## DDA 분석 \n",
    "'ED_RC_TOT_AMT','MCARE_SUBJ_CD','OPRTN_YN','MCARE_RSLT_TYPE','EDC_SBA','BTH_YYYY'\n",
    "- 목표 변수 : ED_RC_TOT_AMT(심결요양급여비용총액)\n",
    "- 설명변수 : 'MCARE_SUBJ_CD'(진료과목코드),'OPRTN_YN'(수술여부),'MCARE_RSLT_TYPE'(진료결과구분),'EDC_SBA'(심결본인부담금),'BTH_YYYY'(출생년도)"
   ]
  },
  {
   "cell_type": "code",
   "execution_count": 1,
   "id": "e0d29368-ef9b-4a7a-8c6d-501e7dc5fcbd",
   "metadata": {
    "tags": []
   },
   "outputs": [],
   "source": [
    "import matplotlib.pyplot as plt\n",
    "import matplotlib as mpl \n",
    "mpl.rc('font',family='Malgun Gothic')\n",
    "import seaborn as sns\n",
    "import pandas as pd\n",
    "import numpy as np"
   ]
  },
  {
   "cell_type": "code",
   "execution_count": 2,
   "id": "dcbd2253-b315-427c-b6aa-82bcbbcff71f",
   "metadata": {
    "tags": []
   },
   "outputs": [],
   "source": [
    "df_I10 = pd.read_csv('../../../dataset/Join Collection NSC2_BND_M20.csv')"
   ]
  },
  {
   "cell_type": "code",
   "execution_count": 3,
   "id": "3aeb1270-36c5-41f0-818c-0cd3d69baa71",
   "metadata": {
    "tags": []
   },
   "outputs": [
    {
     "data": {
      "text/plain": [
       "Unnamed: 0           0\n",
       "ED_RC_TOT_AMT        0\n",
       "MCARE_SUBJ_CD        0\n",
       "OPRTN_YN             0\n",
       "MCARE_RSLT_TYPE    424\n",
       "EDC_SBA              0\n",
       "BTH_YYYY             0\n",
       "dtype: int64"
      ]
     },
     "execution_count": 3,
     "metadata": {},
     "output_type": "execute_result"
    }
   ],
   "source": [
    "df_I10.isnull().sum()"
   ]
  },
  {
   "cell_type": "code",
   "execution_count": 4,
   "id": "79095830-8315-49e3-ae97-20f2252d2a80",
   "metadata": {
    "tags": []
   },
   "outputs": [
    {
     "data": {
      "text/plain": [
       "4629"
      ]
     },
     "execution_count": 4,
     "metadata": {},
     "output_type": "execute_result"
    }
   ],
   "source": [
    "len(df_I10)"
   ]
  },
  {
   "cell_type": "code",
   "execution_count": 6,
   "id": "7b4f72ad-8058-4cd3-8d77-4342ca73b75c",
   "metadata": {
    "tags": []
   },
   "outputs": [],
   "source": [
    "df_I10 = df_I10.dropna()"
   ]
  },
  {
   "cell_type": "markdown",
   "id": "a5ace3b4-5534-4aef-94b1-0d0b3870400a",
   "metadata": {},
   "source": [
    "### 데이터 기본 정보 확인\n",
    "- 데이터 타입 \n",
    "    - 수치형 : ED_RC_TOT_AMT','MCARE_SUBJ_CD','OPRTN_YN','EDC_SBA','BTH_YYYY'\n",
    "    - 범주형 : 'MCARE_RSLT_TYPE'(진료결과구분)"
   ]
  },
  {
   "cell_type": "code",
   "execution_count": 7,
   "id": "c6177891-f421-431c-bf7b-4fe851aecd20",
   "metadata": {
    "tags": []
   },
   "outputs": [
    {
     "name": "stdout",
     "output_type": "stream",
     "text": [
      "<class 'pandas.core.frame.DataFrame'>\n",
      "Int64Index: 4205 entries, 0 to 4628\n",
      "Data columns (total 7 columns):\n",
      " #   Column           Non-Null Count  Dtype  \n",
      "---  ------           --------------  -----  \n",
      " 0   Unnamed: 0       4205 non-null   int64  \n",
      " 1   ED_RC_TOT_AMT    4205 non-null   int64  \n",
      " 2   MCARE_SUBJ_CD    4205 non-null   int64  \n",
      " 3   OPRTN_YN         4205 non-null   int64  \n",
      " 4   MCARE_RSLT_TYPE  4205 non-null   float64\n",
      " 5   EDC_SBA          4205 non-null   int64  \n",
      " 6   BTH_YYYY         4205 non-null   object \n",
      "dtypes: float64(1), int64(5), object(1)\n",
      "memory usage: 262.8+ KB\n"
     ]
    }
   ],
   "source": [
    "df_I10.info()"
   ]
  },
  {
   "cell_type": "code",
   "execution_count": 14,
   "id": "9bf7ce1d-3fb8-4cae-81d6-09d15bc3f600",
   "metadata": {
    "tags": []
   },
   "outputs": [
    {
     "data": {
      "text/html": [
       "<div>\n",
       "<style scoped>\n",
       "    .dataframe tbody tr th:only-of-type {\n",
       "        vertical-align: middle;\n",
       "    }\n",
       "\n",
       "    .dataframe tbody tr th {\n",
       "        vertical-align: top;\n",
       "    }\n",
       "\n",
       "    .dataframe thead th {\n",
       "        text-align: right;\n",
       "    }\n",
       "</style>\n",
       "<table border=\"1\" class=\"dataframe\">\n",
       "  <thead>\n",
       "    <tr style=\"text-align: right;\">\n",
       "      <th></th>\n",
       "      <th>BTH_YYYY</th>\n",
       "    </tr>\n",
       "  </thead>\n",
       "  <tbody>\n",
       "    <tr>\n",
       "      <th>count</th>\n",
       "      <td>4205</td>\n",
       "    </tr>\n",
       "    <tr>\n",
       "      <th>unique</th>\n",
       "      <td>63</td>\n",
       "    </tr>\n",
       "  </tbody>\n",
       "</table>\n",
       "</div>"
      ],
      "text/plain": [
       "       BTH_YYYY\n",
       "count      4205\n",
       "unique       63"
      ]
     },
     "execution_count": 14,
     "metadata": {},
     "output_type": "execute_result"
    }
   ],
   "source": [
    "#df_I10.describe()[:2] # 연속형\n",
    "df_I10.describe(include=object)[:2] # 범주형\n",
    "\n",
    "## 데이터 확인결과 : BTH_YYYY(출생년도)는 범주형이 아닌 숫자형 데이터로 사용해야 할 듯함."
   ]
  },
  {
   "cell_type": "code",
   "execution_count": 13,
   "id": "d81f2cbb-4d60-44fd-8b22-72e2cde0265d",
   "metadata": {
    "tags": []
   },
   "outputs": [
    {
     "data": {
      "text/plain": [
       "1940    236\n",
       "1968    231\n",
       "2001    223\n",
       "1969    218\n",
       "2002    177\n",
       "       ... \n",
       "1941      2\n",
       "1934      2\n",
       "1970      1\n",
       "1999      1\n",
       "1953      1\n",
       "Name: BTH_YYYY, Length: 63, dtype: int64"
      ]
     },
     "execution_count": 13,
     "metadata": {},
     "output_type": "execute_result"
    }
   ],
   "source": [
    "df_I10['BTH_YYYY'].value_counts()"
   ]
  },
  {
   "cell_type": "code",
   "execution_count": 16,
   "id": "f30d0bf6-8643-45a0-ab44-dc88103a96a2",
   "metadata": {
    "tags": []
   },
   "outputs": [
    {
     "data": {
      "text/plain": [
       "1     3866\n",
       "23     160\n",
       "5       86\n",
       "2       29\n",
       "6       19\n",
       "19      19\n",
       "21      15\n",
       "3        5\n",
       "4        3\n",
       "24       3\n",
       "Name: MCARE_SUBJ_CD, dtype: int64"
      ]
     },
     "execution_count": 16,
     "metadata": {},
     "output_type": "execute_result"
    }
   ],
   "source": [
    "df_I10['MCARE_SUBJ_CD'].value_counts()\n",
    "\n",
    "## 범주형으로 봐서 상위 또는 하위를 보면 좋을듯 함."
   ]
  },
  {
   "cell_type": "code",
   "execution_count": null,
   "id": "ad50ad17-70e5-4f3f-bc8c-68edfe0802ed",
   "metadata": {},
   "outputs": [],
   "source": []
  }
 ],
 "metadata": {
  "kernelspec": {
   "display_name": "Python 3 (ipykernel)",
   "language": "python",
   "name": "python3"
  },
  "language_info": {
   "codemirror_mode": {
    "name": "ipython",
    "version": 3
   },
   "file_extension": ".py",
   "mimetype": "text/x-python",
   "name": "python",
   "nbconvert_exporter": "python",
   "pygments_lexer": "ipython3",
   "version": "3.11.3"
  }
 },
 "nbformat": 4,
 "nbformat_minor": 5
}
