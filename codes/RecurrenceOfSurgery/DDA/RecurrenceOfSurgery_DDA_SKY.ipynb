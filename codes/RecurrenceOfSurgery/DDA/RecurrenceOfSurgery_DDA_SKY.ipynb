{
 "cells": [
  {
   "cell_type": "markdown",
   "id": "403e19ea-749d-4326-8907-3e9ec1c9ec04",
   "metadata": {},
   "source": [
    "### '직업','환자통증정도','통증기간(월)','당뇨여부','심혈관질환','암발병여부','체중','연령','신장','전방디스크높이(mm)','후방디스크높이(mm)','디스크단면적','디스크위치','PI','수술기법' 컬럼에 따른 입원 기간의 차이를 분석하여 어떤 컬럼이 입원기간에 영향을 주는지에 대해 알아볼것이다.\n",
    "#### <분석을 맡은 컬럼>\n",
    "- 가베 : '체중','연령','신장','전방디스크높이(mm)','후방디스크높이(mm)','디스크단면적','디스크위치','PI','수술기법'\n",
    "- 하늘 : '직업', '당뇨여부','심혈관질환','암발병여부','환자통증정도','통증기간(월)'"
   ]
  },
  {
   "cell_type": "code",
   "execution_count": 1,
   "id": "be2dd3fe-738f-4680-9fa0-8150a3a6c24f",
   "metadata": {
    "tags": []
   },
   "outputs": [],
   "source": [
    "import matplotlib.pyplot as plt\n",
    "import matplotlib as mpl\n",
    "mpl.rc('font',family='Malgun Gothic')\n",
    "import seaborn as sns\n",
    "import pandas as pd\n",
    "import scipy.stats as stats"
   ]
  },
  {
   "cell_type": "code",
   "execution_count": 2,
   "id": "cb4a2fc4-fb78-4f87-bea5-e0d045271fb1",
   "metadata": {
    "tags": []
   },
   "outputs": [
    {
     "data": {
      "text/html": [
       "<div>\n",
       "<style scoped>\n",
       "    .dataframe tbody tr th:only-of-type {\n",
       "        vertical-align: middle;\n",
       "    }\n",
       "\n",
       "    .dataframe tbody tr th {\n",
       "        vertical-align: top;\n",
       "    }\n",
       "\n",
       "    .dataframe thead th {\n",
       "        text-align: right;\n",
       "    }\n",
       "</style>\n",
       "<table border=\"1\" class=\"dataframe\">\n",
       "  <thead>\n",
       "    <tr style=\"text-align: right;\">\n",
       "      <th></th>\n",
       "      <th>Unnamed: 0</th>\n",
       "      <th>입원기간</th>\n",
       "      <th>직업</th>\n",
       "      <th>환자통증정도</th>\n",
       "      <th>통증기간(월)</th>\n",
       "      <th>당뇨여부</th>\n",
       "      <th>심혈관질환</th>\n",
       "      <th>암발병여부</th>\n",
       "      <th>체중</th>\n",
       "      <th>연령</th>\n",
       "      <th>신장</th>\n",
       "      <th>전방디스크높이(mm)</th>\n",
       "      <th>후방디스크높이(mm)</th>\n",
       "      <th>디스크단면적</th>\n",
       "      <th>디스크위치</th>\n",
       "      <th>PI</th>\n",
       "      <th>수술기법</th>\n",
       "    </tr>\n",
       "  </thead>\n",
       "  <tbody>\n",
       "    <tr>\n",
       "      <th>0</th>\n",
       "      <td>0</td>\n",
       "      <td>2</td>\n",
       "      <td>자영업</td>\n",
       "      <td>10</td>\n",
       "      <td>1.0</td>\n",
       "      <td>0</td>\n",
       "      <td>0</td>\n",
       "      <td>0</td>\n",
       "      <td>60.3</td>\n",
       "      <td>66</td>\n",
       "      <td>163</td>\n",
       "      <td>16.1</td>\n",
       "      <td>12.3</td>\n",
       "      <td>2048.5</td>\n",
       "      <td>4</td>\n",
       "      <td>51.6</td>\n",
       "      <td>TELD</td>\n",
       "    </tr>\n",
       "    <tr>\n",
       "      <th>1</th>\n",
       "      <td>1</td>\n",
       "      <td>1</td>\n",
       "      <td>운동선수</td>\n",
       "      <td>10</td>\n",
       "      <td>1.0</td>\n",
       "      <td>0</td>\n",
       "      <td>0</td>\n",
       "      <td>0</td>\n",
       "      <td>71.7</td>\n",
       "      <td>47</td>\n",
       "      <td>171</td>\n",
       "      <td>13.7</td>\n",
       "      <td>6.4</td>\n",
       "      <td>1753.1</td>\n",
       "      <td>4</td>\n",
       "      <td>40.8</td>\n",
       "      <td>TELD</td>\n",
       "    </tr>\n",
       "  </tbody>\n",
       "</table>\n",
       "</div>"
      ],
      "text/plain": [
       "   Unnamed: 0  입원기간    직업  환자통증정도  통증기간(월)  당뇨여부  심혈관질환  암발병여부    체중  연령   신장  \\\n",
       "0           0     2   자영업      10      1.0     0      0      0  60.3  66  163   \n",
       "1           1     1  운동선수      10      1.0     0      0      0  71.7  47  171   \n",
       "\n",
       "   전방디스크높이(mm)  후방디스크높이(mm)  디스크단면적  디스크위치    PI  수술기법  \n",
       "0         16.1         12.3  2048.5      4  51.6  TELD  \n",
       "1         13.7          6.4  1753.1      4  40.8  TELD  "
      ]
     },
     "execution_count": 2,
     "metadata": {},
     "output_type": "execute_result"
    }
   ],
   "source": [
    "df_ROS = pd.read_csv('../../../dataset/RecurrenceOfSurgeryData.csv')\n",
    "df_ROS.head(2)"
   ]
  },
  {
   "cell_type": "code",
   "execution_count": 4,
   "id": "76b91ad4-4101-4cf8-954a-e8bce0154863",
   "metadata": {
    "tags": []
   },
   "outputs": [
    {
     "data": {
      "text/plain": [
       "Index(['Unnamed: 0', '입원기간', '직업', '환자통증정도', '통증기간(월)', '당뇨여부', '심혈관질환',\n",
       "       '암발병여부', '체중', '연령', '신장', '전방디스크높이(mm)', '후방디스크높이(mm)', '디스크단면적',\n",
       "       '디스크위치', 'PI', '수술기법'],\n",
       "      dtype='object')"
      ]
     },
     "execution_count": 4,
     "metadata": {},
     "output_type": "execute_result"
    }
   ],
   "source": [
    "df_ROS.columns"
   ]
  },
  {
   "cell_type": "markdown",
   "id": "649b6625-7d05-4326-97b8-58703abbc3f1",
   "metadata": {},
   "source": [
    "### 분석 맡은 컬럼 추출"
   ]
  },
  {
   "cell_type": "code",
   "execution_count": 5,
   "id": "cde86198-598d-4628-ae19-b3698dab7361",
   "metadata": {
    "tags": []
   },
   "outputs": [
    {
     "data": {
      "text/html": [
       "<div>\n",
       "<style scoped>\n",
       "    .dataframe tbody tr th:only-of-type {\n",
       "        vertical-align: middle;\n",
       "    }\n",
       "\n",
       "    .dataframe tbody tr th {\n",
       "        vertical-align: top;\n",
       "    }\n",
       "\n",
       "    .dataframe thead th {\n",
       "        text-align: right;\n",
       "    }\n",
       "</style>\n",
       "<table border=\"1\" class=\"dataframe\">\n",
       "  <thead>\n",
       "    <tr style=\"text-align: right;\">\n",
       "      <th></th>\n",
       "      <th>입원기간</th>\n",
       "      <th>직업</th>\n",
       "      <th>환자통증정도</th>\n",
       "      <th>통증기간(월)</th>\n",
       "      <th>당뇨여부</th>\n",
       "      <th>심혈관질환</th>\n",
       "      <th>암발병여부</th>\n",
       "    </tr>\n",
       "  </thead>\n",
       "  <tbody>\n",
       "    <tr>\n",
       "      <th>0</th>\n",
       "      <td>2</td>\n",
       "      <td>자영업</td>\n",
       "      <td>10</td>\n",
       "      <td>1.0</td>\n",
       "      <td>0</td>\n",
       "      <td>0</td>\n",
       "      <td>0</td>\n",
       "    </tr>\n",
       "    <tr>\n",
       "      <th>1</th>\n",
       "      <td>1</td>\n",
       "      <td>운동선수</td>\n",
       "      <td>10</td>\n",
       "      <td>1.0</td>\n",
       "      <td>0</td>\n",
       "      <td>0</td>\n",
       "      <td>0</td>\n",
       "    </tr>\n",
       "  </tbody>\n",
       "</table>\n",
       "</div>"
      ],
      "text/plain": [
       "   입원기간    직업  환자통증정도  통증기간(월)  당뇨여부  심혈관질환  암발병여부\n",
       "0     2   자영업      10      1.0     0      0      0\n",
       "1     1  운동선수      10      1.0     0      0      0"
      ]
     },
     "execution_count": 5,
     "metadata": {},
     "output_type": "execute_result"
    }
   ],
   "source": [
    "df_ROS_SKY = df_ROS[['입원기간','직업','환자통증정도','통증기간(월)','당뇨여부','심혈관질환','암발병여부']]\n",
    "df_ROS_SKY[:2]"
   ]
  },
  {
   "cell_type": "code",
   "execution_count": 6,
   "id": "cc40b96f-f2fb-4d48-a69b-a9dc2542b44d",
   "metadata": {
    "tags": []
   },
   "outputs": [
    {
     "name": "stdout",
     "output_type": "stream",
     "text": [
      "<class 'pandas.core.frame.DataFrame'>\n",
      "RangeIndex: 1405 entries, 0 to 1404\n",
      "Data columns (total 7 columns):\n",
      " #   Column   Non-Null Count  Dtype  \n",
      "---  ------   --------------  -----  \n",
      " 0   입원기간     1405 non-null   int64  \n",
      " 1   직업       1405 non-null   object \n",
      " 2   환자통증정도   1405 non-null   int64  \n",
      " 3   통증기간(월)  1405 non-null   float64\n",
      " 4   당뇨여부     1405 non-null   int64  \n",
      " 5   심혈관질환    1405 non-null   int64  \n",
      " 6   암발병여부    1405 non-null   int64  \n",
      "dtypes: float64(1), int64(5), object(1)\n",
      "memory usage: 77.0+ KB\n"
     ]
    }
   ],
   "source": [
    "df_ROS_SKY.info()"
   ]
  },
  {
   "cell_type": "code",
   "execution_count": 8,
   "id": "0cb4d537-f8b3-4aef-8a00-4f188d9fa837",
   "metadata": {
    "tags": []
   },
   "outputs": [
    {
     "data": {
      "text/html": [
       "<div>\n",
       "<style scoped>\n",
       "    .dataframe tbody tr th:only-of-type {\n",
       "        vertical-align: middle;\n",
       "    }\n",
       "\n",
       "    .dataframe tbody tr th {\n",
       "        vertical-align: top;\n",
       "    }\n",
       "\n",
       "    .dataframe thead th {\n",
       "        text-align: right;\n",
       "    }\n",
       "</style>\n",
       "<table border=\"1\" class=\"dataframe\">\n",
       "  <thead>\n",
       "    <tr style=\"text-align: right;\">\n",
       "      <th></th>\n",
       "      <th>입원기간</th>\n",
       "      <th>환자통증정도</th>\n",
       "      <th>통증기간(월)</th>\n",
       "      <th>당뇨여부</th>\n",
       "      <th>심혈관질환</th>\n",
       "      <th>암발병여부</th>\n",
       "    </tr>\n",
       "  </thead>\n",
       "  <tbody>\n",
       "    <tr>\n",
       "      <th>count</th>\n",
       "      <td>1405.000000</td>\n",
       "      <td>1405.000000</td>\n",
       "      <td>1405.000000</td>\n",
       "      <td>1405.000000</td>\n",
       "      <td>1405.000000</td>\n",
       "      <td>1405.00000</td>\n",
       "    </tr>\n",
       "    <tr>\n",
       "      <th>mean</th>\n",
       "      <td>1.720285</td>\n",
       "      <td>6.921708</td>\n",
       "      <td>6.372811</td>\n",
       "      <td>0.053381</td>\n",
       "      <td>0.037011</td>\n",
       "      <td>0.01210</td>\n",
       "    </tr>\n",
       "    <tr>\n",
       "      <th>std</th>\n",
       "      <td>2.218973</td>\n",
       "      <td>2.036593</td>\n",
       "      <td>18.651710</td>\n",
       "      <td>0.224872</td>\n",
       "      <td>0.188855</td>\n",
       "      <td>0.10937</td>\n",
       "    </tr>\n",
       "    <tr>\n",
       "      <th>min</th>\n",
       "      <td>0.000000</td>\n",
       "      <td>1.000000</td>\n",
       "      <td>0.000000</td>\n",
       "      <td>0.000000</td>\n",
       "      <td>0.000000</td>\n",
       "      <td>0.00000</td>\n",
       "    </tr>\n",
       "    <tr>\n",
       "      <th>25%</th>\n",
       "      <td>1.000000</td>\n",
       "      <td>7.000000</td>\n",
       "      <td>1.000000</td>\n",
       "      <td>0.000000</td>\n",
       "      <td>0.000000</td>\n",
       "      <td>0.00000</td>\n",
       "    </tr>\n",
       "    <tr>\n",
       "      <th>50%</th>\n",
       "      <td>1.000000</td>\n",
       "      <td>7.000000</td>\n",
       "      <td>2.000000</td>\n",
       "      <td>0.000000</td>\n",
       "      <td>0.000000</td>\n",
       "      <td>0.00000</td>\n",
       "    </tr>\n",
       "    <tr>\n",
       "      <th>75%</th>\n",
       "      <td>2.000000</td>\n",
       "      <td>8.000000</td>\n",
       "      <td>5.000000</td>\n",
       "      <td>0.000000</td>\n",
       "      <td>0.000000</td>\n",
       "      <td>0.00000</td>\n",
       "    </tr>\n",
       "    <tr>\n",
       "      <th>max</th>\n",
       "      <td>46.000000</td>\n",
       "      <td>10.000000</td>\n",
       "      <td>360.000000</td>\n",
       "      <td>1.000000</td>\n",
       "      <td>1.000000</td>\n",
       "      <td>1.00000</td>\n",
       "    </tr>\n",
       "  </tbody>\n",
       "</table>\n",
       "</div>"
      ],
      "text/plain": [
       "              입원기간       환자통증정도      통증기간(월)         당뇨여부        심혈관질환  \\\n",
       "count  1405.000000  1405.000000  1405.000000  1405.000000  1405.000000   \n",
       "mean      1.720285     6.921708     6.372811     0.053381     0.037011   \n",
       "std       2.218973     2.036593    18.651710     0.224872     0.188855   \n",
       "min       0.000000     1.000000     0.000000     0.000000     0.000000   \n",
       "25%       1.000000     7.000000     1.000000     0.000000     0.000000   \n",
       "50%       1.000000     7.000000     2.000000     0.000000     0.000000   \n",
       "75%       2.000000     8.000000     5.000000     0.000000     0.000000   \n",
       "max      46.000000    10.000000   360.000000     1.000000     1.000000   \n",
       "\n",
       "            암발병여부  \n",
       "count  1405.00000  \n",
       "mean      0.01210  \n",
       "std       0.10937  \n",
       "min       0.00000  \n",
       "25%       0.00000  \n",
       "50%       0.00000  \n",
       "75%       0.00000  \n",
       "max       1.00000  "
      ]
     },
     "execution_count": 8,
     "metadata": {},
     "output_type": "execute_result"
    }
   ],
   "source": [
    "df_ROS_SKY.describe()"
   ]
  },
  {
   "cell_type": "code",
   "execution_count": 9,
   "id": "2169ccf1-ea03-426d-be0e-4afd6eeff507",
   "metadata": {
    "tags": []
   },
   "outputs": [
    {
     "data": {
      "text/html": [
       "<div>\n",
       "<style scoped>\n",
       "    .dataframe tbody tr th:only-of-type {\n",
       "        vertical-align: middle;\n",
       "    }\n",
       "\n",
       "    .dataframe tbody tr th {\n",
       "        vertical-align: top;\n",
       "    }\n",
       "\n",
       "    .dataframe thead th {\n",
       "        text-align: right;\n",
       "    }\n",
       "</style>\n",
       "<table border=\"1\" class=\"dataframe\">\n",
       "  <thead>\n",
       "    <tr style=\"text-align: right;\">\n",
       "      <th></th>\n",
       "      <th>직업</th>\n",
       "    </tr>\n",
       "  </thead>\n",
       "  <tbody>\n",
       "    <tr>\n",
       "      <th>count</th>\n",
       "      <td>1405</td>\n",
       "    </tr>\n",
       "    <tr>\n",
       "      <th>unique</th>\n",
       "      <td>17</td>\n",
       "    </tr>\n",
       "    <tr>\n",
       "      <th>top</th>\n",
       "      <td>사무직</td>\n",
       "    </tr>\n",
       "    <tr>\n",
       "      <th>freq</th>\n",
       "      <td>424</td>\n",
       "    </tr>\n",
       "  </tbody>\n",
       "</table>\n",
       "</div>"
      ],
      "text/plain": [
       "          직업\n",
       "count   1405\n",
       "unique    17\n",
       "top      사무직\n",
       "freq     424"
      ]
     },
     "execution_count": 9,
     "metadata": {},
     "output_type": "execute_result"
    }
   ],
   "source": [
    "df_ROS_SKY.describe(include=object)"
   ]
  },
  {
   "cell_type": "code",
   "execution_count": 17,
   "id": "f7c85a92-c636-4253-a93a-4d9f0e5cff0d",
   "metadata": {
    "tags": []
   },
   "outputs": [
    {
     "data": {
      "image/png": "[encoded data removed]",
      "text/plain": [
       "<Figure size 640x480 with 1 Axes>"
      ]
     },
     "metadata": {},
     "output_type": "display_data"
    }
   ],
   "source": [
    "sns.countplot(data=df_ROS_SKY, x='직업')\n",
    "plt.show()"
   ]
  },
  {
   "cell_type": "code",
   "execution_count": 18,
   "id": "190eaf28-6e52-4c08-aa27-8ec6d300e646",
   "metadata": {
    "tags": []
   },
   "outputs": [
    {
     "data": {
      "image/png": "[encoded data removed]",
      "text/plain": [
       "<Figure size 640x480 with 1 Axes>"
      ]
     },
     "metadata": {},
     "output_type": "display_data"
    }
   ],
   "source": [
    "sns.countplot(data=df_ROS_SKY, x='직업' , hue='입원기간')\n",
    "plt.show()"
   ]
  },
  {
   "cell_type": "code",
   "execution_count": 11,
   "id": "584720b4-af6f-4129-b07f-72d2f899ce90",
   "metadata": {
    "tags": []
   },
   "outputs": [
    {
     "data": {
      "text/plain": [
       "통증기간(월)\n",
       "1.00       550\n",
       "2.00       249\n",
       "3.00       140\n",
       "12.00       81\n",
       "6.00        74\n",
       "4.00        44\n",
       "5.00        43\n",
       "24.00       32\n",
       "10.00       23\n",
       "7.00        20\n",
       "1.50        18\n",
       "9.00        17\n",
       "8.00        17\n",
       "36.00       14\n",
       "60.00        8\n",
       "120.00       7\n",
       "18.00        7\n",
       "48.00        7\n",
       "0.50         6\n",
       "0.25         6\n",
       "0.20         4\n",
       "96.00        4\n",
       "14.00        4\n",
       "30.00        2\n",
       "22.00        2\n",
       "21.00        2\n",
       "13.00        2\n",
       "15.00        2\n",
       "84.00        2\n",
       "0.30         2\n",
       "0.75         2\n",
       "240.00       2\n",
       "46.00        1\n",
       "180.00       1\n",
       "0.00         1\n",
       "11.00        1\n",
       "17.00        1\n",
       "16.00        1\n",
       "0.10         1\n",
       "4.50         1\n",
       "3.50         1\n",
       "2.50         1\n",
       "0.80         1\n",
       "360.00       1\n",
       "dtype: int64"
      ]
     },
     "execution_count": 11,
     "metadata": {},
     "output_type": "execute_result"
    }
   ],
   "source": [
    "df_ROS_SKY[['통증기간(월)']].value_counts()"
   ]
  },
  {
   "cell_type": "code",
   "execution_count": 15,
   "id": "e2fc2471-e5e4-45ec-b17c-5e7c7f8501ea",
   "metadata": {
    "tags": []
   },
   "outputs": [
    {
     "data": {
      "image/png": "[encoded data removed]",
      "text/plain": [
       "<Figure size 640x480 with 1 Axes>"
      ]
     },
     "metadata": {},
     "output_type": "display_data"
    }
   ],
   "source": [
    "sns.countplot(data=df_ROS_SKY, x='통증기간(월)')\n",
    "plt.show()"
   ]
  },
  {
   "cell_type": "code",
   "execution_count": 16,
   "id": "a44072b7-8035-441a-b330-f7b907463bcd",
   "metadata": {
    "tags": []
   },
   "outputs": [
    {
     "data": {
      "image/png": "[encoded data removed]",
      "text/plain": [
       "<Figure size 640x480 with 1 Axes>"
      ]
     },
     "metadata": {},
     "output_type": "display_data"
    }
   ],
   "source": [
    "sns.countplot(data=df_ROS_SKY, x='통증기간(월)' , hue='입원기간')\n",
    "plt.show()"
   ]
  },
  {
   "cell_type": "markdown",
   "id": "95384c4b-3953-47a8-bf93-3d5d7d749215",
   "metadata": {},
   "source": [
    "### 연속형 컬럼 중 범주형으로 변경 할 컬럼 확인 및 변경"
   ]
  },
  {
   "cell_type": "code",
   "execution_count": 19,
   "id": "27b5bd7c-86d5-4e2b-ac8d-a3fdc951d3d9",
   "metadata": {
    "tags": []
   },
   "outputs": [
    {
     "data": {
      "text/plain": [
       "당뇨여부\n",
       "0       1330\n",
       "1         75\n",
       "dtype: int64"
      ]
     },
     "execution_count": 19,
     "metadata": {},
     "output_type": "execute_result"
    }
   ],
   "source": [
    "df_ROS_SKY[['당뇨여부']].value_counts()"
   ]
  },
  {
   "cell_type": "code",
   "execution_count": 20,
   "id": "c5929173-1cb6-400d-a739-86ce09a01e8d",
   "metadata": {
    "tags": []
   },
   "outputs": [
    {
     "data": {
      "text/plain": [
       "심혈관질환\n",
       "0        1353\n",
       "1          52\n",
       "dtype: int64"
      ]
     },
     "execution_count": 20,
     "metadata": {},
     "output_type": "execute_result"
    }
   ],
   "source": [
    "df_ROS_SKY[['심혈관질환']].value_counts()"
   ]
  },
  {
   "cell_type": "code",
   "execution_count": 21,
   "id": "284a065b-f956-4b70-8b4c-69a79150eebf",
   "metadata": {
    "tags": []
   },
   "outputs": [
    {
     "data": {
      "text/plain": [
       "암발병여부\n",
       "0        1388\n",
       "1          17\n",
       "dtype: int64"
      ]
     },
     "execution_count": 21,
     "metadata": {},
     "output_type": "execute_result"
    }
   ],
   "source": [
    "df_ROS_SKY[['암발병여부']].value_counts()"
   ]
  },
  {
   "cell_type": "code",
   "execution_count": 23,
   "id": "033f7214-221b-4c6d-a1e9-16f19588f689",
   "metadata": {
    "tags": []
   },
   "outputs": [
    {
     "data": {
      "text/plain": [
       "환자통증정도\n",
       "7         667\n",
       "8         311\n",
       "9         126\n",
       "2          89\n",
       "10         77\n",
       "1          41\n",
       "6          33\n",
       "5          31\n",
       "3          28\n",
       "4           2\n",
       "dtype: int64"
      ]
     },
     "execution_count": 23,
     "metadata": {},
     "output_type": "execute_result"
    }
   ],
   "source": [
    "df_ROS_SKY[['환자통증정도']].value_counts()"
   ]
  },
  {
   "cell_type": "code",
   "execution_count": 31,
   "id": "13942b24-bbb1-48df-8bd9-ca8f5308cd10",
   "metadata": {
    "tags": []
   },
   "outputs": [
    {
     "name": "stderr",
     "output_type": "stream",
     "text": [
      "C:\\Users\\01-09\\AppData\\Local\\Temp\\ipykernel_6796\\139356218.py:1: SettingWithCopyWarning: \n",
      "A value is trying to be set on a copy of a slice from a DataFrame.\n",
      "Try using .loc[row_indexer,col_indexer] = value instead\n",
      "\n",
      "See the caveats in the documentation: https://pandas.pydata.org/pandas-docs/stable/user_guide/indexing.html#returning-a-view-versus-a-copy\n",
      "  df_ROS_SKY[['당뇨여부','심혈관질환','암발병여부']] = df_ROS_SKY[['당뇨여부','심혈관질환','암발병여부']].astype(str)\n"
     ]
    }
   ],
   "source": [
    "df_ROS_SKY[['당뇨여부','심혈관질환','암발병여부']] = df_ROS_SKY[['당뇨여부','심혈관질환','암발병여부']].astype(str)"
   ]
  },
  {
   "cell_type": "code",
   "execution_count": 32,
   "id": "2794c1ee-f254-416a-946a-74f11583e905",
   "metadata": {
    "tags": []
   },
   "outputs": [
    {
     "name": "stdout",
     "output_type": "stream",
     "text": [
      "<class 'pandas.core.frame.DataFrame'>\n",
      "RangeIndex: 1405 entries, 0 to 1404\n",
      "Data columns (total 7 columns):\n",
      " #   Column   Non-Null Count  Dtype  \n",
      "---  ------   --------------  -----  \n",
      " 0   입원기간     1405 non-null   int64  \n",
      " 1   직업       1405 non-null   object \n",
      " 2   환자통증정도   1405 non-null   int64  \n",
      " 3   통증기간(월)  1405 non-null   float64\n",
      " 4   당뇨여부     1405 non-null   object \n",
      " 5   심혈관질환    1405 non-null   object \n",
      " 6   암발병여부    1405 non-null   object \n",
      "dtypes: float64(1), int64(2), object(4)\n",
      "memory usage: 77.0+ KB\n"
     ]
    }
   ],
   "source": [
    "df_ROS_SKY.info()"
   ]
  },
  {
   "cell_type": "code",
   "execution_count": null,
   "id": "594b015e-494c-41d1-97fb-5a70410f15aa",
   "metadata": {},
   "outputs": [],
   "source": []
  }
 ],
 "metadata": {
  "kernelspec": {
   "display_name": "Python 3 (ipykernel)",
   "language": "python",
   "name": "python3"
  },
  "language_info": {
   "codemirror_mode": {
    "name": "ipython",
    "version": 3
   },
   "file_extension": ".py",
   "mimetype": "text/x-python",
   "name": "python",
   "nbconvert_exporter": "python",
   "pygments_lexer": "ipython3",
   "version": "3.11.3"
  }
 },
 "nbformat": 4,
 "nbformat_minor": 5
}
