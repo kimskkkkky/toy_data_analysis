{
 "cells": [
  {
   "cell_type": "code",
   "execution_count": 2,
   "id": "42b41a78-ea44-4534-9e36-9ab54c14c8f8",
   "metadata": {
    "tags": []
   },
   "outputs": [],
   "source": [
    "import matplotlib.pyplot as plt\n",
    "import matplotlib as mpl \n",
    "mpl.rc('font',family='Malgun Gothic')\n",
    "import seaborn as sns\n",
    "import pandas as pd\n",
    "import numpy as np\n",
    "import scipy.stats as stats\n",
    "import matplotlib.pyplot as plt"
   ]
  },
  {
   "cell_type": "code",
   "execution_count": 3,
   "id": "dd33d577-50b4-4fc0-841b-d1af6ef1e0fd",
   "metadata": {
    "tags": []
   },
   "outputs": [
    {
     "data": {
      "text/html": [
       "<div>\n",
       "<style scoped>\n",
       "    .dataframe tbody tr th:only-of-type {\n",
       "        vertical-align: middle;\n",
       "    }\n",
       "\n",
       "    .dataframe tbody tr th {\n",
       "        vertical-align: top;\n",
       "    }\n",
       "\n",
       "    .dataframe thead th {\n",
       "        text-align: right;\n",
       "    }\n",
       "</style>\n",
       "<table border=\"1\" class=\"dataframe\">\n",
       "  <thead>\n",
       "    <tr style=\"text-align: right;\">\n",
       "      <th></th>\n",
       "      <th>Unnamed: 0</th>\n",
       "      <th>입원기간</th>\n",
       "      <th>직업</th>\n",
       "      <th>환자통증정도</th>\n",
       "      <th>통증기간(월)</th>\n",
       "      <th>당뇨여부</th>\n",
       "      <th>심혈관질환</th>\n",
       "      <th>암발병여부</th>\n",
       "      <th>체중</th>\n",
       "      <th>연령</th>\n",
       "      <th>신장</th>\n",
       "      <th>전방디스크높이(mm)</th>\n",
       "      <th>후방디스크높이(mm)</th>\n",
       "      <th>디스크단면적</th>\n",
       "      <th>디스크위치</th>\n",
       "      <th>PI</th>\n",
       "      <th>수술기법</th>\n",
       "    </tr>\n",
       "  </thead>\n",
       "  <tbody>\n",
       "    <tr>\n",
       "      <th>0</th>\n",
       "      <td>0</td>\n",
       "      <td>2</td>\n",
       "      <td>자영업</td>\n",
       "      <td>10</td>\n",
       "      <td>1.0</td>\n",
       "      <td>0</td>\n",
       "      <td>0</td>\n",
       "      <td>0</td>\n",
       "      <td>60.3</td>\n",
       "      <td>66</td>\n",
       "      <td>163</td>\n",
       "      <td>16.1</td>\n",
       "      <td>12.3</td>\n",
       "      <td>2048.5</td>\n",
       "      <td>4</td>\n",
       "      <td>51.6</td>\n",
       "      <td>TELD</td>\n",
       "    </tr>\n",
       "    <tr>\n",
       "      <th>1</th>\n",
       "      <td>1</td>\n",
       "      <td>1</td>\n",
       "      <td>운동선수</td>\n",
       "      <td>10</td>\n",
       "      <td>1.0</td>\n",
       "      <td>0</td>\n",
       "      <td>0</td>\n",
       "      <td>0</td>\n",
       "      <td>71.7</td>\n",
       "      <td>47</td>\n",
       "      <td>171</td>\n",
       "      <td>13.7</td>\n",
       "      <td>6.4</td>\n",
       "      <td>1753.1</td>\n",
       "      <td>4</td>\n",
       "      <td>40.8</td>\n",
       "      <td>TELD</td>\n",
       "    </tr>\n",
       "  </tbody>\n",
       "</table>\n",
       "</div>"
      ],
      "text/plain": [
       "   Unnamed: 0  입원기간    직업  환자통증정도  통증기간(월)  당뇨여부  심혈관질환  암발병여부    체중  연령   신장  \\\n",
       "0           0     2   자영업      10      1.0     0      0      0  60.3  66  163   \n",
       "1           1     1  운동선수      10      1.0     0      0      0  71.7  47  171   \n",
       "\n",
       "   전방디스크높이(mm)  후방디스크높이(mm)  디스크단면적  디스크위치    PI  수술기법  \n",
       "0         16.1         12.3  2048.5      4  51.6  TELD  \n",
       "1         13.7          6.4  1753.1      4  40.8  TELD  "
      ]
     },
     "execution_count": 3,
     "metadata": {},
     "output_type": "execute_result"
    }
   ],
   "source": [
    "df_ROS = pd.read_csv('../../../dataset/RecurrenceOfSurgeryData.csv')\n",
    "df_ROS.head(2)"
   ]
  },
  {
   "cell_type": "code",
   "execution_count": 49,
   "id": "2bb4bfa0-6247-498a-a249-849e30781ec3",
   "metadata": {},
   "outputs": [],
   "source": [
    "#%matplotlib tk  \n",
    "%matplotlib inline"
   ]
  },
  {
   "cell_type": "markdown",
   "id": "c45295d0-30af-49be-acb6-0b07f7466cac",
   "metadata": {},
   "source": [
    "## 목표변수 검증"
   ]
  },
  {
   "cell_type": "markdown",
   "id": "65095a32-4069-4b14-9163-439f9eff6586",
   "metadata": {
    "tags": []
   },
   "source": [
    "### Y:연속형 : 단일 변수에 대한 정규성 여부 판단\n",
    "- 검증 갯수 따른 방법 선택 (레코드 갯수)\n",
    "    - 5천개보다 이하 : shapiro normality test\n",
    "    - 5천개보다 이상 : Anderson normality test"
   ]
  },
  {
   "cell_type": "markdown",
   "id": "ab816384-48b4-45d9-9a7b-e1e5fb02f6bf",
   "metadata": {},
   "source": [
    "#### 선정 변수: 입원기간\n",
    "- 분석 내용 : 입원기간이 정규 분포를 따르는가?\n",
    "    - 귀무가설 : 입원기간이 정규 분포이다.\n",
    "    - 대립가설 : 입원기간이 정규 분포가 아니다.\n",
    "- 분석결론 (기준:p-value 0.05) / P.value < 0.05 : 대립 참\n",
    "    - 통계 결론 : pvalue=0.0이므로 대립가설 참 \n",
    "    - 사실 결론 : 입원기간이 정규 분포가 아니다."
   ]
  },
  {
   "cell_type": "code",
   "execution_count": 50,
   "id": "21b9e7ed-7cad-46e7-bf84-4081872dc6bd",
   "metadata": {
    "tags": []
   },
   "outputs": [
    {
     "data": {
      "image/png": "[encoded data removed]",
      "text/plain": [
       "<Figure size 640x480 with 1 Axes>"
      ]
     },
     "metadata": {},
     "output_type": "display_data"
    }
   ],
   "source": [
    "sns.histplot(data=df_ROS, x='입원기간', kde=True)\n",
    "plt.show()"
   ]
  },
  {
   "cell_type": "code",
   "execution_count": 6,
   "id": "eda72c73-e5b0-4597-8e12-da5af138093d",
   "metadata": {
    "tags": []
   },
   "outputs": [
    {
     "data": {
      "text/plain": [
       "1405"
      ]
     },
     "execution_count": 6,
     "metadata": {},
     "output_type": "execute_result"
    }
   ],
   "source": [
    "#df_ROS['입원기간'].isnull().sum()\n",
    "df_ROS['입원기간'].count()"
   ]
  },
  {
   "cell_type": "code",
   "execution_count": 7,
   "id": "3a7045bb-d529-442a-82ea-6dfc5e33922d",
   "metadata": {
    "tags": []
   },
   "outputs": [
    {
     "data": {
      "text/plain": [
       "ShapiroResult(statistic=0.26717329025268555, pvalue=0.0)"
      ]
     },
     "execution_count": 7,
     "metadata": {},
     "output_type": "execute_result"
    }
   ],
   "source": [
    "stats.shapiro(df_ROS['입원기간'])\n",
    "\n",
    "## statistic=0.2671 pvalue=0.0 -> 0.05이하로 대립가설 참 "
   ]
  },
  {
   "cell_type": "markdown",
   "id": "56fe80d1-bbfc-467f-b95d-f8bd9cbc2359",
   "metadata": {
    "tags": []
   },
   "source": [
    "## 설명변수 검증\n",
    "- '체중', '연령', '신장', '전방디스크높이(mm)', '후방디스크높이(mm)', '디스크단면적','디스크위치', 'PI', '수술기법'"
   ]
  },
  {
   "cell_type": "markdown",
   "id": "198f3f3a-892d-482d-a6d0-7c48acb435c3",
   "metadata": {
    "tags": []
   },
   "source": [
    "### X:연속형 / Y:연속형 : 주로 상관관계 확인 \n",
    "- correlation coefficient(상관계수)\n",
    "    - -1 ~ 1  \n",
    "    - 0에 가까우면 관계없음, -1로 갈수록 반비례, 1로 갈수로 정비례"
   ]
  },
  {
   "cell_type": "code",
   "execution_count": 8,
   "id": "e6e9788b-baaa-42b0-b0dc-e288fa208f68",
   "metadata": {
    "tags": []
   },
   "outputs": [
    {
     "data": {
      "text/html": [
       "<div>\n",
       "<style scoped>\n",
       "    .dataframe tbody tr th:only-of-type {\n",
       "        vertical-align: middle;\n",
       "    }\n",
       "\n",
       "    .dataframe tbody tr th {\n",
       "        vertical-align: top;\n",
       "    }\n",
       "\n",
       "    .dataframe thead th {\n",
       "        text-align: right;\n",
       "    }\n",
       "</style>\n",
       "<table border=\"1\" class=\"dataframe\">\n",
       "  <thead>\n",
       "    <tr style=\"text-align: right;\">\n",
       "      <th></th>\n",
       "      <th>입원기간</th>\n",
       "      <th>체중</th>\n",
       "      <th>연령</th>\n",
       "      <th>신장</th>\n",
       "      <th>전방디스크높이(mm)</th>\n",
       "      <th>후방디스크높이(mm)</th>\n",
       "      <th>디스크단면적</th>\n",
       "      <th>디스크위치</th>\n",
       "      <th>PI</th>\n",
       "    </tr>\n",
       "  </thead>\n",
       "  <tbody>\n",
       "    <tr>\n",
       "      <th>count</th>\n",
       "      <td>1405.000000</td>\n",
       "      <td>1405.000000</td>\n",
       "      <td>1405.000000</td>\n",
       "      <td>1405.000000</td>\n",
       "      <td>1405.000000</td>\n",
       "      <td>1405.000000</td>\n",
       "      <td>1405.000000</td>\n",
       "      <td>1405.000000</td>\n",
       "      <td>1405.000000</td>\n",
       "    </tr>\n",
       "    <tr>\n",
       "      <th>mean</th>\n",
       "      <td>1.720285</td>\n",
       "      <td>68.250819</td>\n",
       "      <td>40.015658</td>\n",
       "      <td>168.148043</td>\n",
       "      <td>11.360370</td>\n",
       "      <td>8.368192</td>\n",
       "      <td>1987.863423</td>\n",
       "      <td>4.525979</td>\n",
       "      <td>46.519715</td>\n",
       "    </tr>\n",
       "    <tr>\n",
       "      <th>std</th>\n",
       "      <td>2.218973</td>\n",
       "      <td>11.275908</td>\n",
       "      <td>13.374553</td>\n",
       "      <td>9.179564</td>\n",
       "      <td>2.909581</td>\n",
       "      <td>4.796379</td>\n",
       "      <td>308.791888</td>\n",
       "      <td>4.036717</td>\n",
       "      <td>21.737232</td>\n",
       "    </tr>\n",
       "    <tr>\n",
       "      <th>min</th>\n",
       "      <td>0.000000</td>\n",
       "      <td>35.000000</td>\n",
       "      <td>15.000000</td>\n",
       "      <td>140.000000</td>\n",
       "      <td>1.270000</td>\n",
       "      <td>1.000000</td>\n",
       "      <td>1145.800000</td>\n",
       "      <td>2.000000</td>\n",
       "      <td>11.900000</td>\n",
       "    </tr>\n",
       "    <tr>\n",
       "      <th>25%</th>\n",
       "      <td>1.000000</td>\n",
       "      <td>60.000000</td>\n",
       "      <td>30.000000</td>\n",
       "      <td>161.000000</td>\n",
       "      <td>9.500000</td>\n",
       "      <td>7.060000</td>\n",
       "      <td>1777.890000</td>\n",
       "      <td>4.000000</td>\n",
       "      <td>38.600000</td>\n",
       "    </tr>\n",
       "    <tr>\n",
       "      <th>50%</th>\n",
       "      <td>1.000000</td>\n",
       "      <td>68.000000</td>\n",
       "      <td>39.000000</td>\n",
       "      <td>169.000000</td>\n",
       "      <td>11.200000</td>\n",
       "      <td>8.300000</td>\n",
       "      <td>1992.260000</td>\n",
       "      <td>4.000000</td>\n",
       "      <td>45.100000</td>\n",
       "    </tr>\n",
       "    <tr>\n",
       "      <th>75%</th>\n",
       "      <td>2.000000</td>\n",
       "      <td>75.000000</td>\n",
       "      <td>47.000000</td>\n",
       "      <td>175.000000</td>\n",
       "      <td>13.200000</td>\n",
       "      <td>9.500000</td>\n",
       "      <td>2174.800000</td>\n",
       "      <td>4.000000</td>\n",
       "      <td>51.900000</td>\n",
       "    </tr>\n",
       "    <tr>\n",
       "      <th>max</th>\n",
       "      <td>46.000000</td>\n",
       "      <td>136.100000</td>\n",
       "      <td>86.000000</td>\n",
       "      <td>204.000000</td>\n",
       "      <td>22.500000</td>\n",
       "      <td>101.000000</td>\n",
       "      <td>3166.140000</td>\n",
       "      <td>45.000000</td>\n",
       "      <td>559.000000</td>\n",
       "    </tr>\n",
       "  </tbody>\n",
       "</table>\n",
       "</div>"
      ],
      "text/plain": [
       "              입원기간           체중           연령           신장  전방디스크높이(mm)  \\\n",
       "count  1405.000000  1405.000000  1405.000000  1405.000000  1405.000000   \n",
       "mean      1.720285    68.250819    40.015658   168.148043    11.360370   \n",
       "std       2.218973    11.275908    13.374553     9.179564     2.909581   \n",
       "min       0.000000    35.000000    15.000000   140.000000     1.270000   \n",
       "25%       1.000000    60.000000    30.000000   161.000000     9.500000   \n",
       "50%       1.000000    68.000000    39.000000   169.000000    11.200000   \n",
       "75%       2.000000    75.000000    47.000000   175.000000    13.200000   \n",
       "max      46.000000   136.100000    86.000000   204.000000    22.500000   \n",
       "\n",
       "       후방디스크높이(mm)       디스크단면적        디스크위치           PI  \n",
       "count  1405.000000  1405.000000  1405.000000  1405.000000  \n",
       "mean      8.368192  1987.863423     4.525979    46.519715  \n",
       "std       4.796379   308.791888     4.036717    21.737232  \n",
       "min       1.000000  1145.800000     2.000000    11.900000  \n",
       "25%       7.060000  1777.890000     4.000000    38.600000  \n",
       "50%       8.300000  1992.260000     4.000000    45.100000  \n",
       "75%       9.500000  2174.800000     4.000000    51.900000  \n",
       "max     101.000000  3166.140000    45.000000   559.000000  "
      ]
     },
     "execution_count": 8,
     "metadata": {},
     "output_type": "execute_result"
    }
   ],
   "source": [
    "df_ROS[['입원기간','체중', '연령', '신장', '전방디스크높이(mm)', '후방디스크높이(mm)', '디스크단면적','디스크위치', 'PI']].describe()\n",
    "\n",
    "# count \n",
    "# mean : 연속형이라는 증거 "
   ]
  },
  {
   "cell_type": "markdown",
   "id": "017c48cb-6205-4e13-9d3d-7973b232da75",
   "metadata": {
    "tags": []
   },
   "source": [
    "#### 선정 변수: 입원기간, 연령\n",
    "- 분석 내용 : 연령에 따라서 입원기간 변화가 있는가?\n",
    "    - 귀무가설 : 연령에 따라서 입원기간 변화가 없다.\n",
    "    - 대립가설 : 연령에 따라서 입원기간 변화가 있다.\n",
    "- 분석결론 (기준:p-value 0.05) / P.value < 0.05 : 대립 참\n",
    "    - 통계 결론 : 대립가설 참, 상관계수 관계 없음  ### 확인 필요 \n",
    "    - 사실 결론 : 연령에 따라서 입원기간 변화가 있다.(statistic=0.0895, pvalue=0.00078)"
   ]
  },
  {
   "cell_type": "code",
   "execution_count": 9,
   "id": "a5a910f2-bb8b-4554-b7b6-1d5705f93bd9",
   "metadata": {
    "tags": []
   },
   "outputs": [
    {
     "data": {
      "text/html": [
       "<div>\n",
       "<style scoped>\n",
       "    .dataframe tbody tr th:only-of-type {\n",
       "        vertical-align: middle;\n",
       "    }\n",
       "\n",
       "    .dataframe tbody tr th {\n",
       "        vertical-align: top;\n",
       "    }\n",
       "\n",
       "    .dataframe thead th {\n",
       "        text-align: right;\n",
       "    }\n",
       "</style>\n",
       "<table border=\"1\" class=\"dataframe\">\n",
       "  <thead>\n",
       "    <tr style=\"text-align: right;\">\n",
       "      <th></th>\n",
       "      <th>입원기간</th>\n",
       "      <th>연령</th>\n",
       "    </tr>\n",
       "  </thead>\n",
       "  <tbody>\n",
       "    <tr>\n",
       "      <th>입원기간</th>\n",
       "      <td>1.000000</td>\n",
       "      <td>0.079106</td>\n",
       "    </tr>\n",
       "    <tr>\n",
       "      <th>연령</th>\n",
       "      <td>0.079106</td>\n",
       "      <td>1.000000</td>\n",
       "    </tr>\n",
       "  </tbody>\n",
       "</table>\n",
       "</div>"
      ],
      "text/plain": [
       "          입원기간        연령\n",
       "입원기간  1.000000  0.079106\n",
       "연령    0.079106  1.000000"
      ]
     },
     "execution_count": 9,
     "metadata": {},
     "output_type": "execute_result"
    }
   ],
   "source": [
    "df_ROS[['입원기간','연령']].corr()"
   ]
  },
  {
   "cell_type": "code",
   "execution_count": 10,
   "id": "b53a70c3-aa90-4983-b582-b6e9e34798c0",
   "metadata": {
    "tags": []
   },
   "outputs": [
    {
     "data": {
      "text/plain": [
       "SignificanceResult(statistic=0.08952142152561518, pvalue=0.0007813424353133282)"
      ]
     },
     "execution_count": 10,
     "metadata": {},
     "output_type": "execute_result"
    }
   ],
   "source": [
    "stats.spearmanr(df_ROS['입원기간'],df_ROS['연령'] )\n",
    "\n",
    "## statistic=0.0895, pvalue=0.00078 -> 대립참, 상관계수 관계 없음 "
   ]
  },
  {
   "cell_type": "markdown",
   "id": "8b8d4e55-3bcd-4e2b-aa33-15463d7a08d5",
   "metadata": {
    "tags": []
   },
   "source": [
    "#### 선정 변수: 입원기간, 체중\n",
    "- 분석 내용 : 체중에 따라서 입원기간 변화가 있는가?\n",
    "    - 귀무가설 : 체중에 따라서 입원기간 변화가 없다.\n",
    "    - 대립가설 : 체중에 따라서 입원기간 변화가 있다.\n",
    "- 분석결론 (기준:p-value 0.05) / P.value < 0.05 : 대립 참\n",
    "    - 통계 결론 : 귀무가설 참, 상관계수 관계 없음 \n",
    "    - 사실 결론 : 체중에 따라서 입원기간 변화가 없다.(statistic=0.97, pvalue=0.0)"
   ]
  },
  {
   "cell_type": "code",
   "execution_count": 11,
   "id": "c8887cfe-0a09-4dd2-b08c-ac75cf2e4774",
   "metadata": {
    "tags": []
   },
   "outputs": [
    {
     "data": {
      "text/html": [
       "<div>\n",
       "<style scoped>\n",
       "    .dataframe tbody tr th:only-of-type {\n",
       "        vertical-align: middle;\n",
       "    }\n",
       "\n",
       "    .dataframe tbody tr th {\n",
       "        vertical-align: top;\n",
       "    }\n",
       "\n",
       "    .dataframe thead th {\n",
       "        text-align: right;\n",
       "    }\n",
       "</style>\n",
       "<table border=\"1\" class=\"dataframe\">\n",
       "  <thead>\n",
       "    <tr style=\"text-align: right;\">\n",
       "      <th></th>\n",
       "      <th>입원기간</th>\n",
       "      <th>체중</th>\n",
       "    </tr>\n",
       "  </thead>\n",
       "  <tbody>\n",
       "    <tr>\n",
       "      <th>입원기간</th>\n",
       "      <td>1.000000</td>\n",
       "      <td>-0.047024</td>\n",
       "    </tr>\n",
       "    <tr>\n",
       "      <th>체중</th>\n",
       "      <td>-0.047024</td>\n",
       "      <td>1.000000</td>\n",
       "    </tr>\n",
       "  </tbody>\n",
       "</table>\n",
       "</div>"
      ],
      "text/plain": [
       "          입원기간        체중\n",
       "입원기간  1.000000 -0.047024\n",
       "체중   -0.047024  1.000000"
      ]
     },
     "execution_count": 11,
     "metadata": {},
     "output_type": "execute_result"
    }
   ],
   "source": [
    "df_ROS[['입원기간','체중']].corr()"
   ]
  },
  {
   "cell_type": "code",
   "execution_count": 12,
   "id": "5408392d-9054-4d92-a8d3-ed7df50b65c7",
   "metadata": {
    "tags": []
   },
   "outputs": [
    {
     "data": {
      "text/plain": [
       "SignificanceResult(statistic=-0.0038167036681734214, pvalue=0.8863407659962348)"
      ]
     },
     "execution_count": 12,
     "metadata": {},
     "output_type": "execute_result"
    }
   ],
   "source": [
    "# 컬럼 중 하나라도 비정규 분포이면 사용\n",
    "# statistic : 상관계수값 # pvalue : 현재 대립이 참 \n",
    "stats.spearmanr(df_ROS['입원기간'],df_ROS['체중'] )\n",
    "\n",
    "##  statistic=-0.003816, pvalue=0.8863 ->  statistic=-0.003816의 값으로 0에 가까움에 따라 관계 없음,  pvalue=0.8863으로 귀무가설 참 "
   ]
  },
  {
   "cell_type": "markdown",
   "id": "e0379253-cbbd-446d-86b4-df45e9f5feb7",
   "metadata": {},
   "source": [
    "#### 선정 변수: 입원기간, 신장\n",
    "- 분석 내용 : 신장에 따라서 입원기간 변화가 있는가?\n",
    "    - 귀무가설 : 신장에 따라서 입원기간 변화가 없다.\n",
    "    - 대립가설 : 신장에 따라서 입원기간 변화가 있다.\n",
    "- 분석결론 (기준:p-value 0.05) / P.value < 0.05 : 대립 참\n",
    "    - 통계 결론 : 귀무가설 참, 상관계수 관계없음 \n",
    "    - 사실 결론 : 신장에 따라서 입원기간 변화가 없다.(statistic=-0.00381, pvalue=0.8863)"
   ]
  },
  {
   "cell_type": "code",
   "execution_count": 13,
   "id": "ab8ff63e-8145-456d-826d-607029c17064",
   "metadata": {
    "tags": []
   },
   "outputs": [
    {
     "data": {
      "text/html": [
       "<div>\n",
       "<style scoped>\n",
       "    .dataframe tbody tr th:only-of-type {\n",
       "        vertical-align: middle;\n",
       "    }\n",
       "\n",
       "    .dataframe tbody tr th {\n",
       "        vertical-align: top;\n",
       "    }\n",
       "\n",
       "    .dataframe thead th {\n",
       "        text-align: right;\n",
       "    }\n",
       "</style>\n",
       "<table border=\"1\" class=\"dataframe\">\n",
       "  <thead>\n",
       "    <tr style=\"text-align: right;\">\n",
       "      <th></th>\n",
       "      <th>입원기간</th>\n",
       "      <th>신장</th>\n",
       "    </tr>\n",
       "  </thead>\n",
       "  <tbody>\n",
       "    <tr>\n",
       "      <th>입원기간</th>\n",
       "      <td>1.000000</td>\n",
       "      <td>-0.044577</td>\n",
       "    </tr>\n",
       "    <tr>\n",
       "      <th>신장</th>\n",
       "      <td>-0.044577</td>\n",
       "      <td>1.000000</td>\n",
       "    </tr>\n",
       "  </tbody>\n",
       "</table>\n",
       "</div>"
      ],
      "text/plain": [
       "          입원기간        신장\n",
       "입원기간  1.000000 -0.044577\n",
       "신장   -0.044577  1.000000"
      ]
     },
     "execution_count": 13,
     "metadata": {},
     "output_type": "execute_result"
    }
   ],
   "source": [
    "df_ROS[['입원기간','신장']].corr()"
   ]
  },
  {
   "cell_type": "code",
   "execution_count": 14,
   "id": "e84c2337-768f-4007-a32e-5af68a0a697a",
   "metadata": {
    "tags": []
   },
   "outputs": [
    {
     "data": {
      "text/plain": [
       "SignificanceResult(statistic=-0.0038167036681734214, pvalue=0.8863407659962348)"
      ]
     },
     "execution_count": 14,
     "metadata": {},
     "output_type": "execute_result"
    }
   ],
   "source": [
    "stats.spearmanr(df_ROS['입원기간'],df_ROS['체중'] )\n",
    "\n",
    "## statistic=-0.00381, pvalue=0.8863 -> 귀무가설 참, 상관계수 관계없음"
   ]
  },
  {
   "cell_type": "markdown",
   "id": "eef4ac13-57f3-4cd9-85e1-ae5644bd3dec",
   "metadata": {},
   "source": [
    "#### 선정 변수: 입원기간, 전방디스크높이\n",
    "- 분석 내용 : 전방디스크높이에 따라서 입원기간 변화가 있는가?\n",
    "    - 귀무가설 : 전방디스크높이에 따라서 입원기간 변화가 없다.\n",
    "    - 대립가설 : 전방디스크높이에 따라서 입원기간 변화가 있다.\n",
    "- 분석결론 (기준:p-value 0.05) / P.value < 0.05 : 대립 참\n",
    "    - 통계 결론 : 귀무가설 참, 상관계수 관계없음 \n",
    "    - 사실 결론 : 전방디스크높이에 따라서 입원기간 변화가 없다.(statistic=0.0043, pvalue=0.8712 )"
   ]
  },
  {
   "cell_type": "code",
   "execution_count": 15,
   "id": "c0f9906d-0bbe-4547-8c38-f1999ba0cb83",
   "metadata": {
    "tags": []
   },
   "outputs": [
    {
     "data": {
      "text/html": [
       "<div>\n",
       "<style scoped>\n",
       "    .dataframe tbody tr th:only-of-type {\n",
       "        vertical-align: middle;\n",
       "    }\n",
       "\n",
       "    .dataframe tbody tr th {\n",
       "        vertical-align: top;\n",
       "    }\n",
       "\n",
       "    .dataframe thead th {\n",
       "        text-align: right;\n",
       "    }\n",
       "</style>\n",
       "<table border=\"1\" class=\"dataframe\">\n",
       "  <thead>\n",
       "    <tr style=\"text-align: right;\">\n",
       "      <th></th>\n",
       "      <th>입원기간</th>\n",
       "      <th>전방디스크높이(mm)</th>\n",
       "    </tr>\n",
       "  </thead>\n",
       "  <tbody>\n",
       "    <tr>\n",
       "      <th>입원기간</th>\n",
       "      <td>1.000000</td>\n",
       "      <td>-0.022702</td>\n",
       "    </tr>\n",
       "    <tr>\n",
       "      <th>전방디스크높이(mm)</th>\n",
       "      <td>-0.022702</td>\n",
       "      <td>1.000000</td>\n",
       "    </tr>\n",
       "  </tbody>\n",
       "</table>\n",
       "</div>"
      ],
      "text/plain": [
       "                 입원기간  전방디스크높이(mm)\n",
       "입원기간         1.000000    -0.022702\n",
       "전방디스크높이(mm) -0.022702     1.000000"
      ]
     },
     "execution_count": 15,
     "metadata": {},
     "output_type": "execute_result"
    }
   ],
   "source": [
    "df_ROS[['입원기간','전방디스크높이(mm)']].corr()"
   ]
  },
  {
   "cell_type": "code",
   "execution_count": 16,
   "id": "1b6f5916-867b-4af7-b904-a1f6744f155c",
   "metadata": {
    "tags": []
   },
   "outputs": [
    {
     "data": {
      "text/plain": [
       "SignificanceResult(statistic=0.004327975487605288, pvalue=0.8712402555814732)"
      ]
     },
     "execution_count": 16,
     "metadata": {},
     "output_type": "execute_result"
    }
   ],
   "source": [
    "stats.spearmanr(df_ROS['입원기간'],df_ROS['전방디스크높이(mm)'] )\n",
    "\n",
    "## statistic=0.0043, pvalue=0.8712 -> 귀무가설 참, 상관계수 관계없음"
   ]
  },
  {
   "cell_type": "markdown",
   "id": "b4bb4677-44cd-4c9f-84e2-1aed0a343726",
   "metadata": {},
   "source": [
    "#### 선정 변수: 입원기간, 후방디스크높이\n",
    "- 분석 내용 : 후방디스크높이에 따라서 입원기간 변화가 있는가?\n",
    "    - 귀무가설 : 후방디스크높이에 따라서 입원기간 변화가 없다.\n",
    "    - 대립가설 : 후방디스크높이에 따라서 입원기간 변화가 있다.\n",
    "- 분석결론 (기준:p-value 0.05) / P.value < 0.05 : 대립 참\n",
    "    - 통계 결론 : 귀무가설 참, 상관계수 관계없음 \n",
    "    - 사실 결론 : 후방디스크높이에 따라서 입원기간 변화가 없다.(statistic=-0.0518, pvalue=0.0520)\n",
    "        - 전방디스크보다는 후방디스크가 입원기간에 조금더 영향을 미친다는 것은 p-value 값으로 확인함"
   ]
  },
  {
   "cell_type": "code",
   "execution_count": 17,
   "id": "3b5f826e-b25a-449a-8bf1-95890de8b152",
   "metadata": {
    "tags": []
   },
   "outputs": [
    {
     "data": {
      "text/html": [
       "<div>\n",
       "<style scoped>\n",
       "    .dataframe tbody tr th:only-of-type {\n",
       "        vertical-align: middle;\n",
       "    }\n",
       "\n",
       "    .dataframe tbody tr th {\n",
       "        vertical-align: top;\n",
       "    }\n",
       "\n",
       "    .dataframe thead th {\n",
       "        text-align: right;\n",
       "    }\n",
       "</style>\n",
       "<table border=\"1\" class=\"dataframe\">\n",
       "  <thead>\n",
       "    <tr style=\"text-align: right;\">\n",
       "      <th></th>\n",
       "      <th>입원기간</th>\n",
       "      <th>후방디스크높이(mm)</th>\n",
       "    </tr>\n",
       "  </thead>\n",
       "  <tbody>\n",
       "    <tr>\n",
       "      <th>입원기간</th>\n",
       "      <td>1.000000</td>\n",
       "      <td>-0.019827</td>\n",
       "    </tr>\n",
       "    <tr>\n",
       "      <th>후방디스크높이(mm)</th>\n",
       "      <td>-0.019827</td>\n",
       "      <td>1.000000</td>\n",
       "    </tr>\n",
       "  </tbody>\n",
       "</table>\n",
       "</div>"
      ],
      "text/plain": [
       "                 입원기간  후방디스크높이(mm)\n",
       "입원기간         1.000000    -0.019827\n",
       "후방디스크높이(mm) -0.019827     1.000000"
      ]
     },
     "execution_count": 17,
     "metadata": {},
     "output_type": "execute_result"
    }
   ],
   "source": [
    "df_ROS[['입원기간','후방디스크높이(mm)']].corr()"
   ]
  },
  {
   "cell_type": "code",
   "execution_count": 18,
   "id": "6ec97768-cd81-48b4-8fcf-a033164575cb",
   "metadata": {
    "tags": []
   },
   "outputs": [
    {
     "data": {
      "text/plain": [
       "SignificanceResult(statistic=-0.051836126254760105, pvalue=0.052068464311013626)"
      ]
     },
     "execution_count": 18,
     "metadata": {},
     "output_type": "execute_result"
    }
   ],
   "source": [
    "stats.spearmanr(df_ROS['입원기간'],df_ROS['후방디스크높이(mm)'] )\n",
    "\n",
    "## statistic=-0.0518, pvalue=0.0520 -> -> 귀무가설 참, 상관계수 관계없음"
   ]
  },
  {
   "cell_type": "markdown",
   "id": "4329959e-943c-4430-bdc7-ea12ab2a3c32",
   "metadata": {},
   "source": [
    "#### 선정 변수: 입원기간, 디스크단면적\n",
    "- 분석 내용 : 디스크단면적에 따라서 입원기간 변화가 있는가?\n",
    "    - 귀무가설 : 디스크단면적에 따라서 입원기간 변화가 없다.\n",
    "    - 대립가설 : 디스크단면적에 따라서 입원기간 변화가 있다.\n",
    "- 분석결론 (기준:p-value 0.05) / P.value < 0.05 : 대립 참\n",
    "    - 통계 결론 : 귀무가설 참, 상관계수 관계없음 \n",
    "    - 사실 결론 : 디스크단면적에 따라서 입원기간 변화가 없다.(statistic=0.03397, pvalue=0.2031)"
   ]
  },
  {
   "cell_type": "code",
   "execution_count": 19,
   "id": "90463d65-4883-4a36-841f-3ace6e04fcd3",
   "metadata": {
    "tags": []
   },
   "outputs": [
    {
     "data": {
      "text/html": [
       "<div>\n",
       "<style scoped>\n",
       "    .dataframe tbody tr th:only-of-type {\n",
       "        vertical-align: middle;\n",
       "    }\n",
       "\n",
       "    .dataframe tbody tr th {\n",
       "        vertical-align: top;\n",
       "    }\n",
       "\n",
       "    .dataframe thead th {\n",
       "        text-align: right;\n",
       "    }\n",
       "</style>\n",
       "<table border=\"1\" class=\"dataframe\">\n",
       "  <thead>\n",
       "    <tr style=\"text-align: right;\">\n",
       "      <th></th>\n",
       "      <th>입원기간</th>\n",
       "      <th>디스크단면적</th>\n",
       "    </tr>\n",
       "  </thead>\n",
       "  <tbody>\n",
       "    <tr>\n",
       "      <th>입원기간</th>\n",
       "      <td>1.000000</td>\n",
       "      <td>0.007434</td>\n",
       "    </tr>\n",
       "    <tr>\n",
       "      <th>디스크단면적</th>\n",
       "      <td>0.007434</td>\n",
       "      <td>1.000000</td>\n",
       "    </tr>\n",
       "  </tbody>\n",
       "</table>\n",
       "</div>"
      ],
      "text/plain": [
       "            입원기간    디스크단면적\n",
       "입원기간    1.000000  0.007434\n",
       "디스크단면적  0.007434  1.000000"
      ]
     },
     "execution_count": 19,
     "metadata": {},
     "output_type": "execute_result"
    }
   ],
   "source": [
    "df_ROS[['입원기간','디스크단면적']].corr()"
   ]
  },
  {
   "cell_type": "code",
   "execution_count": 20,
   "id": "a2e2d551-dda2-4ddb-aeaf-bd0335018637",
   "metadata": {
    "tags": []
   },
   "outputs": [
    {
     "data": {
      "text/plain": [
       "SignificanceResult(statistic=0.03397532753283447, pvalue=0.20310948186613031)"
      ]
     },
     "execution_count": 20,
     "metadata": {},
     "output_type": "execute_result"
    }
   ],
   "source": [
    "stats.spearmanr(df_ROS['입원기간'],df_ROS['디스크단면적'] )\n",
    "\n",
    "## statistic=0.03397, pvalue=0.2031-> 귀무가설 참, 상관계수 관계없음"
   ]
  },
  {
   "cell_type": "markdown",
   "id": "1139c575-5406-4d2a-a54e-a8f31702c32a",
   "metadata": {},
   "source": [
    "#### 선정 변수: 입원기간, 디스크위치\n",
    "- 분석 내용 : 디스크위치에 따라서 입원기간 변화가 있는가?\n",
    "    - 귀무가설 : 디스크위치에 따라서 입원기간 변화가 없다.\n",
    "    - 대립가설 : 디스크위치에 따라서 입원기간 변화가 있다.\n",
    "- 분석결론 (기준:p-value 0.05) / P.value < 0.05 : 대립 참\n",
    "    - 통계 결론 : 귀무가설 참, 상관계수 관계없음 \n",
    "    - 사실 결론 : 디스크위치에 따라서 입원기간 변화가 없다.(statistic=-0.037, pvalue=0.156)"
   ]
  },
  {
   "cell_type": "code",
   "execution_count": 21,
   "id": "09152b94-fbab-4f1f-a85c-fb8feef3d0f1",
   "metadata": {
    "tags": []
   },
   "outputs": [
    {
     "data": {
      "text/html": [
       "<div>\n",
       "<style scoped>\n",
       "    .dataframe tbody tr th:only-of-type {\n",
       "        vertical-align: middle;\n",
       "    }\n",
       "\n",
       "    .dataframe tbody tr th {\n",
       "        vertical-align: top;\n",
       "    }\n",
       "\n",
       "    .dataframe thead th {\n",
       "        text-align: right;\n",
       "    }\n",
       "</style>\n",
       "<table border=\"1\" class=\"dataframe\">\n",
       "  <thead>\n",
       "    <tr style=\"text-align: right;\">\n",
       "      <th></th>\n",
       "      <th>입원기간</th>\n",
       "      <th>디스크위치</th>\n",
       "    </tr>\n",
       "  </thead>\n",
       "  <tbody>\n",
       "    <tr>\n",
       "      <th>입원기간</th>\n",
       "      <td>1.000000</td>\n",
       "      <td>-0.003919</td>\n",
       "    </tr>\n",
       "    <tr>\n",
       "      <th>디스크위치</th>\n",
       "      <td>-0.003919</td>\n",
       "      <td>1.000000</td>\n",
       "    </tr>\n",
       "  </tbody>\n",
       "</table>\n",
       "</div>"
      ],
      "text/plain": [
       "           입원기간     디스크위치\n",
       "입원기간   1.000000 -0.003919\n",
       "디스크위치 -0.003919  1.000000"
      ]
     },
     "execution_count": 21,
     "metadata": {},
     "output_type": "execute_result"
    }
   ],
   "source": [
    "df_ROS[['입원기간','디스크위치']].corr()"
   ]
  },
  {
   "cell_type": "code",
   "execution_count": 22,
   "id": "154f670f-4e4d-4ba4-8fbc-cb3664a2ec8a",
   "metadata": {
    "tags": []
   },
   "outputs": [
    {
     "data": {
      "text/plain": [
       "SignificanceResult(statistic=-0.03784333605591028, pvalue=0.15626681803248943)"
      ]
     },
     "execution_count": 22,
     "metadata": {},
     "output_type": "execute_result"
    }
   ],
   "source": [
    "stats.spearmanr(df_ROS['입원기간'],df_ROS['디스크위치'] )\n",
    "\n",
    "## statistic=-0.037, pvalue=0.156 -> 귀무가설 참, 상관계수 관계없음"
   ]
  },
  {
   "cell_type": "markdown",
   "id": "1578c8a0-e257-429a-babb-17d44444c805",
   "metadata": {},
   "source": [
    "#### 선정 변수: 입원기간, PI\n",
    "- 분석 내용 : PI에 따라서 입원기간 변화가 있는가?\n",
    "    - 귀무가설 : PI에  따라서 입원기간 변화가 없다.\n",
    "    - 대립가설 : PI에 따라서 입원기간 변화가 있다.\n",
    "- 분석결론 (기준:p-value 0.05) / P.value < 0.05 : 대립 참\n",
    "    - 통계 결론 : 귀무가설 참, 상관계수 관계없음 \n",
    "    - 사실 결론 : PI에 따라서 입원기간 변화가 없다.(statistic=0.0082, pvalue=0.756)"
   ]
  },
  {
   "cell_type": "code",
   "execution_count": 23,
   "id": "530188ed-6c3d-40e3-bd06-e059f3ea6c4a",
   "metadata": {
    "tags": []
   },
   "outputs": [
    {
     "data": {
      "text/html": [
       "<div>\n",
       "<style scoped>\n",
       "    .dataframe tbody tr th:only-of-type {\n",
       "        vertical-align: middle;\n",
       "    }\n",
       "\n",
       "    .dataframe tbody tr th {\n",
       "        vertical-align: top;\n",
       "    }\n",
       "\n",
       "    .dataframe thead th {\n",
       "        text-align: right;\n",
       "    }\n",
       "</style>\n",
       "<table border=\"1\" class=\"dataframe\">\n",
       "  <thead>\n",
       "    <tr style=\"text-align: right;\">\n",
       "      <th></th>\n",
       "      <th>입원기간</th>\n",
       "      <th>PI</th>\n",
       "    </tr>\n",
       "  </thead>\n",
       "  <tbody>\n",
       "    <tr>\n",
       "      <th>입원기간</th>\n",
       "      <td>1.000000</td>\n",
       "      <td>-0.004285</td>\n",
       "    </tr>\n",
       "    <tr>\n",
       "      <th>PI</th>\n",
       "      <td>-0.004285</td>\n",
       "      <td>1.000000</td>\n",
       "    </tr>\n",
       "  </tbody>\n",
       "</table>\n",
       "</div>"
      ],
      "text/plain": [
       "          입원기간        PI\n",
       "입원기간  1.000000 -0.004285\n",
       "PI   -0.004285  1.000000"
      ]
     },
     "execution_count": 23,
     "metadata": {},
     "output_type": "execute_result"
    }
   ],
   "source": [
    "df_ROS[['입원기간','PI']].corr()"
   ]
  },
  {
   "cell_type": "code",
   "execution_count": 24,
   "id": "c1fd7843-bfcf-4e26-9a65-194263109c4f",
   "metadata": {
    "tags": []
   },
   "outputs": [
    {
     "data": {
      "text/plain": [
       "SignificanceResult(statistic=0.008291364018018076, pvalue=0.7561680978380553)"
      ]
     },
     "execution_count": 24,
     "metadata": {},
     "output_type": "execute_result"
    }
   ],
   "source": [
    "stats.spearmanr(df_ROS['입원기간'],df_ROS['PI'] )\n",
    "\n",
    "## statistic=0.0082, pvalue=0.756 -> 귀무가설 참, 상관계수 관계없음"
   ]
  },
  {
   "cell_type": "markdown",
   "id": "65872a94-541a-441a-8d11-da488d1b8bac",
   "metadata": {},
   "source": [
    "### x : 범주형 / Y:연속형 : 범주형 따른 상관관계 확인 "
   ]
  },
  {
   "cell_type": "markdown",
   "id": "5ebeaccf-1d47-4ffe-8bec-879fd9712122",
   "metadata": {
    "jp-MarkdownHeadingCollapsed": true,
    "tags": []
   },
   "source": [
    "#### 선정 변수: 수술기법(항목 2), 입원기간(비정규분포)- Wilcoxon Test\n",
    "- 분석 내용 : 수술기법에 따라 입원기간의 평균이 차이가 있는가?\n",
    "    - 귀무가설 : 입원기간 평균에 차이 없다. \n",
    "    - 대립가설 : 입원기간 평균에 차이 있다.\n",
    "- 분석결론 (기준:p-value 0.05) / P.value < 0.05 : 대립 참\n",
    "    - 통계 결론 : pvalue=1.0, 귀무가설 참 \n",
    "    - 사실 결론 : 입원기간 평균에 차이 없다."
   ]
  },
  {
   "cell_type": "code",
   "execution_count": 25,
   "id": "0b1136b1-f753-4d2f-a0b6-67d41c7fd6f0",
   "metadata": {
    "tags": []
   },
   "outputs": [
    {
     "data": {
      "image/png": "[encoded data removed]",
      "text/plain": [
       "<Figure size 640x480 with 1 Axes>"
      ]
     },
     "metadata": {},
     "output_type": "display_data"
    }
   ],
   "source": [
    "sns.countplot(data=df_ROS, x='수술기법')\n",
    "plt.show()"
   ]
  },
  {
   "cell_type": "code",
   "execution_count": 26,
   "id": "b0717099-af41-4268-8df7-37c91d8a4878",
   "metadata": {
    "tags": []
   },
   "outputs": [
    {
     "data": {
      "text/plain": [
       "TELD    1302\n",
       "IELD     103\n",
       "Name: 수술기법, dtype: int64"
      ]
     },
     "execution_count": 26,
     "metadata": {},
     "output_type": "execute_result"
    }
   ],
   "source": [
    "df_ROS['수술기법'].value_counts() \n",
    "\n",
    "# 2집단의 범주 "
   ]
  },
  {
   "cell_type": "code",
   "execution_count": 27,
   "id": "b713007a-36bc-4f8f-94e9-cf3aad9d1a82",
   "metadata": {
    "tags": []
   },
   "outputs": [
    {
     "data": {
      "text/html": [
       "<div>\n",
       "<style scoped>\n",
       "    .dataframe tbody tr th:only-of-type {\n",
       "        vertical-align: middle;\n",
       "    }\n",
       "\n",
       "    .dataframe tbody tr th {\n",
       "        vertical-align: top;\n",
       "    }\n",
       "\n",
       "    .dataframe thead th {\n",
       "        text-align: right;\n",
       "    }\n",
       "</style>\n",
       "<table border=\"1\" class=\"dataframe\">\n",
       "  <thead>\n",
       "    <tr style=\"text-align: right;\">\n",
       "      <th></th>\n",
       "      <th>입원기간</th>\n",
       "      <th>수술기법</th>\n",
       "    </tr>\n",
       "  </thead>\n",
       "  <tbody>\n",
       "    <tr>\n",
       "      <th>0</th>\n",
       "      <td>2</td>\n",
       "      <td>TELD</td>\n",
       "    </tr>\n",
       "    <tr>\n",
       "      <th>1</th>\n",
       "      <td>1</td>\n",
       "      <td>TELD</td>\n",
       "    </tr>\n",
       "  </tbody>\n",
       "</table>\n",
       "</div>"
      ],
      "text/plain": [
       "   입원기간  수술기법\n",
       "0     2  TELD\n",
       "1     1  TELD"
      ]
     },
     "execution_count": 27,
     "metadata": {},
     "output_type": "execute_result"
    }
   ],
   "source": [
    "df_method = df_ROS[['입원기간','수술기법']]\n",
    "df_method[:2]"
   ]
  },
  {
   "cell_type": "code",
   "execution_count": 28,
   "id": "bda8de96-e915-4761-b3f2-cf9d5d5930d8",
   "metadata": {
    "tags": []
   },
   "outputs": [
    {
     "data": {
      "text/html": [
       "<div>\n",
       "<style scoped>\n",
       "    .dataframe tbody tr th:only-of-type {\n",
       "        vertical-align: middle;\n",
       "    }\n",
       "\n",
       "    .dataframe tbody tr th {\n",
       "        vertical-align: top;\n",
       "    }\n",
       "\n",
       "    .dataframe thead th {\n",
       "        text-align: right;\n",
       "    }\n",
       "</style>\n",
       "<table border=\"1\" class=\"dataframe\">\n",
       "  <thead>\n",
       "    <tr style=\"text-align: right;\">\n",
       "      <th></th>\n",
       "      <th>입원기간</th>\n",
       "      <th>수술기법</th>\n",
       "    </tr>\n",
       "  </thead>\n",
       "  <tbody>\n",
       "    <tr>\n",
       "      <th>0</th>\n",
       "      <td>2</td>\n",
       "      <td>TELD</td>\n",
       "    </tr>\n",
       "    <tr>\n",
       "      <th>1</th>\n",
       "      <td>1</td>\n",
       "      <td>TELD</td>\n",
       "    </tr>\n",
       "  </tbody>\n",
       "</table>\n",
       "</div>"
      ],
      "text/plain": [
       "   입원기간  수술기법\n",
       "0     2  TELD\n",
       "1     1  TELD"
      ]
     },
     "execution_count": 28,
     "metadata": {},
     "output_type": "execute_result"
    }
   ],
   "source": [
    "df_TELD = df_method[df_method['수술기법'] == 'TELD']\n",
    "df_TELD[:2]"
   ]
  },
  {
   "cell_type": "code",
   "execution_count": 29,
   "id": "dfe2050a-5fc3-4faf-be74-1df265335498",
   "metadata": {
    "tags": []
   },
   "outputs": [
    {
     "data": {
      "text/html": [
       "<div>\n",
       "<style scoped>\n",
       "    .dataframe tbody tr th:only-of-type {\n",
       "        vertical-align: middle;\n",
       "    }\n",
       "\n",
       "    .dataframe tbody tr th {\n",
       "        vertical-align: top;\n",
       "    }\n",
       "\n",
       "    .dataframe thead th {\n",
       "        text-align: right;\n",
       "    }\n",
       "</style>\n",
       "<table border=\"1\" class=\"dataframe\">\n",
       "  <thead>\n",
       "    <tr style=\"text-align: right;\">\n",
       "      <th></th>\n",
       "      <th>입원기간</th>\n",
       "      <th>수술기법</th>\n",
       "    </tr>\n",
       "  </thead>\n",
       "  <tbody>\n",
       "    <tr>\n",
       "      <th>0</th>\n",
       "      <td>2</td>\n",
       "      <td>TELD</td>\n",
       "    </tr>\n",
       "    <tr>\n",
       "      <th>1</th>\n",
       "      <td>1</td>\n",
       "      <td>TELD</td>\n",
       "    </tr>\n",
       "  </tbody>\n",
       "</table>\n",
       "</div>"
      ],
      "text/plain": [
       "   입원기간  수술기법\n",
       "0     2  TELD\n",
       "1     1  TELD"
      ]
     },
     "execution_count": 29,
     "metadata": {},
     "output_type": "execute_result"
    }
   ],
   "source": [
    "df_IELD = df_method[df_method['수술기법'] == 'IELD']\n",
    "df_TELD[:2]"
   ]
  },
  {
   "cell_type": "code",
   "execution_count": 30,
   "id": "fd0c0031-c602-4dce-955d-0b3af58bcd4e",
   "metadata": {
    "tags": []
   },
   "outputs": [
    {
     "data": {
      "text/plain": [
       "RanksumsResult(statistic=0.0, pvalue=1.0)"
      ]
     },
     "execution_count": 30,
     "metadata": {},
     "output_type": "execute_result"
    }
   ],
   "source": [
    "stats.ranksums(df_TELD['입원기간'], df_TELD['입원기간'])\n",
    "\n",
    "## statistic=0.0, pvalue=1.0 -> 0.05보다 큼, 귀무가설 참 "
   ]
  },
  {
   "cell_type": "markdown",
   "id": "622f9ebc-3930-491b-ad61-b0061cb801a4",
   "metadata": {},
   "source": [
    "## 데이터 활용 -> BMI"
   ]
  },
  {
   "cell_type": "markdown",
   "id": "2e947523-f0b1-427e-8fc3-88c47aa01f49",
   "metadata": {
    "jp-MarkdownHeadingCollapsed": true,
    "tags": []
   },
   "source": [
    "### 선정 변수: BMI(항목 4), 입원기간(비정규분포) - Kruskal Test\n",
    "- 분석 내용 : 인사이트를 가져올수 있는가?, 분포에 차이가 있는가\n",
    "    - 귀무가설 : 입원기간 대비 BMI 분포의 평균에 차이가 없다.\n",
    "    - 대립가설 : 평균에 차이가 있다.\n",
    "- 분석결론 (기준:p-value 0.05) / P.value < 0.05 : 대립 참\n",
    "    - 통계 결론 : pvalue=0.885, 귀립가설 참 \n",
    "    - 사실 결론 : 입원기간 대비 BMI 분포의 평균에 차이가 없다."
   ]
  },
  {
   "cell_type": "code",
   "execution_count": 31,
   "id": "d110d4da-73d0-4173-8da8-8ffde71e63d5",
   "metadata": {
    "tags": []
   },
   "outputs": [
    {
     "name": "stdout",
     "output_type": "stream",
     "text": [
      "<class 'pandas.core.frame.DataFrame'>\n",
      "RangeIndex: 1405 entries, 0 to 1404\n",
      "Data columns (total 2 columns):\n",
      " #   Column  Non-Null Count  Dtype\n",
      "---  ------  --------------  -----\n",
      " 0   신장      1405 non-null   int64\n",
      " 1   체중      1405 non-null   int32\n",
      "dtypes: int32(1), int64(1)\n",
      "memory usage: 16.6 KB\n"
     ]
    }
   ],
   "source": [
    "df_ROS['체중'] = df_ROS['체중'].astype(int)\n",
    "df_ROS[['신장','체중']].info()"
   ]
  },
  {
   "cell_type": "code",
   "execution_count": 32,
   "id": "8d5755bc-e40a-41e5-b166-1d545df3ab59",
   "metadata": {
    "tags": []
   },
   "outputs": [],
   "source": [
    "## bmi 계산식 apply 함수에 적용\n",
    "\n",
    "def cal_BMI (row):\n",
    "    weight = row['체중']\n",
    "    height = row['신장'] / 100  # 키를 cm에서 m로 변환\n",
    "    bmi = weight/(height * height)\n",
    "    return bmi"
   ]
  },
  {
   "cell_type": "code",
   "execution_count": 33,
   "id": "24510d78-90ef-4fc5-b2fa-f6aaea41baed",
   "metadata": {
    "tags": []
   },
   "outputs": [
    {
     "data": {
      "text/plain": [
       "0    22.582709\n",
       "1    24.280975\n",
       "Name: BMI_수치값, dtype: float64"
      ]
     },
     "execution_count": 33,
     "metadata": {},
     "output_type": "execute_result"
    }
   ],
   "source": [
    "df_ROS['BMI_수치값']= df_ROS.apply(cal_BMI, axis=1)\n",
    "df_ROS['BMI_수치값'][:2]"
   ]
  },
  {
   "cell_type": "code",
   "execution_count": 34,
   "id": "36450c09-bf0e-4fbb-b544-be42c4f00a66",
   "metadata": {
    "tags": []
   },
   "outputs": [],
   "source": [
    "## bmi 분류 체계 apply()\n",
    "\n",
    "def classify_obesity(bmi):\n",
    "    if bmi < 18.5:\n",
    "        return '저체중'\n",
    "    elif bmi < 24.9:\n",
    "        return '정상체중'\n",
    "    elif bmi < 29.9:\n",
    "        return '과체중'\n",
    "    else:\n",
    "        return '비만'"
   ]
  },
  {
   "cell_type": "code",
   "execution_count": 35,
   "id": "b0c73f7b-242f-4139-99b5-d65d223666e6",
   "metadata": {
    "tags": []
   },
   "outputs": [
    {
     "data": {
      "text/plain": [
       "0    정상체중\n",
       "1    정상체중\n",
       "Name: BMI_결과분류, dtype: object"
      ]
     },
     "execution_count": 35,
     "metadata": {},
     "output_type": "execute_result"
    }
   ],
   "source": [
    "df_ROS['BMI_결과분류'] = df_ROS['BMI_수치값'].apply(classify_obesity)\n",
    "df_ROS['BMI_결과분류'][:2]"
   ]
  },
  {
   "cell_type": "code",
   "execution_count": 36,
   "id": "9c49a1aa-8956-497d-99e8-2a2379a4983f",
   "metadata": {
    "tags": []
   },
   "outputs": [
    {
     "data": {
      "text/html": [
       "<div>\n",
       "<style scoped>\n",
       "    .dataframe tbody tr th:only-of-type {\n",
       "        vertical-align: middle;\n",
       "    }\n",
       "\n",
       "    .dataframe tbody tr th {\n",
       "        vertical-align: top;\n",
       "    }\n",
       "\n",
       "    .dataframe thead th {\n",
       "        text-align: right;\n",
       "    }\n",
       "</style>\n",
       "<table border=\"1\" class=\"dataframe\">\n",
       "  <thead>\n",
       "    <tr style=\"text-align: right;\">\n",
       "      <th></th>\n",
       "      <th>BMI_수치값</th>\n",
       "    </tr>\n",
       "    <tr>\n",
       "      <th>BMI_결과분류</th>\n",
       "      <th></th>\n",
       "    </tr>\n",
       "  </thead>\n",
       "  <tbody>\n",
       "    <tr>\n",
       "      <th>과체중</th>\n",
       "      <td>325</td>\n",
       "    </tr>\n",
       "    <tr>\n",
       "      <th>비만</th>\n",
       "      <td>52</td>\n",
       "    </tr>\n",
       "    <tr>\n",
       "      <th>저체중</th>\n",
       "      <td>30</td>\n",
       "    </tr>\n",
       "    <tr>\n",
       "      <th>정상체중</th>\n",
       "      <td>998</td>\n",
       "    </tr>\n",
       "  </tbody>\n",
       "</table>\n",
       "</div>"
      ],
      "text/plain": [
       "          BMI_수치값\n",
       "BMI_결과분류         \n",
       "과체중           325\n",
       "비만             52\n",
       "저체중            30\n",
       "정상체중          998"
      ]
     },
     "execution_count": 36,
     "metadata": {},
     "output_type": "execute_result"
    }
   ],
   "source": [
    "pd.pivot_table(data=df_ROS[['BMI_결과분류', 'BMI_수치값']], index='BMI_결과분류', aggfunc=len) # .plot(kind='bar')"
   ]
  },
  {
   "cell_type": "code",
   "execution_count": 37,
   "id": "056bc378-3b01-4b06-b6fa-de6f3518882a",
   "metadata": {
    "tags": []
   },
   "outputs": [
    {
     "data": {
      "image/png": "[encoded data removed]",
      "text/plain": [
       "<Figure size 640x480 with 1 Axes>"
      ]
     },
     "metadata": {},
     "output_type": "display_data"
    }
   ],
   "source": [
    "sns.barplot(data=df_ROS, x='BMI_결과분류', y='입원기간', estimator=len )\n",
    "plt.show()"
   ]
  },
  {
   "cell_type": "code",
   "execution_count": 38,
   "id": "8a911ce8-545d-422d-93e5-a9efc5088c4e",
   "metadata": {
    "tags": []
   },
   "outputs": [
    {
     "data": {
      "image/png": "[encoded data removed]",
      "text/plain": [
       "<Figure size 640x480 with 1 Axes>"
      ]
     },
     "metadata": {},
     "output_type": "display_data"
    }
   ],
   "source": [
    "sns.lineplot(data=df_ROS, x='BMI_결과분류', y='입원기간', estimator=len)\n",
    "plt.show()"
   ]
  },
  {
   "cell_type": "code",
   "execution_count": 39,
   "id": "f619ec02-97e3-4d28-ba3b-0e2d4b1d4b2f",
   "metadata": {
    "tags": []
   },
   "outputs": [
    {
     "data": {
      "text/plain": [
       "정상체중    998\n",
       "과체중     325\n",
       "비만       52\n",
       "저체중      30\n",
       "Name: BMI_결과분류, dtype: int64"
      ]
     },
     "execution_count": 39,
     "metadata": {},
     "output_type": "execute_result"
    }
   ],
   "source": [
    "df_ROS['BMI_결과분류'].value_counts()"
   ]
  },
  {
   "cell_type": "code",
   "execution_count": 40,
   "id": "2705625c-c0ea-46a7-9e96-f4ce19afed69",
   "metadata": {
    "tags": []
   },
   "outputs": [
    {
     "data": {
      "text/html": [
       "<div>\n",
       "<style scoped>\n",
       "    .dataframe tbody tr th:only-of-type {\n",
       "        vertical-align: middle;\n",
       "    }\n",
       "\n",
       "    .dataframe tbody tr th {\n",
       "        vertical-align: top;\n",
       "    }\n",
       "\n",
       "    .dataframe thead th {\n",
       "        text-align: right;\n",
       "    }\n",
       "</style>\n",
       "<table border=\"1\" class=\"dataframe\">\n",
       "  <thead>\n",
       "    <tr style=\"text-align: right;\">\n",
       "      <th></th>\n",
       "      <th>BMI_결과분류</th>\n",
       "      <th>입원기간</th>\n",
       "    </tr>\n",
       "  </thead>\n",
       "  <tbody>\n",
       "    <tr>\n",
       "      <th>0</th>\n",
       "      <td>정상체중</td>\n",
       "      <td>2</td>\n",
       "    </tr>\n",
       "    <tr>\n",
       "      <th>1</th>\n",
       "      <td>정상체중</td>\n",
       "      <td>1</td>\n",
       "    </tr>\n",
       "  </tbody>\n",
       "</table>\n",
       "</div>"
      ],
      "text/plain": [
       "  BMI_결과분류  입원기간\n",
       "0     정상체중     2\n",
       "1     정상체중     1"
      ]
     },
     "execution_count": 40,
     "metadata": {},
     "output_type": "execute_result"
    }
   ],
   "source": [
    "# 필터링, 추출 \n",
    "conditions = (df_ROS['BMI_결과분류']=='정상체중') | (df_ROS['BMI_결과분류']=='과체중') |(df_ROS['BMI_결과분류']=='비만')| (df_ROS['BMI_결과분류']=='저체중')\n",
    "conditions   \n",
    "df_BMI_duration = df_ROS[conditions][['BMI_결과분류','입원기간']] \n",
    "df_BMI_duration[:2]"
   ]
  },
  {
   "cell_type": "code",
   "execution_count": 41,
   "id": "e010f6d7-5c6c-473b-8fec-3417bb982739",
   "metadata": {
    "tags": []
   },
   "outputs": [
    {
     "data": {
      "text/plain": [
       "BMI_결과분류    0\n",
       "입원기간        0\n",
       "dtype: int64"
      ]
     },
     "execution_count": 41,
     "metadata": {},
     "output_type": "execute_result"
    }
   ],
   "source": [
    "df_BMI_duration.isnull().sum()"
   ]
  },
  {
   "cell_type": "code",
   "execution_count": 42,
   "id": "f387ea7e-8660-41aa-aa05-318aaa812b96",
   "metadata": {
    "tags": []
   },
   "outputs": [
    {
     "data": {
      "text/plain": [
       "['정상체중', '과체중', '비만', '저체중']"
      ]
     },
     "execution_count": 42,
     "metadata": {},
     "output_type": "execute_result"
    }
   ],
   "source": [
    "bmi_list = df_BMI_duration['BMI_결과분류'].value_counts().index.to_list()\n",
    "bmi_list"
   ]
  },
  {
   "cell_type": "code",
   "execution_count": 43,
   "id": "44c79815-0084-4402-ade8-ed4e70226952",
   "metadata": {
    "tags": []
   },
   "outputs": [],
   "source": [
    "df_result = [] \n",
    "for item in bmi_list :\n",
    "    condition = (df_BMI_duration['BMI_결과분류'] == item )\n",
    "    df_result.append(df_BMI_duration[condition]['입원기간']) "
   ]
  },
  {
   "cell_type": "code",
   "execution_count": 44,
   "id": "1add2f5c-28fc-45fc-8311-c339044b276b",
   "metadata": {
    "tags": []
   },
   "outputs": [
    {
     "data": {
      "text/plain": [
       "4"
      ]
     },
     "execution_count": 44,
     "metadata": {},
     "output_type": "execute_result"
    }
   ],
   "source": [
    "len(df_result)"
   ]
  },
  {
   "cell_type": "code",
   "execution_count": 45,
   "id": "059cb825-ef83-4f75-9e5a-d608106befe8",
   "metadata": {
    "tags": []
   },
   "outputs": [
    {
     "data": {
      "text/plain": [
       "0        2\n",
       "1        1\n",
       "2        1\n",
       "3        1\n",
       "4        2\n",
       "        ..\n",
       "1398     2\n",
       "1400    12\n",
       "1401     2\n",
       "1402     3\n",
       "1403     3\n",
       "Name: 입원기간, Length: 998, dtype: int64"
      ]
     },
     "execution_count": 45,
     "metadata": {},
     "output_type": "execute_result"
    }
   ],
   "source": [
    "df_result[0]"
   ]
  },
  {
   "cell_type": "code",
   "execution_count": 46,
   "id": "915461e3-2a05-4bd1-ba05-bbc30b7ea896",
   "metadata": {
    "tags": []
   },
   "outputs": [
    {
     "data": {
      "text/plain": [
       "KruskalResult(statistic=0.6459970883815163, pvalue=0.8858262742722958)"
      ]
     },
     "execution_count": 46,
     "metadata": {},
     "output_type": "execute_result"
    }
   ],
   "source": [
    "stats.kruskal(df_result[0],df_result[1],df_result[2],df_result[3])\n",
    "\n",
    "## pvalue=0.885 -> 귀립가설 참 "
   ]
  },
  {
   "cell_type": "markdown",
   "id": "840c848c-9e2e-48b0-9864-f213e735e5ac",
   "metadata": {},
   "source": [
    "## 분석 결과 \n",
    "- 연령은 입원기간에 영향을 미친다는 것을 확인함.\n",
    "- '체중', '연령', '신장', '전방디스크높이(mm)', '후방디스크높이(mm)', '디스크단면적','디스크위치', 'PI', '수술기법'는 입원기간에 영향을 끼치지 않음을 확인함.\n",
    "- '체중', '신장'를 토대로 BMI를 추출한 결과, BMI는 입원기간에 영향을 끼치지 않음을 확인함.\n",
    "- 다만, 전방디스크높이보다 후방디스크높이가 입원기간에 영향을 미친다는 점을 알수 있었음.\n"
   ]
  },
  {
   "cell_type": "code",
   "execution_count": null,
   "id": "f416ac3e-9504-41f3-9df1-3f8348ebbe45",
   "metadata": {},
   "outputs": [],
   "source": []
  }
 ],
 "metadata": {
  "kernelspec": {
   "display_name": "Python 3 (ipykernel)",
   "language": "python",
   "name": "python3"
  },
  "language_info": {
   "codemirror_mode": {
    "name": "ipython",
    "version": 3
   },
   "file_extension": ".py",
   "mimetype": "text/x-python",
   "name": "python",
   "nbconvert_exporter": "python",
   "pygments_lexer": "ipython3",
   "version": "3.11.3"
  }
 },
 "nbformat": 4,
 "nbformat_minor": 5
}
