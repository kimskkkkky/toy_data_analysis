{
 "cells": [
  {
   "cell_type": "code",
   "execution_count": 2,
   "id": "cdf4371d-ae43-4d63-9c49-fdfd93c7d4ea",
   "metadata": {
    "tags": []
   },
   "outputs": [],
   "source": [
    "import matplotlib.pyplot as plt\n",
    "import matplotlib as mpl\n",
    "mpl.rc('font',family='Malgun Gothic')\n",
    "import seaborn as sns\n",
    "import pandas as pd\n",
    "import scipy.stats as stats"
   ]
  },
  {
   "cell_type": "code",
   "execution_count": 3,
   "id": "863baa0c-7d49-44e8-bf74-2733580623d9",
   "metadata": {
    "tags": []
   },
   "outputs": [
    {
     "data": {
      "text/html": [
       "<div>\n",
       "<style scoped>\n",
       "    .dataframe tbody tr th:only-of-type {\n",
       "        vertical-align: middle;\n",
       "    }\n",
       "\n",
       "    .dataframe tbody tr th {\n",
       "        vertical-align: top;\n",
       "    }\n",
       "\n",
       "    .dataframe thead th {\n",
       "        text-align: right;\n",
       "    }\n",
       "</style>\n",
       "<table border=\"1\" class=\"dataframe\">\n",
       "  <thead>\n",
       "    <tr style=\"text-align: right;\">\n",
       "      <th></th>\n",
       "      <th>Unnamed: 0</th>\n",
       "      <th>입원기간</th>\n",
       "      <th>직업</th>\n",
       "      <th>환자통증정도</th>\n",
       "      <th>통증기간(월)</th>\n",
       "      <th>당뇨여부</th>\n",
       "      <th>심혈관질환</th>\n",
       "      <th>암발병여부</th>\n",
       "      <th>체중</th>\n",
       "      <th>연령</th>\n",
       "      <th>신장</th>\n",
       "      <th>전방디스크높이(mm)</th>\n",
       "      <th>후방디스크높이(mm)</th>\n",
       "      <th>디스크단면적</th>\n",
       "      <th>디스크위치</th>\n",
       "      <th>PI</th>\n",
       "      <th>수술기법</th>\n",
       "    </tr>\n",
       "  </thead>\n",
       "  <tbody>\n",
       "    <tr>\n",
       "      <th>0</th>\n",
       "      <td>0</td>\n",
       "      <td>2</td>\n",
       "      <td>자영업</td>\n",
       "      <td>10</td>\n",
       "      <td>1.0</td>\n",
       "      <td>0</td>\n",
       "      <td>0</td>\n",
       "      <td>0</td>\n",
       "      <td>60.3</td>\n",
       "      <td>66</td>\n",
       "      <td>163</td>\n",
       "      <td>16.1</td>\n",
       "      <td>12.3</td>\n",
       "      <td>2048.5</td>\n",
       "      <td>4</td>\n",
       "      <td>51.6</td>\n",
       "      <td>TELD</td>\n",
       "    </tr>\n",
       "    <tr>\n",
       "      <th>1</th>\n",
       "      <td>1</td>\n",
       "      <td>1</td>\n",
       "      <td>운동선수</td>\n",
       "      <td>10</td>\n",
       "      <td>1.0</td>\n",
       "      <td>0</td>\n",
       "      <td>0</td>\n",
       "      <td>0</td>\n",
       "      <td>71.7</td>\n",
       "      <td>47</td>\n",
       "      <td>171</td>\n",
       "      <td>13.7</td>\n",
       "      <td>6.4</td>\n",
       "      <td>1753.1</td>\n",
       "      <td>4</td>\n",
       "      <td>40.8</td>\n",
       "      <td>TELD</td>\n",
       "    </tr>\n",
       "  </tbody>\n",
       "</table>\n",
       "</div>"
      ],
      "text/plain": [
       "   Unnamed: 0  입원기간    직업  환자통증정도  통증기간(월)  당뇨여부  심혈관질환  암발병여부    체중  연령   신장  \\\n",
       "0           0     2   자영업      10      1.0     0      0      0  60.3  66  163   \n",
       "1           1     1  운동선수      10      1.0     0      0      0  71.7  47  171   \n",
       "\n",
       "   전방디스크높이(mm)  후방디스크높이(mm)  디스크단면적  디스크위치    PI  수술기법  \n",
       "0         16.1         12.3  2048.5      4  51.6  TELD  \n",
       "1         13.7          6.4  1753.1      4  40.8  TELD  "
      ]
     },
     "execution_count": 3,
     "metadata": {},
     "output_type": "execute_result"
    }
   ],
   "source": [
    "df_ROS = pd.read_csv('../../../dataset/RecurrenceOfSurgeryData.csv')\n",
    "df_ROS.head(2)"
   ]
  },
  {
   "cell_type": "code",
   "execution_count": 4,
   "id": "354b67b6-676d-449d-a9a2-ca1e15b91640",
   "metadata": {
    "tags": []
   },
   "outputs": [
    {
     "data": {
      "text/html": [
       "<div>\n",
       "<style scoped>\n",
       "    .dataframe tbody tr th:only-of-type {\n",
       "        vertical-align: middle;\n",
       "    }\n",
       "\n",
       "    .dataframe tbody tr th {\n",
       "        vertical-align: top;\n",
       "    }\n",
       "\n",
       "    .dataframe thead th {\n",
       "        text-align: right;\n",
       "    }\n",
       "</style>\n",
       "<table border=\"1\" class=\"dataframe\">\n",
       "  <thead>\n",
       "    <tr style=\"text-align: right;\">\n",
       "      <th></th>\n",
       "      <th>입원기간</th>\n",
       "      <th>직업</th>\n",
       "      <th>환자통증정도</th>\n",
       "      <th>통증기간(월)</th>\n",
       "      <th>당뇨여부</th>\n",
       "      <th>심혈관질환</th>\n",
       "      <th>암발병여부</th>\n",
       "    </tr>\n",
       "  </thead>\n",
       "  <tbody>\n",
       "    <tr>\n",
       "      <th>0</th>\n",
       "      <td>2</td>\n",
       "      <td>자영업</td>\n",
       "      <td>10</td>\n",
       "      <td>1.0</td>\n",
       "      <td>0</td>\n",
       "      <td>0</td>\n",
       "      <td>0</td>\n",
       "    </tr>\n",
       "    <tr>\n",
       "      <th>1</th>\n",
       "      <td>1</td>\n",
       "      <td>운동선수</td>\n",
       "      <td>10</td>\n",
       "      <td>1.0</td>\n",
       "      <td>0</td>\n",
       "      <td>0</td>\n",
       "      <td>0</td>\n",
       "    </tr>\n",
       "  </tbody>\n",
       "</table>\n",
       "</div>"
      ],
      "text/plain": [
       "   입원기간    직업  환자통증정도  통증기간(월)  당뇨여부  심혈관질환  암발병여부\n",
       "0     2   자영업      10      1.0     0      0      0\n",
       "1     1  운동선수      10      1.0     0      0      0"
      ]
     },
     "execution_count": 4,
     "metadata": {},
     "output_type": "execute_result"
    }
   ],
   "source": [
    "df_ROS_SKY = df_ROS[['입원기간','직업','환자통증정도','통증기간(월)','당뇨여부','심혈관질환','암발병여부']]\n",
    "df_ROS_SKY[:2]"
   ]
  },
  {
   "cell_type": "code",
   "execution_count": 5,
   "id": "d7324e07-c773-464d-af90-407cee9144d1",
   "metadata": {
    "tags": []
   },
   "outputs": [
    {
     "name": "stderr",
     "output_type": "stream",
     "text": [
      "C:\\Users\\01-09\\AppData\\Local\\Temp\\ipykernel_10548\\139356218.py:1: SettingWithCopyWarning: \n",
      "A value is trying to be set on a copy of a slice from a DataFrame.\n",
      "Try using .loc[row_indexer,col_indexer] = value instead\n",
      "\n",
      "See the caveats in the documentation: https://pandas.pydata.org/pandas-docs/stable/user_guide/indexing.html#returning-a-view-versus-a-copy\n",
      "  df_ROS_SKY[['당뇨여부','심혈관질환','암발병여부']] = df_ROS_SKY[['당뇨여부','심혈관질환','암발병여부']].astype(str)\n"
     ]
    }
   ],
   "source": [
    "df_ROS_SKY[['당뇨여부','심혈관질환','암발병여부']] = df_ROS_SKY[['당뇨여부','심혈관질환','암발병여부']].astype(str)"
   ]
  },
  {
   "cell_type": "code",
   "execution_count": 6,
   "id": "16d3540b-5936-4deb-9d2f-813616461fd9",
   "metadata": {
    "tags": []
   },
   "outputs": [
    {
     "name": "stdout",
     "output_type": "stream",
     "text": [
      "<class 'pandas.core.frame.DataFrame'>\n",
      "RangeIndex: 1405 entries, 0 to 1404\n",
      "Data columns (total 7 columns):\n",
      " #   Column   Non-Null Count  Dtype  \n",
      "---  ------   --------------  -----  \n",
      " 0   입원기간     1405 non-null   int64  \n",
      " 1   직업       1405 non-null   object \n",
      " 2   환자통증정도   1405 non-null   int64  \n",
      " 3   통증기간(월)  1405 non-null   float64\n",
      " 4   당뇨여부     1405 non-null   object \n",
      " 5   심혈관질환    1405 non-null   object \n",
      " 6   암발병여부    1405 non-null   object \n",
      "dtypes: float64(1), int64(2), object(4)\n",
      "memory usage: 77.0+ KB\n"
     ]
    }
   ],
   "source": [
    "df_ROS_SKY.info()"
   ]
  },
  {
   "cell_type": "markdown",
   "id": "cad373cd-8c4b-41a6-91ef-1f4d23aa2712",
   "metadata": {
    "tags": []
   },
   "source": [
    "## - 목표변수(Y) : 입원기간\n",
    "## - 설명변수 (X) : 직업, 환자통증정도, 통증기간(월), 당뇨여부, 심혈관질환, 암발병여부"
   ]
  },
  {
   "cell_type": "markdown",
   "id": "d2b573e3-26a6-41f5-9893-85b787050205",
   "metadata": {
    "tags": []
   },
   "source": [
    "### 선정변수 : 직업, 입원기간 (범주형 / 연속형)\n",
    " - 분석내용 : 직업에 따라 입원기간에 차이가 있는가?\n",
    "   - 귀무가설 : 직업에 따라 입원기간에 차이가 없다.\n",
    "   - 대립가설 : 직업에 따라 입원기간에 차이가 있다.\n",
    "   \n",
    " - 분석 결론 : P.value (0.018) < 0.05 : 대립가설 참\n",
    "   - 통계 결론 : KruskalResult (statistic=8.027019236299163, pvalue=0.01806986549154815) 으로 대립가설 참\n",
    "   - 사실 결론 : 직업에 따라 입원기간에 차이가 있다."
   ]
  },
  {
   "cell_type": "markdown",
   "id": "b1de9731-5e38-4581-b6f4-f40488d319bd",
   "metadata": {},
   "source": [
    "#### 정규성 확인\n",
    " - 연속형인지 아닌지 확인\n",
    " - 5천개이하이므로 shapiro test 사용\n",
    " - statistic < cv(pvalue) : 정규 , statistic > cv(pvalue) : 비정규"
   ]
  },
  {
   "cell_type": "code",
   "execution_count": 7,
   "id": "2c27f720-2d6c-4ca3-87f6-ffe9a430eeae",
   "metadata": {
    "tags": []
   },
   "outputs": [
    {
     "data": {
      "text/plain": [
       "ShapiroResult(statistic=0.26717329025268555, pvalue=0.0)"
      ]
     },
     "execution_count": 7,
     "metadata": {},
     "output_type": "execute_result"
    }
   ],
   "source": [
    "stats.shapiro(df_ROS_SKY['입원기간'])\n",
    "\n",
    "##  statistic > cv 임으로 비정규"
   ]
  },
  {
   "cell_type": "markdown",
   "id": "e94ef428-5a2d-4919-9886-18aee01496fe",
   "metadata": {},
   "source": [
    "#### 비정규 분포\n",
    "- 직업은 범주형 3집단 이상 (kruskal 사용)\n",
    "- 입원기간이 가장 긴 top3만 비교\n",
    "- EDA에서 입원기간이 가장 긴 직업군 top3 추출"
   ]
  },
  {
   "cell_type": "code",
   "execution_count": 8,
   "id": "1d51eea5-f838-41e0-b447-b3ead09ff5d7",
   "metadata": {
    "tags": []
   },
   "outputs": [],
   "source": [
    "# 필터링, 추출 \n",
    "conditions = (df_ROS_SKY['직업']=='사무직') | (df_ROS_SKY['직업']=='무직') |(df_ROS_SKY['직업']=='자영업')\n",
    "conditions   \n",
    "df_job = df_ROS_SKY[conditions][['직업','입원기간']]       "
   ]
  },
  {
   "cell_type": "code",
   "execution_count": 9,
   "id": "70bf77d7-7273-4631-b4d4-b5c5a5bc2213",
   "metadata": {
    "tags": []
   },
   "outputs": [
    {
     "data": {
      "text/plain": [
       "직업      0\n",
       "입원기간    0\n",
       "dtype: int64"
      ]
     },
     "execution_count": 9,
     "metadata": {},
     "output_type": "execute_result"
    }
   ],
   "source": [
    "df_job.isnull().sum()"
   ]
  },
  {
   "cell_type": "code",
   "execution_count": 10,
   "id": "37df4f04-6f8b-4fc7-82da-44f3fc6e6a9c",
   "metadata": {
    "tags": []
   },
   "outputs": [
    {
     "data": {
      "text/html": [
       "<div>\n",
       "<style scoped>\n",
       "    .dataframe tbody tr th:only-of-type {\n",
       "        vertical-align: middle;\n",
       "    }\n",
       "\n",
       "    .dataframe tbody tr th {\n",
       "        vertical-align: top;\n",
       "    }\n",
       "\n",
       "    .dataframe thead th {\n",
       "        text-align: right;\n",
       "    }\n",
       "</style>\n",
       "<table border=\"1\" class=\"dataframe\">\n",
       "  <thead>\n",
       "    <tr style=\"text-align: right;\">\n",
       "      <th></th>\n",
       "      <th>직업</th>\n",
       "      <th>입원기간</th>\n",
       "    </tr>\n",
       "  </thead>\n",
       "  <tbody>\n",
       "    <tr>\n",
       "      <th>0</th>\n",
       "      <td>자영업</td>\n",
       "      <td>2</td>\n",
       "    </tr>\n",
       "    <tr>\n",
       "      <th>5</th>\n",
       "      <td>자영업</td>\n",
       "      <td>1</td>\n",
       "    </tr>\n",
       "  </tbody>\n",
       "</table>\n",
       "</div>"
      ],
      "text/plain": [
       "    직업  입원기간\n",
       "0  자영업     2\n",
       "5  자영업     1"
      ]
     },
     "execution_count": 10,
     "metadata": {},
     "output_type": "execute_result"
    }
   ],
   "source": [
    "df_job[:2]"
   ]
  },
  {
   "cell_type": "code",
   "execution_count": 11,
   "id": "d9936424-acc5-47f0-b393-964a9f55fffc",
   "metadata": {
    "tags": []
   },
   "outputs": [
    {
     "data": {
      "text/plain": [
       "['사무직', '자영업', '무직']"
      ]
     },
     "execution_count": 11,
     "metadata": {},
     "output_type": "execute_result"
    }
   ],
   "source": [
    "job_list = df_job['직업'].value_counts().index.to_list()\n",
    "job_list"
   ]
  },
  {
   "cell_type": "code",
   "execution_count": 12,
   "id": "3637a812-16e3-42c5-9469-aa7c2a93fd6e",
   "metadata": {
    "tags": []
   },
   "outputs": [],
   "source": [
    "df_result = [] # df_result =list()  # 각각 변수로 받아야하니깐 결과값을 list로 받음 \n",
    "for item in job_list :\n",
    "    condition = (df_job['직업'] == item )\n",
    "    df_result.append(df_job[condition]) "
   ]
  },
  {
   "cell_type": "code",
   "execution_count": 13,
   "id": "c3dd0ccf-8823-4a18-a8ee-c318200e00ca",
   "metadata": {
    "tags": []
   },
   "outputs": [
    {
     "data": {
      "text/plain": [
       "3"
      ]
     },
     "execution_count": 13,
     "metadata": {},
     "output_type": "execute_result"
    }
   ],
   "source": [
    "len(df_result)"
   ]
  },
  {
   "cell_type": "code",
   "execution_count": 14,
   "id": "5b9901f5-b211-4256-b927-106d69d30901",
   "metadata": {
    "tags": []
   },
   "outputs": [
    {
     "data": {
      "text/html": [
       "<div>\n",
       "<style scoped>\n",
       "    .dataframe tbody tr th:only-of-type {\n",
       "        vertical-align: middle;\n",
       "    }\n",
       "\n",
       "    .dataframe tbody tr th {\n",
       "        vertical-align: top;\n",
       "    }\n",
       "\n",
       "    .dataframe thead th {\n",
       "        text-align: right;\n",
       "    }\n",
       "</style>\n",
       "<table border=\"1\" class=\"dataframe\">\n",
       "  <thead>\n",
       "    <tr style=\"text-align: right;\">\n",
       "      <th></th>\n",
       "      <th>직업</th>\n",
       "      <th>입원기간</th>\n",
       "    </tr>\n",
       "  </thead>\n",
       "  <tbody>\n",
       "    <tr>\n",
       "      <th>13</th>\n",
       "      <td>사무직</td>\n",
       "      <td>1</td>\n",
       "    </tr>\n",
       "    <tr>\n",
       "      <th>17</th>\n",
       "      <td>사무직</td>\n",
       "      <td>1</td>\n",
       "    </tr>\n",
       "  </tbody>\n",
       "</table>\n",
       "</div>"
      ],
      "text/plain": [
       "     직업  입원기간\n",
       "13  사무직     1\n",
       "17  사무직     1"
      ]
     },
     "execution_count": 14,
     "metadata": {},
     "output_type": "execute_result"
    }
   ],
   "source": [
    "df_result[0][:2]"
   ]
  },
  {
   "cell_type": "code",
   "execution_count": 15,
   "id": "c319483d-6f05-49b7-ad05-d32228aaef44",
   "metadata": {
    "tags": []
   },
   "outputs": [
    {
     "data": {
      "text/plain": [
       "KruskalResult(statistic=8.027019236299163, pvalue=0.01806986549154815)"
      ]
     },
     "execution_count": 15,
     "metadata": {},
     "output_type": "execute_result"
    }
   ],
   "source": [
    "stats.kruskal(df_result[0]['입원기간'],df_result[1]['입원기간'],df_result[2]['입원기간'])\n",
    "\n",
    "## pvalue=0.018"
   ]
  },
  {
   "cell_type": "markdown",
   "id": "cd7b42bd-9f57-4463-bb61-5ab29ab0416e",
   "metadata": {
    "tags": []
   },
   "source": [
    "### 선정변수 : 당뇨여부, 입원기간 (범주형 / 연속형)\n",
    " - 분석내용 : 당뇨여부에 따라 입원기간에 차이가 있는가?\n",
    "   - 귀무가설 : 당뇨여부에 따라 입원기간에 차이가 없다.\n",
    "   - 대립가설 : 당뇨여부에 따라 입원기간에 차이가 있다.\n",
    "   \n",
    "   \n",
    " - 분석 결론 : P.value (0.5845..) > 0.05 : 귀무가설 참\n",
    "   - 통계 결론 : RanksumsResult (statistic=-0.5468233421912326, pvalue=0.5845001049511778) 으로 귀무가설 참\n",
    "   - 사실 결론 : 심혈관질환 여부에 따라 입원기간에 차이가 없다."
   ]
  },
  {
   "cell_type": "markdown",
   "id": "30852b09-ea74-4373-907d-845126f9fa65",
   "metadata": {},
   "source": [
    "#### 비정규 분포\n",
    "- 당뇨여부는 범주형 2집단 (ranksums 사용)"
   ]
  },
  {
   "cell_type": "code",
   "execution_count": 16,
   "id": "3cac3e9b-682e-4e65-9f46-2b4ea0059e5a",
   "metadata": {
    "tags": []
   },
   "outputs": [
    {
     "data": {
      "text/html": [
       "<div>\n",
       "<style scoped>\n",
       "    .dataframe tbody tr th:only-of-type {\n",
       "        vertical-align: middle;\n",
       "    }\n",
       "\n",
       "    .dataframe tbody tr th {\n",
       "        vertical-align: top;\n",
       "    }\n",
       "\n",
       "    .dataframe thead th {\n",
       "        text-align: right;\n",
       "    }\n",
       "</style>\n",
       "<table border=\"1\" class=\"dataframe\">\n",
       "  <thead>\n",
       "    <tr style=\"text-align: right;\">\n",
       "      <th></th>\n",
       "      <th>입원기간</th>\n",
       "      <th>직업</th>\n",
       "      <th>환자통증정도</th>\n",
       "      <th>통증기간(월)</th>\n",
       "      <th>당뇨여부</th>\n",
       "      <th>심혈관질환</th>\n",
       "      <th>암발병여부</th>\n",
       "    </tr>\n",
       "  </thead>\n",
       "  <tbody>\n",
       "    <tr>\n",
       "      <th>0</th>\n",
       "      <td>2</td>\n",
       "      <td>자영업</td>\n",
       "      <td>10</td>\n",
       "      <td>1.0</td>\n",
       "      <td>0</td>\n",
       "      <td>0</td>\n",
       "      <td>0</td>\n",
       "    </tr>\n",
       "    <tr>\n",
       "      <th>1</th>\n",
       "      <td>1</td>\n",
       "      <td>운동선수</td>\n",
       "      <td>10</td>\n",
       "      <td>1.0</td>\n",
       "      <td>0</td>\n",
       "      <td>0</td>\n",
       "      <td>0</td>\n",
       "    </tr>\n",
       "  </tbody>\n",
       "</table>\n",
       "</div>"
      ],
      "text/plain": [
       "   입원기간    직업  환자통증정도  통증기간(월) 당뇨여부 심혈관질환 암발병여부\n",
       "0     2   자영업      10      1.0    0     0     0\n",
       "1     1  운동선수      10      1.0    0     0     0"
      ]
     },
     "execution_count": 16,
     "metadata": {},
     "output_type": "execute_result"
    }
   ],
   "source": [
    "df_diabetes_no = df_ROS_SKY[df_ROS_SKY['당뇨여부'] == '0']\n",
    "df_diabetes_no[:2]"
   ]
  },
  {
   "cell_type": "code",
   "execution_count": 17,
   "id": "40e9f2bf-0456-4a55-865b-e65bce30f923",
   "metadata": {
    "tags": []
   },
   "outputs": [
    {
     "data": {
      "text/html": [
       "<div>\n",
       "<style scoped>\n",
       "    .dataframe tbody tr th:only-of-type {\n",
       "        vertical-align: middle;\n",
       "    }\n",
       "\n",
       "    .dataframe tbody tr th {\n",
       "        vertical-align: top;\n",
       "    }\n",
       "\n",
       "    .dataframe thead th {\n",
       "        text-align: right;\n",
       "    }\n",
       "</style>\n",
       "<table border=\"1\" class=\"dataframe\">\n",
       "  <thead>\n",
       "    <tr style=\"text-align: right;\">\n",
       "      <th></th>\n",
       "      <th>입원기간</th>\n",
       "      <th>직업</th>\n",
       "      <th>환자통증정도</th>\n",
       "      <th>통증기간(월)</th>\n",
       "      <th>당뇨여부</th>\n",
       "      <th>심혈관질환</th>\n",
       "      <th>암발병여부</th>\n",
       "    </tr>\n",
       "  </thead>\n",
       "  <tbody>\n",
       "    <tr>\n",
       "      <th>6</th>\n",
       "      <td>1</td>\n",
       "      <td>사업가</td>\n",
       "      <td>7</td>\n",
       "      <td>1.0</td>\n",
       "      <td>1</td>\n",
       "      <td>0</td>\n",
       "      <td>0</td>\n",
       "    </tr>\n",
       "    <tr>\n",
       "      <th>48</th>\n",
       "      <td>1</td>\n",
       "      <td>노동직</td>\n",
       "      <td>9</td>\n",
       "      <td>2.0</td>\n",
       "      <td>1</td>\n",
       "      <td>0</td>\n",
       "      <td>0</td>\n",
       "    </tr>\n",
       "  </tbody>\n",
       "</table>\n",
       "</div>"
      ],
      "text/plain": [
       "    입원기간   직업  환자통증정도  통증기간(월) 당뇨여부 심혈관질환 암발병여부\n",
       "6      1  사업가       7      1.0    1     0     0\n",
       "48     1  노동직       9      2.0    1     0     0"
      ]
     },
     "execution_count": 17,
     "metadata": {},
     "output_type": "execute_result"
    }
   ],
   "source": [
    "df_diabetes_yes = df_ROS_SKY[df_ROS_SKY['당뇨여부'] == '1']\n",
    "df_diabetes_yes[:2]"
   ]
  },
  {
   "cell_type": "code",
   "execution_count": 18,
   "id": "1c03a7ee-0330-48ab-8fdd-e4c81a77a47b",
   "metadata": {
    "tags": []
   },
   "outputs": [
    {
     "data": {
      "text/plain": [
       "RanksumsResult(statistic=-0.49946173660434934, pvalue=0.6174541361962949)"
      ]
     },
     "execution_count": 18,
     "metadata": {},
     "output_type": "execute_result"
    }
   ],
   "source": [
    "stats.ranksums(df_diabetes_no['입원기간'], df_diabetes_yes['입원기간'])"
   ]
  },
  {
   "cell_type": "markdown",
   "id": "2271a3e6-a6c7-4f4a-aff9-ccfc94a85372",
   "metadata": {
    "tags": []
   },
   "source": [
    "심혈관질환 여부에 따라 입원기간에 차이가 없다.### 선정변수 : 심혈관질환, 입원기간 (범주형 / 연속형)\n",
    " - 분석내용 : 심혈관질환 여부에 따라 입원기간에 차이가 있는가?\n",
    "   - 귀무가설 : 심혈관질환 여부에 따라 입원기간에 차이가 없다.\n",
    "   - 대립가설 : 심혈관질환 여부에 따라 입원기간에 차이가 있다.\n",
    "   \n",
    "   \n",
    " - 분석 결론 : P.value (0.617..) > 0.05 : 귀무가설 참\n",
    "   - 통계 결론 : RanksumsResult ( statistic=-0.49946173660434934, pvalue=0.6174541361962949) 으로 귀무가설 참\n",
    "   - 사실 결론 : 심혈관질환 여부에 따라 입원기간에 차이가 없다."
   ]
  },
  {
   "cell_type": "markdown",
   "id": "d2d19d29-5d8a-4846-b22a-2c8c556c2d88",
   "metadata": {},
   "source": [
    "#### 비정규 분포\n",
    "- 심혈관 질환 여부는 범주형 2집단 (ranksums 사용)"
   ]
  },
  {
   "cell_type": "code",
   "execution_count": 19,
   "id": "00576664-7911-4e74-8f23-d0783855db3d",
   "metadata": {
    "tags": []
   },
   "outputs": [
    {
     "data": {
      "text/html": [
       "<div>\n",
       "<style scoped>\n",
       "    .dataframe tbody tr th:only-of-type {\n",
       "        vertical-align: middle;\n",
       "    }\n",
       "\n",
       "    .dataframe tbody tr th {\n",
       "        vertical-align: top;\n",
       "    }\n",
       "\n",
       "    .dataframe thead th {\n",
       "        text-align: right;\n",
       "    }\n",
       "</style>\n",
       "<table border=\"1\" class=\"dataframe\">\n",
       "  <thead>\n",
       "    <tr style=\"text-align: right;\">\n",
       "      <th></th>\n",
       "      <th>입원기간</th>\n",
       "      <th>직업</th>\n",
       "      <th>환자통증정도</th>\n",
       "      <th>통증기간(월)</th>\n",
       "      <th>당뇨여부</th>\n",
       "      <th>심혈관질환</th>\n",
       "      <th>암발병여부</th>\n",
       "    </tr>\n",
       "  </thead>\n",
       "  <tbody>\n",
       "    <tr>\n",
       "      <th>0</th>\n",
       "      <td>2</td>\n",
       "      <td>자영업</td>\n",
       "      <td>10</td>\n",
       "      <td>1.0</td>\n",
       "      <td>0</td>\n",
       "      <td>0</td>\n",
       "      <td>0</td>\n",
       "    </tr>\n",
       "    <tr>\n",
       "      <th>1</th>\n",
       "      <td>1</td>\n",
       "      <td>운동선수</td>\n",
       "      <td>10</td>\n",
       "      <td>1.0</td>\n",
       "      <td>0</td>\n",
       "      <td>0</td>\n",
       "      <td>0</td>\n",
       "    </tr>\n",
       "  </tbody>\n",
       "</table>\n",
       "</div>"
      ],
      "text/plain": [
       "   입원기간    직업  환자통증정도  통증기간(월) 당뇨여부 심혈관질환 암발병여부\n",
       "0     2   자영업      10      1.0    0     0     0\n",
       "1     1  운동선수      10      1.0    0     0     0"
      ]
     },
     "execution_count": 19,
     "metadata": {},
     "output_type": "execute_result"
    }
   ],
   "source": [
    "df_disease_no = df_ROS_SKY[df_ROS_SKY['심혈관질환'] == '0']\n",
    "df_disease_no[:2]"
   ]
  },
  {
   "cell_type": "code",
   "execution_count": 20,
   "id": "86cc4735-6689-470a-8ac2-b1a60956eed2",
   "metadata": {
    "tags": []
   },
   "outputs": [
    {
     "data": {
      "text/html": [
       "<div>\n",
       "<style scoped>\n",
       "    .dataframe tbody tr th:only-of-type {\n",
       "        vertical-align: middle;\n",
       "    }\n",
       "\n",
       "    .dataframe tbody tr th {\n",
       "        vertical-align: top;\n",
       "    }\n",
       "\n",
       "    .dataframe thead th {\n",
       "        text-align: right;\n",
       "    }\n",
       "</style>\n",
       "<table border=\"1\" class=\"dataframe\">\n",
       "  <thead>\n",
       "    <tr style=\"text-align: right;\">\n",
       "      <th></th>\n",
       "      <th>입원기간</th>\n",
       "      <th>직업</th>\n",
       "      <th>환자통증정도</th>\n",
       "      <th>통증기간(월)</th>\n",
       "      <th>당뇨여부</th>\n",
       "      <th>심혈관질환</th>\n",
       "      <th>암발병여부</th>\n",
       "    </tr>\n",
       "  </thead>\n",
       "  <tbody>\n",
       "    <tr>\n",
       "      <th>13</th>\n",
       "      <td>1</td>\n",
       "      <td>사무직</td>\n",
       "      <td>7</td>\n",
       "      <td>1.0</td>\n",
       "      <td>0</td>\n",
       "      <td>1</td>\n",
       "      <td>0</td>\n",
       "    </tr>\n",
       "    <tr>\n",
       "      <th>28</th>\n",
       "      <td>2</td>\n",
       "      <td>주부</td>\n",
       "      <td>1</td>\n",
       "      <td>1.0</td>\n",
       "      <td>0</td>\n",
       "      <td>1</td>\n",
       "      <td>0</td>\n",
       "    </tr>\n",
       "  </tbody>\n",
       "</table>\n",
       "</div>"
      ],
      "text/plain": [
       "    입원기간   직업  환자통증정도  통증기간(월) 당뇨여부 심혈관질환 암발병여부\n",
       "13     1  사무직       7      1.0    0     1     0\n",
       "28     2   주부       1      1.0    0     1     0"
      ]
     },
     "execution_count": 20,
     "metadata": {},
     "output_type": "execute_result"
    }
   ],
   "source": [
    "df_disease_yes = df_ROS_SKY[df_ROS_SKY['심혈관질환'] == '1']\n",
    "df_disease_yes[:2]"
   ]
  },
  {
   "cell_type": "code",
   "execution_count": 21,
   "id": "43a78c78-b225-4791-977d-ec7e40ed0942",
   "metadata": {
    "tags": []
   },
   "outputs": [
    {
     "data": {
      "text/plain": [
       "RanksumsResult(statistic=-0.5468233421912326, pvalue=0.5845001049511778)"
      ]
     },
     "execution_count": 21,
     "metadata": {},
     "output_type": "execute_result"
    }
   ],
   "source": [
    "stats.ranksums(df_disease_no['입원기간'], df_disease_yes['입원기간'])"
   ]
  },
  {
   "cell_type": "markdown",
   "id": "c0cfc38d-6290-4e30-8eb9-cf1084273d25",
   "metadata": {
    "tags": []
   },
   "source": [
    "### 선정변수 : 암발병여부, 입원기간 (범주형 / 연속형)\n",
    " - 분석내용 : 암발병 여부에 따라 입원기간에 차이가 있는가?\n",
    "   - 귀무가설 : 암발병 여부에 따라 입원기간에 차이가 없다.\n",
    "   - 대립가설 : 암발병 여부에 따라 입원기간에 차이가 있다.\n",
    "   \n",
    "   \n",
    " - 분석 결론 : P.value (0.6588..) > 0.05 : 귀무가설 참\n",
    "   - 통계 결론 :RanksumsResult ( statistic=0.441443197482847, pvalue=0.6588921751871459 )으로 귀무가설 참\n",
    "   - 사실 결론 : 암발병 여부에 따라 입원기간에 차이가 없다."
   ]
  },
  {
   "cell_type": "markdown",
   "id": "f8ae5368-d7e0-4a44-8393-7d9715e02d70",
   "metadata": {},
   "source": [
    "#### 비정규 분포\n",
    "- 암발병 여부는 범주형 2집단 (ranksums 사용)"
   ]
  },
  {
   "cell_type": "code",
   "execution_count": 22,
   "id": "7f84d545-8651-44ce-b763-ec4122d340aa",
   "metadata": {
    "tags": []
   },
   "outputs": [
    {
     "data": {
      "text/html": [
       "<div>\n",
       "<style scoped>\n",
       "    .dataframe tbody tr th:only-of-type {\n",
       "        vertical-align: middle;\n",
       "    }\n",
       "\n",
       "    .dataframe tbody tr th {\n",
       "        vertical-align: top;\n",
       "    }\n",
       "\n",
       "    .dataframe thead th {\n",
       "        text-align: right;\n",
       "    }\n",
       "</style>\n",
       "<table border=\"1\" class=\"dataframe\">\n",
       "  <thead>\n",
       "    <tr style=\"text-align: right;\">\n",
       "      <th></th>\n",
       "      <th>입원기간</th>\n",
       "      <th>직업</th>\n",
       "      <th>환자통증정도</th>\n",
       "      <th>통증기간(월)</th>\n",
       "      <th>당뇨여부</th>\n",
       "      <th>심혈관질환</th>\n",
       "      <th>암발병여부</th>\n",
       "    </tr>\n",
       "  </thead>\n",
       "  <tbody>\n",
       "    <tr>\n",
       "      <th>0</th>\n",
       "      <td>2</td>\n",
       "      <td>자영업</td>\n",
       "      <td>10</td>\n",
       "      <td>1.0</td>\n",
       "      <td>0</td>\n",
       "      <td>0</td>\n",
       "      <td>0</td>\n",
       "    </tr>\n",
       "    <tr>\n",
       "      <th>1</th>\n",
       "      <td>1</td>\n",
       "      <td>운동선수</td>\n",
       "      <td>10</td>\n",
       "      <td>1.0</td>\n",
       "      <td>0</td>\n",
       "      <td>0</td>\n",
       "      <td>0</td>\n",
       "    </tr>\n",
       "  </tbody>\n",
       "</table>\n",
       "</div>"
      ],
      "text/plain": [
       "   입원기간    직업  환자통증정도  통증기간(월) 당뇨여부 심혈관질환 암발병여부\n",
       "0     2   자영업      10      1.0    0     0     0\n",
       "1     1  운동선수      10      1.0    0     0     0"
      ]
     },
     "execution_count": 22,
     "metadata": {},
     "output_type": "execute_result"
    }
   ],
   "source": [
    "df_cancer_no = df_ROS_SKY[df_ROS_SKY['암발병여부'] == '0']\n",
    "df_cancer_no[:2]"
   ]
  },
  {
   "cell_type": "code",
   "execution_count": 23,
   "id": "18cfe553-3e65-4472-a192-7780539841fc",
   "metadata": {
    "tags": []
   },
   "outputs": [
    {
     "data": {
      "text/html": [
       "<div>\n",
       "<style scoped>\n",
       "    .dataframe tbody tr th:only-of-type {\n",
       "        vertical-align: middle;\n",
       "    }\n",
       "\n",
       "    .dataframe tbody tr th {\n",
       "        vertical-align: top;\n",
       "    }\n",
       "\n",
       "    .dataframe thead th {\n",
       "        text-align: right;\n",
       "    }\n",
       "</style>\n",
       "<table border=\"1\" class=\"dataframe\">\n",
       "  <thead>\n",
       "    <tr style=\"text-align: right;\">\n",
       "      <th></th>\n",
       "      <th>입원기간</th>\n",
       "      <th>직업</th>\n",
       "      <th>환자통증정도</th>\n",
       "      <th>통증기간(월)</th>\n",
       "      <th>당뇨여부</th>\n",
       "      <th>심혈관질환</th>\n",
       "      <th>암발병여부</th>\n",
       "    </tr>\n",
       "  </thead>\n",
       "  <tbody>\n",
       "    <tr>\n",
       "      <th>53</th>\n",
       "      <td>1</td>\n",
       "      <td>사무직</td>\n",
       "      <td>8</td>\n",
       "      <td>2.0</td>\n",
       "      <td>0</td>\n",
       "      <td>0</td>\n",
       "      <td>1</td>\n",
       "    </tr>\n",
       "    <tr>\n",
       "      <th>172</th>\n",
       "      <td>1</td>\n",
       "      <td>사무직</td>\n",
       "      <td>7</td>\n",
       "      <td>1.0</td>\n",
       "      <td>0</td>\n",
       "      <td>0</td>\n",
       "      <td>1</td>\n",
       "    </tr>\n",
       "  </tbody>\n",
       "</table>\n",
       "</div>"
      ],
      "text/plain": [
       "     입원기간   직업  환자통증정도  통증기간(월) 당뇨여부 심혈관질환 암발병여부\n",
       "53      1  사무직       8      2.0    0     0     1\n",
       "172     1  사무직       7      1.0    0     0     1"
      ]
     },
     "execution_count": 23,
     "metadata": {},
     "output_type": "execute_result"
    }
   ],
   "source": [
    "df_cancer_yes = df_ROS_SKY[df_ROS_SKY['암발병여부'] == '1']\n",
    "df_cancer_yes[:2]"
   ]
  },
  {
   "cell_type": "code",
   "execution_count": 24,
   "id": "751ecb60-6db1-42fd-8668-a9731f17caef",
   "metadata": {
    "tags": []
   },
   "outputs": [
    {
     "data": {
      "text/plain": [
       "RanksumsResult(statistic=0.441443197482847, pvalue=0.6588921751871459)"
      ]
     },
     "execution_count": 24,
     "metadata": {},
     "output_type": "execute_result"
    }
   ],
   "source": [
    "stats.ranksums(df_cancer_no['입원기간'], df_cancer_yes['입원기간'])"
   ]
  },
  {
   "cell_type": "markdown",
   "id": "081e1ddc-84c0-4731-be42-04bfad040c15",
   "metadata": {
    "tags": []
   },
   "source": [
    "### 선정변수 : 환자통증정도, 입원기간 (연속형 / 연속형)\n",
    " - 분석내용 : 환자통증정도에 따라 입원기간에 차이가 있는가?\n",
    "   - 귀무가설 : 환자통증정도에 따라 입원기간에 차이가 없다.\n",
    "   - 대립가설 : 환자통증정도에 따라 입원기간에 차이가 있다.\n",
    "   \n",
    "   \n",
    " - 분석 결론 : P.value (2.9801..) > 0.05 : 귀무가설 참\n",
    "   - 통계 결론 : SignificanceResult (statistic=0.11113604321433544, pvalue=2.98011860590608e-05) 으로 귀무가설 참\n",
    "   - 사실 결론 : 환자 통증 정도는 입원기간에 영향을 주지 않는다."
   ]
  },
  {
   "cell_type": "markdown",
   "id": "7cf5c380-c970-4976-84d7-4caa0c7763a8",
   "metadata": {},
   "source": [
    "#### 비정규 분포 / 상관관계 확인\n",
    "- 연속형/연속형의 비정규 분포이므로 spearmanr 사용\n",
    "- correlation coefficient(상관계수)\n",
    "   - 1 ~ 1\n",
    "   - 0에 가까우면 관계없음, -1로 갈수록 반비례, 1로 갈수로 정비례"
   ]
  },
  {
   "cell_type": "code",
   "execution_count": 26,
   "id": "f87d06a6-c828-47cc-a502-86647ccfc30b",
   "metadata": {},
   "outputs": [
    {
     "data": {
      "text/html": [
       "<div>\n",
       "<style scoped>\n",
       "    .dataframe tbody tr th:only-of-type {\n",
       "        vertical-align: middle;\n",
       "    }\n",
       "\n",
       "    .dataframe tbody tr th {\n",
       "        vertical-align: top;\n",
       "    }\n",
       "\n",
       "    .dataframe thead th {\n",
       "        text-align: right;\n",
       "    }\n",
       "</style>\n",
       "<table border=\"1\" class=\"dataframe\">\n",
       "  <thead>\n",
       "    <tr style=\"text-align: right;\">\n",
       "      <th></th>\n",
       "      <th>환자통증정도</th>\n",
       "      <th>입원기간</th>\n",
       "    </tr>\n",
       "  </thead>\n",
       "  <tbody>\n",
       "    <tr>\n",
       "      <th>count</th>\n",
       "      <td>1405.000000</td>\n",
       "      <td>1405.000000</td>\n",
       "    </tr>\n",
       "    <tr>\n",
       "      <th>mean</th>\n",
       "      <td>6.921708</td>\n",
       "      <td>1.720285</td>\n",
       "    </tr>\n",
       "    <tr>\n",
       "      <th>std</th>\n",
       "      <td>2.036593</td>\n",
       "      <td>2.218973</td>\n",
       "    </tr>\n",
       "    <tr>\n",
       "      <th>min</th>\n",
       "      <td>1.000000</td>\n",
       "      <td>0.000000</td>\n",
       "    </tr>\n",
       "    <tr>\n",
       "      <th>25%</th>\n",
       "      <td>7.000000</td>\n",
       "      <td>1.000000</td>\n",
       "    </tr>\n",
       "    <tr>\n",
       "      <th>50%</th>\n",
       "      <td>7.000000</td>\n",
       "      <td>1.000000</td>\n",
       "    </tr>\n",
       "    <tr>\n",
       "      <th>75%</th>\n",
       "      <td>8.000000</td>\n",
       "      <td>2.000000</td>\n",
       "    </tr>\n",
       "    <tr>\n",
       "      <th>max</th>\n",
       "      <td>10.000000</td>\n",
       "      <td>46.000000</td>\n",
       "    </tr>\n",
       "  </tbody>\n",
       "</table>\n",
       "</div>"
      ],
      "text/plain": [
       "            환자통증정도         입원기간\n",
       "count  1405.000000  1405.000000\n",
       "mean      6.921708     1.720285\n",
       "std       2.036593     2.218973\n",
       "min       1.000000     0.000000\n",
       "25%       7.000000     1.000000\n",
       "50%       7.000000     1.000000\n",
       "75%       8.000000     2.000000\n",
       "max      10.000000    46.000000"
      ]
     },
     "execution_count": 26,
     "metadata": {},
     "output_type": "execute_result"
    }
   ],
   "source": [
    "df_ROS_SKY[['환자통증정도','입원기간']].describe()"
   ]
  },
  {
   "cell_type": "code",
   "execution_count": 27,
   "id": "45f11269-94e0-4bff-b500-7972cf422cb6",
   "metadata": {
    "tags": []
   },
   "outputs": [
    {
     "data": {
      "text/html": [
       "<div>\n",
       "<style scoped>\n",
       "    .dataframe tbody tr th:only-of-type {\n",
       "        vertical-align: middle;\n",
       "    }\n",
       "\n",
       "    .dataframe tbody tr th {\n",
       "        vertical-align: top;\n",
       "    }\n",
       "\n",
       "    .dataframe thead th {\n",
       "        text-align: right;\n",
       "    }\n",
       "</style>\n",
       "<table border=\"1\" class=\"dataframe\">\n",
       "  <thead>\n",
       "    <tr style=\"text-align: right;\">\n",
       "      <th></th>\n",
       "      <th>환자통증정도</th>\n",
       "      <th>입원기간</th>\n",
       "    </tr>\n",
       "  </thead>\n",
       "  <tbody>\n",
       "    <tr>\n",
       "      <th>0</th>\n",
       "      <td>10</td>\n",
       "      <td>2</td>\n",
       "    </tr>\n",
       "    <tr>\n",
       "      <th>1</th>\n",
       "      <td>10</td>\n",
       "      <td>1</td>\n",
       "    </tr>\n",
       "  </tbody>\n",
       "</table>\n",
       "</div>"
      ],
      "text/plain": [
       "   환자통증정도  입원기간\n",
       "0      10     2\n",
       "1      10     1"
      ]
     },
     "execution_count": 27,
     "metadata": {},
     "output_type": "execute_result"
    }
   ],
   "source": [
    "df_ROS_pain = df_ROS_SKY[['환자통증정도','입원기간']]\n",
    "df_ROS_pain[:2]"
   ]
  },
  {
   "cell_type": "code",
   "execution_count": 28,
   "id": "c36c3c1d-68ab-4b9f-9bd4-6493d44cdbaf",
   "metadata": {
    "tags": []
   },
   "outputs": [
    {
     "data": {
      "text/plain": [
       "환자통증정도    0\n",
       "입원기간      0\n",
       "dtype: int64"
      ]
     },
     "execution_count": 28,
     "metadata": {},
     "output_type": "execute_result"
    }
   ],
   "source": [
    "df_ROS_pain.isnull().sum()"
   ]
  },
  {
   "cell_type": "code",
   "execution_count": 29,
   "id": "4de26042-0603-45d4-b3bf-874229736b0d",
   "metadata": {
    "tags": []
   },
   "outputs": [
    {
     "data": {
      "text/html": [
       "<div>\n",
       "<style scoped>\n",
       "    .dataframe tbody tr th:only-of-type {\n",
       "        vertical-align: middle;\n",
       "    }\n",
       "\n",
       "    .dataframe tbody tr th {\n",
       "        vertical-align: top;\n",
       "    }\n",
       "\n",
       "    .dataframe thead th {\n",
       "        text-align: right;\n",
       "    }\n",
       "</style>\n",
       "<table border=\"1\" class=\"dataframe\">\n",
       "  <thead>\n",
       "    <tr style=\"text-align: right;\">\n",
       "      <th></th>\n",
       "      <th>환자통증정도</th>\n",
       "      <th>입원기간</th>\n",
       "    </tr>\n",
       "  </thead>\n",
       "  <tbody>\n",
       "    <tr>\n",
       "      <th>환자통증정도</th>\n",
       "      <td>1.000000</td>\n",
       "      <td>0.065286</td>\n",
       "    </tr>\n",
       "    <tr>\n",
       "      <th>입원기간</th>\n",
       "      <td>0.065286</td>\n",
       "      <td>1.000000</td>\n",
       "    </tr>\n",
       "  </tbody>\n",
       "</table>\n",
       "</div>"
      ],
      "text/plain": [
       "          환자통증정도      입원기간\n",
       "환자통증정도  1.000000  0.065286\n",
       "입원기간    0.065286  1.000000"
      ]
     },
     "execution_count": 29,
     "metadata": {},
     "output_type": "execute_result"
    }
   ],
   "source": [
    "df_ROS_pain.corr()"
   ]
  },
  {
   "cell_type": "code",
   "execution_count": 38,
   "id": "5ed61bb7-bd4b-4947-988f-ff845d94c6aa",
   "metadata": {
    "tags": []
   },
   "outputs": [
    {
     "data": {
      "text/plain": [
       "SignificanceResult(statistic=0.11113604321433544, pvalue=2.98011860590608e-05)"
      ]
     },
     "execution_count": 38,
     "metadata": {},
     "output_type": "execute_result"
    }
   ],
   "source": [
    "stats.spearmanr(df_ROS_pain['환자통증정도'],df_ROS_pain['입원기간'] )"
   ]
  },
  {
   "cell_type": "markdown",
   "id": "5bb0cae3-36fc-4f9b-8d49-fce00deef0a5",
   "metadata": {
    "tags": []
   },
   "source": [
    "### 선정변수 : 통증기간(월), 입원기간 (연속형 / 연속형)\n",
    " - 분석내용 : 통증기간(월)에 따라 입원기간에 차이가 있는가?\n",
    "   - 귀무가설 : 통증기간(월)에 따라 입원기간에 차이가 없다.\n",
    "   - 대립가설 : 통증기간(월)에 따라 입원기간에 차이가 있다.\n",
    "   \n",
    "   \n",
    " - 분석 결론 : P.value (0.6342..) > 0.05 : 귀무가설 참\n",
    "   - 통계 결론 : SignificanceResult(statistic=-0.012704260728858722, pvalue=0.6342216040613013) 으로 귀무가설 참\n",
    "   - 사실 결론 : 통증기간(월)은 입원기간에 영향을 주지 않는다."
   ]
  },
  {
   "cell_type": "code",
   "execution_count": 32,
   "id": "df989853-c709-48ff-b6cf-587136296b6b",
   "metadata": {
    "tags": []
   },
   "outputs": [
    {
     "data": {
      "text/html": [
       "<div>\n",
       "<style scoped>\n",
       "    .dataframe tbody tr th:only-of-type {\n",
       "        vertical-align: middle;\n",
       "    }\n",
       "\n",
       "    .dataframe tbody tr th {\n",
       "        vertical-align: top;\n",
       "    }\n",
       "\n",
       "    .dataframe thead th {\n",
       "        text-align: right;\n",
       "    }\n",
       "</style>\n",
       "<table border=\"1\" class=\"dataframe\">\n",
       "  <thead>\n",
       "    <tr style=\"text-align: right;\">\n",
       "      <th></th>\n",
       "      <th>통증기간(월)</th>\n",
       "      <th>입원기간</th>\n",
       "    </tr>\n",
       "  </thead>\n",
       "  <tbody>\n",
       "    <tr>\n",
       "      <th>count</th>\n",
       "      <td>1405.000000</td>\n",
       "      <td>1405.000000</td>\n",
       "    </tr>\n",
       "    <tr>\n",
       "      <th>mean</th>\n",
       "      <td>6.372811</td>\n",
       "      <td>1.720285</td>\n",
       "    </tr>\n",
       "    <tr>\n",
       "      <th>std</th>\n",
       "      <td>18.651710</td>\n",
       "      <td>2.218973</td>\n",
       "    </tr>\n",
       "    <tr>\n",
       "      <th>min</th>\n",
       "      <td>0.000000</td>\n",
       "      <td>0.000000</td>\n",
       "    </tr>\n",
       "    <tr>\n",
       "      <th>25%</th>\n",
       "      <td>1.000000</td>\n",
       "      <td>1.000000</td>\n",
       "    </tr>\n",
       "    <tr>\n",
       "      <th>50%</th>\n",
       "      <td>2.000000</td>\n",
       "      <td>1.000000</td>\n",
       "    </tr>\n",
       "    <tr>\n",
       "      <th>75%</th>\n",
       "      <td>5.000000</td>\n",
       "      <td>2.000000</td>\n",
       "    </tr>\n",
       "    <tr>\n",
       "      <th>max</th>\n",
       "      <td>360.000000</td>\n",
       "      <td>46.000000</td>\n",
       "    </tr>\n",
       "  </tbody>\n",
       "</table>\n",
       "</div>"
      ],
      "text/plain": [
       "           통증기간(월)         입원기간\n",
       "count  1405.000000  1405.000000\n",
       "mean      6.372811     1.720285\n",
       "std      18.651710     2.218973\n",
       "min       0.000000     0.000000\n",
       "25%       1.000000     1.000000\n",
       "50%       2.000000     1.000000\n",
       "75%       5.000000     2.000000\n",
       "max     360.000000    46.000000"
      ]
     },
     "execution_count": 32,
     "metadata": {},
     "output_type": "execute_result"
    }
   ],
   "source": [
    "df_ROS_SKY[['통증기간(월)','입원기간']].describe()"
   ]
  },
  {
   "cell_type": "code",
   "execution_count": 33,
   "id": "ab014f07-e2ed-4854-8ca1-d6a6d85ea362",
   "metadata": {
    "tags": []
   },
   "outputs": [
    {
     "data": {
      "text/html": [
       "<div>\n",
       "<style scoped>\n",
       "    .dataframe tbody tr th:only-of-type {\n",
       "        vertical-align: middle;\n",
       "    }\n",
       "\n",
       "    .dataframe tbody tr th {\n",
       "        vertical-align: top;\n",
       "    }\n",
       "\n",
       "    .dataframe thead th {\n",
       "        text-align: right;\n",
       "    }\n",
       "</style>\n",
       "<table border=\"1\" class=\"dataframe\">\n",
       "  <thead>\n",
       "    <tr style=\"text-align: right;\">\n",
       "      <th></th>\n",
       "      <th>통증기간(월)</th>\n",
       "      <th>입원기간</th>\n",
       "    </tr>\n",
       "  </thead>\n",
       "  <tbody>\n",
       "    <tr>\n",
       "      <th>0</th>\n",
       "      <td>1.0</td>\n",
       "      <td>2</td>\n",
       "    </tr>\n",
       "    <tr>\n",
       "      <th>1</th>\n",
       "      <td>1.0</td>\n",
       "      <td>1</td>\n",
       "    </tr>\n",
       "  </tbody>\n",
       "</table>\n",
       "</div>"
      ],
      "text/plain": [
       "   통증기간(월)  입원기간\n",
       "0      1.0     2\n",
       "1      1.0     1"
      ]
     },
     "execution_count": 33,
     "metadata": {},
     "output_type": "execute_result"
    }
   ],
   "source": [
    "df_ROS_term = df_ROS_SKY[['통증기간(월)','입원기간']]\n",
    "df_ROS_term[:2]"
   ]
  },
  {
   "cell_type": "code",
   "execution_count": 34,
   "id": "3c7abaf0-8bb7-48f0-bb0f-2e5c2957afa5",
   "metadata": {
    "tags": []
   },
   "outputs": [
    {
     "data": {
      "text/plain": [
       "통증기간(월)    0\n",
       "입원기간       0\n",
       "dtype: int64"
      ]
     },
     "execution_count": 34,
     "metadata": {},
     "output_type": "execute_result"
    }
   ],
   "source": [
    "df_ROS_term.isnull().sum()"
   ]
  },
  {
   "cell_type": "code",
   "execution_count": 35,
   "id": "53b36c07-d5c2-4ed3-aba1-435b9d92608b",
   "metadata": {
    "tags": []
   },
   "outputs": [
    {
     "data": {
      "text/html": [
       "<div>\n",
       "<style scoped>\n",
       "    .dataframe tbody tr th:only-of-type {\n",
       "        vertical-align: middle;\n",
       "    }\n",
       "\n",
       "    .dataframe tbody tr th {\n",
       "        vertical-align: top;\n",
       "    }\n",
       "\n",
       "    .dataframe thead th {\n",
       "        text-align: right;\n",
       "    }\n",
       "</style>\n",
       "<table border=\"1\" class=\"dataframe\">\n",
       "  <thead>\n",
       "    <tr style=\"text-align: right;\">\n",
       "      <th></th>\n",
       "      <th>통증기간(월)</th>\n",
       "      <th>입원기간</th>\n",
       "    </tr>\n",
       "  </thead>\n",
       "  <tbody>\n",
       "    <tr>\n",
       "      <th>통증기간(월)</th>\n",
       "      <td>1.000000</td>\n",
       "      <td>-0.006738</td>\n",
       "    </tr>\n",
       "    <tr>\n",
       "      <th>입원기간</th>\n",
       "      <td>-0.006738</td>\n",
       "      <td>1.000000</td>\n",
       "    </tr>\n",
       "  </tbody>\n",
       "</table>\n",
       "</div>"
      ],
      "text/plain": [
       "          통증기간(월)      입원기간\n",
       "통증기간(월)  1.000000 -0.006738\n",
       "입원기간    -0.006738  1.000000"
      ]
     },
     "execution_count": 35,
     "metadata": {},
     "output_type": "execute_result"
    }
   ],
   "source": [
    "df_ROS_term.corr()"
   ]
  },
  {
   "cell_type": "code",
   "execution_count": 37,
   "id": "b66d6d7e-6c6a-47ef-8fc0-eb2ed8d25860",
   "metadata": {
    "tags": []
   },
   "outputs": [
    {
     "data": {
      "text/plain": [
       "SignificanceResult(statistic=-0.012704260728858722, pvalue=0.6342216040613013)"
      ]
     },
     "execution_count": 37,
     "metadata": {},
     "output_type": "execute_result"
    }
   ],
   "source": [
    "stats.spearmanr(df_ROS_term['통증기간(월)'],df_ROS_term['입원기간'] )"
   ]
  }
 ],
 "metadata": {
  "kernelspec": {
   "display_name": "Python 3 (ipykernel)",
   "language": "python",
   "name": "python3"
  },
  "language_info": {
   "codemirror_mode": {
    "name": "ipython",
    "version": 3
   },
   "file_extension": ".py",
   "mimetype": "text/x-python",
   "name": "python",
   "nbconvert_exporter": "python",
   "pygments_lexer": "ipython3",
   "version": "3.11.3"
  }
 },
 "nbformat": 4,
 "nbformat_minor": 5
}
